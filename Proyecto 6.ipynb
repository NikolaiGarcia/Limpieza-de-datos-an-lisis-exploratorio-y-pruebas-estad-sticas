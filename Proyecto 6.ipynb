{
 "cells": [
  {
   "cell_type": "markdown",
   "metadata": {},
   "source": [
    "# Proyecto 6"
   ]
  },
  {
   "cell_type": "code",
   "execution_count": 1,
   "metadata": {},
   "outputs": [],
   "source": [
    "import pandas as pd\n",
    "import numpy as np"
   ]
  },
  {
   "cell_type": "markdown",
   "metadata": {},
   "source": [
    "### Descripción de datos\n",
    "- Name (Nombre)\n",
    "\n",
    "- Platform (Plataforma)\n",
    "\n",
    "- Year_of_Release (Año de lanzamiento)\n",
    "\n",
    "- Genre (Género) \n",
    "\n",
    "- NA_sales (ventas en Norteamérica en millones de dólares estadounidenses) \n",
    "\n",
    "- EU_sales (ventas en Europa en millones de dólares estadounidenses) \n",
    "\n",
    "- JP_sales (ventas en Japón en millones de dólares estadounidenses) \n",
    "\n",
    "- Other_sales (ventas en otros países en millones de dólares estadounidenses) \n",
    "\n",
    "- Critic_Score (máximo de 100) \n",
    "\n",
    "- User_Score (máximo de 10) \n",
    "\n",
    "- Rating (ESRB)\n",
    "\n",
    "Es posible que los datos de 2016 estén incompletos."
   ]
  },
  {
   "cell_type": "markdown",
   "metadata": {},
   "source": [
    "### Instrucciones para completar el proyecto"
   ]
  },
  {
   "cell_type": "markdown",
   "metadata": {},
   "source": [
    "### Paso 1. Abre el archivo de datos y estudia la información general \n",
    "\n",
    "Ruta de archivo:\n",
    "\n",
    "/datasets/games.csv"
   ]
  },
  {
   "cell_type": "code",
   "execution_count": 2,
   "metadata": {},
   "outputs": [
    {
     "ename": "FileNotFoundError",
     "evalue": "[Errno 2] No such file or directory: 'datasets/games.csv'",
     "output_type": "error",
     "traceback": [
      "\u001b[1;31m---------------------------------------------------------------------------\u001b[0m",
      "\u001b[1;31mFileNotFoundError\u001b[0m                         Traceback (most recent call last)",
      "Cell \u001b[1;32mIn[2], line 1\u001b[0m\n\u001b[1;32m----> 1\u001b[0m df \u001b[38;5;241m=\u001b[39m \u001b[43mpd\u001b[49m\u001b[38;5;241;43m.\u001b[39;49m\u001b[43mread_csv\u001b[49m\u001b[43m(\u001b[49m\u001b[38;5;124;43m\"\u001b[39;49m\u001b[38;5;124;43mdatasets/games.csv\u001b[39;49m\u001b[38;5;124;43m\"\u001b[39;49m\u001b[43m)\u001b[49m\n",
      "File \u001b[1;32mc:\\Users\\nikol\\AppData\\Local\\Programs\\Python\\Python313\\Lib\\site-packages\\pandas\\io\\parsers\\readers.py:1026\u001b[0m, in \u001b[0;36mread_csv\u001b[1;34m(filepath_or_buffer, sep, delimiter, header, names, index_col, usecols, dtype, engine, converters, true_values, false_values, skipinitialspace, skiprows, skipfooter, nrows, na_values, keep_default_na, na_filter, verbose, skip_blank_lines, parse_dates, infer_datetime_format, keep_date_col, date_parser, date_format, dayfirst, cache_dates, iterator, chunksize, compression, thousands, decimal, lineterminator, quotechar, quoting, doublequote, escapechar, comment, encoding, encoding_errors, dialect, on_bad_lines, delim_whitespace, low_memory, memory_map, float_precision, storage_options, dtype_backend)\u001b[0m\n\u001b[0;32m   1013\u001b[0m kwds_defaults \u001b[38;5;241m=\u001b[39m _refine_defaults_read(\n\u001b[0;32m   1014\u001b[0m     dialect,\n\u001b[0;32m   1015\u001b[0m     delimiter,\n\u001b[1;32m   (...)\u001b[0m\n\u001b[0;32m   1022\u001b[0m     dtype_backend\u001b[38;5;241m=\u001b[39mdtype_backend,\n\u001b[0;32m   1023\u001b[0m )\n\u001b[0;32m   1024\u001b[0m kwds\u001b[38;5;241m.\u001b[39mupdate(kwds_defaults)\n\u001b[1;32m-> 1026\u001b[0m \u001b[38;5;28;01mreturn\u001b[39;00m \u001b[43m_read\u001b[49m\u001b[43m(\u001b[49m\u001b[43mfilepath_or_buffer\u001b[49m\u001b[43m,\u001b[49m\u001b[43m \u001b[49m\u001b[43mkwds\u001b[49m\u001b[43m)\u001b[49m\n",
      "File \u001b[1;32mc:\\Users\\nikol\\AppData\\Local\\Programs\\Python\\Python313\\Lib\\site-packages\\pandas\\io\\parsers\\readers.py:620\u001b[0m, in \u001b[0;36m_read\u001b[1;34m(filepath_or_buffer, kwds)\u001b[0m\n\u001b[0;32m    617\u001b[0m _validate_names(kwds\u001b[38;5;241m.\u001b[39mget(\u001b[38;5;124m\"\u001b[39m\u001b[38;5;124mnames\u001b[39m\u001b[38;5;124m\"\u001b[39m, \u001b[38;5;28;01mNone\u001b[39;00m))\n\u001b[0;32m    619\u001b[0m \u001b[38;5;66;03m# Create the parser.\u001b[39;00m\n\u001b[1;32m--> 620\u001b[0m parser \u001b[38;5;241m=\u001b[39m \u001b[43mTextFileReader\u001b[49m\u001b[43m(\u001b[49m\u001b[43mfilepath_or_buffer\u001b[49m\u001b[43m,\u001b[49m\u001b[43m \u001b[49m\u001b[38;5;241;43m*\u001b[39;49m\u001b[38;5;241;43m*\u001b[39;49m\u001b[43mkwds\u001b[49m\u001b[43m)\u001b[49m\n\u001b[0;32m    622\u001b[0m \u001b[38;5;28;01mif\u001b[39;00m chunksize \u001b[38;5;129;01mor\u001b[39;00m iterator:\n\u001b[0;32m    623\u001b[0m     \u001b[38;5;28;01mreturn\u001b[39;00m parser\n",
      "File \u001b[1;32mc:\\Users\\nikol\\AppData\\Local\\Programs\\Python\\Python313\\Lib\\site-packages\\pandas\\io\\parsers\\readers.py:1620\u001b[0m, in \u001b[0;36mTextFileReader.__init__\u001b[1;34m(self, f, engine, **kwds)\u001b[0m\n\u001b[0;32m   1617\u001b[0m     \u001b[38;5;28mself\u001b[39m\u001b[38;5;241m.\u001b[39moptions[\u001b[38;5;124m\"\u001b[39m\u001b[38;5;124mhas_index_names\u001b[39m\u001b[38;5;124m\"\u001b[39m] \u001b[38;5;241m=\u001b[39m kwds[\u001b[38;5;124m\"\u001b[39m\u001b[38;5;124mhas_index_names\u001b[39m\u001b[38;5;124m\"\u001b[39m]\n\u001b[0;32m   1619\u001b[0m \u001b[38;5;28mself\u001b[39m\u001b[38;5;241m.\u001b[39mhandles: IOHandles \u001b[38;5;241m|\u001b[39m \u001b[38;5;28;01mNone\u001b[39;00m \u001b[38;5;241m=\u001b[39m \u001b[38;5;28;01mNone\u001b[39;00m\n\u001b[1;32m-> 1620\u001b[0m \u001b[38;5;28mself\u001b[39m\u001b[38;5;241m.\u001b[39m_engine \u001b[38;5;241m=\u001b[39m \u001b[38;5;28;43mself\u001b[39;49m\u001b[38;5;241;43m.\u001b[39;49m\u001b[43m_make_engine\u001b[49m\u001b[43m(\u001b[49m\u001b[43mf\u001b[49m\u001b[43m,\u001b[49m\u001b[43m \u001b[49m\u001b[38;5;28;43mself\u001b[39;49m\u001b[38;5;241;43m.\u001b[39;49m\u001b[43mengine\u001b[49m\u001b[43m)\u001b[49m\n",
      "File \u001b[1;32mc:\\Users\\nikol\\AppData\\Local\\Programs\\Python\\Python313\\Lib\\site-packages\\pandas\\io\\parsers\\readers.py:1880\u001b[0m, in \u001b[0;36mTextFileReader._make_engine\u001b[1;34m(self, f, engine)\u001b[0m\n\u001b[0;32m   1878\u001b[0m     \u001b[38;5;28;01mif\u001b[39;00m \u001b[38;5;124m\"\u001b[39m\u001b[38;5;124mb\u001b[39m\u001b[38;5;124m\"\u001b[39m \u001b[38;5;129;01mnot\u001b[39;00m \u001b[38;5;129;01min\u001b[39;00m mode:\n\u001b[0;32m   1879\u001b[0m         mode \u001b[38;5;241m+\u001b[39m\u001b[38;5;241m=\u001b[39m \u001b[38;5;124m\"\u001b[39m\u001b[38;5;124mb\u001b[39m\u001b[38;5;124m\"\u001b[39m\n\u001b[1;32m-> 1880\u001b[0m \u001b[38;5;28mself\u001b[39m\u001b[38;5;241m.\u001b[39mhandles \u001b[38;5;241m=\u001b[39m \u001b[43mget_handle\u001b[49m\u001b[43m(\u001b[49m\n\u001b[0;32m   1881\u001b[0m \u001b[43m    \u001b[49m\u001b[43mf\u001b[49m\u001b[43m,\u001b[49m\n\u001b[0;32m   1882\u001b[0m \u001b[43m    \u001b[49m\u001b[43mmode\u001b[49m\u001b[43m,\u001b[49m\n\u001b[0;32m   1883\u001b[0m \u001b[43m    \u001b[49m\u001b[43mencoding\u001b[49m\u001b[38;5;241;43m=\u001b[39;49m\u001b[38;5;28;43mself\u001b[39;49m\u001b[38;5;241;43m.\u001b[39;49m\u001b[43moptions\u001b[49m\u001b[38;5;241;43m.\u001b[39;49m\u001b[43mget\u001b[49m\u001b[43m(\u001b[49m\u001b[38;5;124;43m\"\u001b[39;49m\u001b[38;5;124;43mencoding\u001b[39;49m\u001b[38;5;124;43m\"\u001b[39;49m\u001b[43m,\u001b[49m\u001b[43m \u001b[49m\u001b[38;5;28;43;01mNone\u001b[39;49;00m\u001b[43m)\u001b[49m\u001b[43m,\u001b[49m\n\u001b[0;32m   1884\u001b[0m \u001b[43m    \u001b[49m\u001b[43mcompression\u001b[49m\u001b[38;5;241;43m=\u001b[39;49m\u001b[38;5;28;43mself\u001b[39;49m\u001b[38;5;241;43m.\u001b[39;49m\u001b[43moptions\u001b[49m\u001b[38;5;241;43m.\u001b[39;49m\u001b[43mget\u001b[49m\u001b[43m(\u001b[49m\u001b[38;5;124;43m\"\u001b[39;49m\u001b[38;5;124;43mcompression\u001b[39;49m\u001b[38;5;124;43m\"\u001b[39;49m\u001b[43m,\u001b[49m\u001b[43m \u001b[49m\u001b[38;5;28;43;01mNone\u001b[39;49;00m\u001b[43m)\u001b[49m\u001b[43m,\u001b[49m\n\u001b[0;32m   1885\u001b[0m \u001b[43m    \u001b[49m\u001b[43mmemory_map\u001b[49m\u001b[38;5;241;43m=\u001b[39;49m\u001b[38;5;28;43mself\u001b[39;49m\u001b[38;5;241;43m.\u001b[39;49m\u001b[43moptions\u001b[49m\u001b[38;5;241;43m.\u001b[39;49m\u001b[43mget\u001b[49m\u001b[43m(\u001b[49m\u001b[38;5;124;43m\"\u001b[39;49m\u001b[38;5;124;43mmemory_map\u001b[39;49m\u001b[38;5;124;43m\"\u001b[39;49m\u001b[43m,\u001b[49m\u001b[43m \u001b[49m\u001b[38;5;28;43;01mFalse\u001b[39;49;00m\u001b[43m)\u001b[49m\u001b[43m,\u001b[49m\n\u001b[0;32m   1886\u001b[0m \u001b[43m    \u001b[49m\u001b[43mis_text\u001b[49m\u001b[38;5;241;43m=\u001b[39;49m\u001b[43mis_text\u001b[49m\u001b[43m,\u001b[49m\n\u001b[0;32m   1887\u001b[0m \u001b[43m    \u001b[49m\u001b[43merrors\u001b[49m\u001b[38;5;241;43m=\u001b[39;49m\u001b[38;5;28;43mself\u001b[39;49m\u001b[38;5;241;43m.\u001b[39;49m\u001b[43moptions\u001b[49m\u001b[38;5;241;43m.\u001b[39;49m\u001b[43mget\u001b[49m\u001b[43m(\u001b[49m\u001b[38;5;124;43m\"\u001b[39;49m\u001b[38;5;124;43mencoding_errors\u001b[39;49m\u001b[38;5;124;43m\"\u001b[39;49m\u001b[43m,\u001b[49m\u001b[43m \u001b[49m\u001b[38;5;124;43m\"\u001b[39;49m\u001b[38;5;124;43mstrict\u001b[39;49m\u001b[38;5;124;43m\"\u001b[39;49m\u001b[43m)\u001b[49m\u001b[43m,\u001b[49m\n\u001b[0;32m   1888\u001b[0m \u001b[43m    \u001b[49m\u001b[43mstorage_options\u001b[49m\u001b[38;5;241;43m=\u001b[39;49m\u001b[38;5;28;43mself\u001b[39;49m\u001b[38;5;241;43m.\u001b[39;49m\u001b[43moptions\u001b[49m\u001b[38;5;241;43m.\u001b[39;49m\u001b[43mget\u001b[49m\u001b[43m(\u001b[49m\u001b[38;5;124;43m\"\u001b[39;49m\u001b[38;5;124;43mstorage_options\u001b[39;49m\u001b[38;5;124;43m\"\u001b[39;49m\u001b[43m,\u001b[49m\u001b[43m \u001b[49m\u001b[38;5;28;43;01mNone\u001b[39;49;00m\u001b[43m)\u001b[49m\u001b[43m,\u001b[49m\n\u001b[0;32m   1889\u001b[0m \u001b[43m\u001b[49m\u001b[43m)\u001b[49m\n\u001b[0;32m   1890\u001b[0m \u001b[38;5;28;01massert\u001b[39;00m \u001b[38;5;28mself\u001b[39m\u001b[38;5;241m.\u001b[39mhandles \u001b[38;5;129;01mis\u001b[39;00m \u001b[38;5;129;01mnot\u001b[39;00m \u001b[38;5;28;01mNone\u001b[39;00m\n\u001b[0;32m   1891\u001b[0m f \u001b[38;5;241m=\u001b[39m \u001b[38;5;28mself\u001b[39m\u001b[38;5;241m.\u001b[39mhandles\u001b[38;5;241m.\u001b[39mhandle\n",
      "File \u001b[1;32mc:\\Users\\nikol\\AppData\\Local\\Programs\\Python\\Python313\\Lib\\site-packages\\pandas\\io\\common.py:873\u001b[0m, in \u001b[0;36mget_handle\u001b[1;34m(path_or_buf, mode, encoding, compression, memory_map, is_text, errors, storage_options)\u001b[0m\n\u001b[0;32m    868\u001b[0m \u001b[38;5;28;01melif\u001b[39;00m \u001b[38;5;28misinstance\u001b[39m(handle, \u001b[38;5;28mstr\u001b[39m):\n\u001b[0;32m    869\u001b[0m     \u001b[38;5;66;03m# Check whether the filename is to be opened in binary mode.\u001b[39;00m\n\u001b[0;32m    870\u001b[0m     \u001b[38;5;66;03m# Binary mode does not support 'encoding' and 'newline'.\u001b[39;00m\n\u001b[0;32m    871\u001b[0m     \u001b[38;5;28;01mif\u001b[39;00m ioargs\u001b[38;5;241m.\u001b[39mencoding \u001b[38;5;129;01mand\u001b[39;00m \u001b[38;5;124m\"\u001b[39m\u001b[38;5;124mb\u001b[39m\u001b[38;5;124m\"\u001b[39m \u001b[38;5;129;01mnot\u001b[39;00m \u001b[38;5;129;01min\u001b[39;00m ioargs\u001b[38;5;241m.\u001b[39mmode:\n\u001b[0;32m    872\u001b[0m         \u001b[38;5;66;03m# Encoding\u001b[39;00m\n\u001b[1;32m--> 873\u001b[0m         handle \u001b[38;5;241m=\u001b[39m \u001b[38;5;28;43mopen\u001b[39;49m\u001b[43m(\u001b[49m\n\u001b[0;32m    874\u001b[0m \u001b[43m            \u001b[49m\u001b[43mhandle\u001b[49m\u001b[43m,\u001b[49m\n\u001b[0;32m    875\u001b[0m \u001b[43m            \u001b[49m\u001b[43mioargs\u001b[49m\u001b[38;5;241;43m.\u001b[39;49m\u001b[43mmode\u001b[49m\u001b[43m,\u001b[49m\n\u001b[0;32m    876\u001b[0m \u001b[43m            \u001b[49m\u001b[43mencoding\u001b[49m\u001b[38;5;241;43m=\u001b[39;49m\u001b[43mioargs\u001b[49m\u001b[38;5;241;43m.\u001b[39;49m\u001b[43mencoding\u001b[49m\u001b[43m,\u001b[49m\n\u001b[0;32m    877\u001b[0m \u001b[43m            \u001b[49m\u001b[43merrors\u001b[49m\u001b[38;5;241;43m=\u001b[39;49m\u001b[43merrors\u001b[49m\u001b[43m,\u001b[49m\n\u001b[0;32m    878\u001b[0m \u001b[43m            \u001b[49m\u001b[43mnewline\u001b[49m\u001b[38;5;241;43m=\u001b[39;49m\u001b[38;5;124;43m\"\u001b[39;49m\u001b[38;5;124;43m\"\u001b[39;49m\u001b[43m,\u001b[49m\n\u001b[0;32m    879\u001b[0m \u001b[43m        \u001b[49m\u001b[43m)\u001b[49m\n\u001b[0;32m    880\u001b[0m     \u001b[38;5;28;01melse\u001b[39;00m:\n\u001b[0;32m    881\u001b[0m         \u001b[38;5;66;03m# Binary mode\u001b[39;00m\n\u001b[0;32m    882\u001b[0m         handle \u001b[38;5;241m=\u001b[39m \u001b[38;5;28mopen\u001b[39m(handle, ioargs\u001b[38;5;241m.\u001b[39mmode)\n",
      "\u001b[1;31mFileNotFoundError\u001b[0m: [Errno 2] No such file or directory: 'datasets/games.csv'"
     ]
    }
   ],
   "source": [
    "df = pd.read_csv(\"datasets/games.csv\")"
   ]
  },
  {
   "cell_type": "code",
   "execution_count": 5,
   "metadata": {},
   "outputs": [
    {
     "name": "stdout",
     "output_type": "stream",
     "text": [
      "<class 'pandas.core.frame.DataFrame'>\n",
      "RangeIndex: 16715 entries, 0 to 16714\n",
      "Data columns (total 11 columns):\n",
      " #   Column           Non-Null Count  Dtype  \n",
      "---  ------           --------------  -----  \n",
      " 0   Name             16713 non-null  object \n",
      " 1   Platform         16715 non-null  object \n",
      " 2   Year_of_Release  16446 non-null  float64\n",
      " 3   Genre            16713 non-null  object \n",
      " 4   NA_sales         16715 non-null  float64\n",
      " 5   EU_sales         16715 non-null  float64\n",
      " 6   JP_sales         16715 non-null  float64\n",
      " 7   Other_sales      16715 non-null  float64\n",
      " 8   Critic_Score     8137 non-null   float64\n",
      " 9   User_Score       10014 non-null  object \n",
      " 10  Rating           9949 non-null   object \n",
      "dtypes: float64(6), object(5)\n",
      "memory usage: 1.4+ MB\n"
     ]
    }
   ],
   "source": [
    "df.info()"
   ]
  },
  {
   "cell_type": "code",
   "execution_count": 6,
   "metadata": {},
   "outputs": [
    {
     "data": {
      "text/plain": [
       "Name                  2\n",
       "Platform              0\n",
       "Year_of_Release     269\n",
       "Genre                 2\n",
       "NA_sales              0\n",
       "EU_sales              0\n",
       "JP_sales              0\n",
       "Other_sales           0\n",
       "Critic_Score       8578\n",
       "User_Score         6701\n",
       "Rating             6766\n",
       "dtype: int64"
      ]
     },
     "execution_count": 6,
     "metadata": {},
     "output_type": "execute_result"
    }
   ],
   "source": [
    "df.isna().sum()"
   ]
  },
  {
   "cell_type": "code",
   "execution_count": 7,
   "metadata": {},
   "outputs": [
    {
     "data": {
      "text/html": [
       "<div>\n",
       "<style scoped>\n",
       "    .dataframe tbody tr th:only-of-type {\n",
       "        vertical-align: middle;\n",
       "    }\n",
       "\n",
       "    .dataframe tbody tr th {\n",
       "        vertical-align: top;\n",
       "    }\n",
       "\n",
       "    .dataframe thead th {\n",
       "        text-align: right;\n",
       "    }\n",
       "</style>\n",
       "<table border=\"1\" class=\"dataframe\">\n",
       "  <thead>\n",
       "    <tr style=\"text-align: right;\">\n",
       "      <th></th>\n",
       "      <th>Name</th>\n",
       "      <th>Platform</th>\n",
       "      <th>Year_of_Release</th>\n",
       "      <th>Genre</th>\n",
       "      <th>NA_sales</th>\n",
       "      <th>EU_sales</th>\n",
       "      <th>JP_sales</th>\n",
       "      <th>Other_sales</th>\n",
       "      <th>Critic_Score</th>\n",
       "      <th>User_Score</th>\n",
       "      <th>Rating</th>\n",
       "    </tr>\n",
       "  </thead>\n",
       "  <tbody>\n",
       "    <tr>\n",
       "      <th>0</th>\n",
       "      <td>Wii Sports</td>\n",
       "      <td>Wii</td>\n",
       "      <td>2006.0</td>\n",
       "      <td>Sports</td>\n",
       "      <td>41.36</td>\n",
       "      <td>28.96</td>\n",
       "      <td>3.77</td>\n",
       "      <td>8.45</td>\n",
       "      <td>76.0</td>\n",
       "      <td>8</td>\n",
       "      <td>E</td>\n",
       "    </tr>\n",
       "    <tr>\n",
       "      <th>1</th>\n",
       "      <td>Super Mario Bros.</td>\n",
       "      <td>NES</td>\n",
       "      <td>1985.0</td>\n",
       "      <td>Platform</td>\n",
       "      <td>29.08</td>\n",
       "      <td>3.58</td>\n",
       "      <td>6.81</td>\n",
       "      <td>0.77</td>\n",
       "      <td>NaN</td>\n",
       "      <td>NaN</td>\n",
       "      <td>NaN</td>\n",
       "    </tr>\n",
       "    <tr>\n",
       "      <th>2</th>\n",
       "      <td>Mario Kart Wii</td>\n",
       "      <td>Wii</td>\n",
       "      <td>2008.0</td>\n",
       "      <td>Racing</td>\n",
       "      <td>15.68</td>\n",
       "      <td>12.76</td>\n",
       "      <td>3.79</td>\n",
       "      <td>3.29</td>\n",
       "      <td>82.0</td>\n",
       "      <td>8.3</td>\n",
       "      <td>E</td>\n",
       "    </tr>\n",
       "    <tr>\n",
       "      <th>3</th>\n",
       "      <td>Wii Sports Resort</td>\n",
       "      <td>Wii</td>\n",
       "      <td>2009.0</td>\n",
       "      <td>Sports</td>\n",
       "      <td>15.61</td>\n",
       "      <td>10.93</td>\n",
       "      <td>3.28</td>\n",
       "      <td>2.95</td>\n",
       "      <td>80.0</td>\n",
       "      <td>8</td>\n",
       "      <td>E</td>\n",
       "    </tr>\n",
       "    <tr>\n",
       "      <th>4</th>\n",
       "      <td>Pokemon Red/Pokemon Blue</td>\n",
       "      <td>GB</td>\n",
       "      <td>1996.0</td>\n",
       "      <td>Role-Playing</td>\n",
       "      <td>11.27</td>\n",
       "      <td>8.89</td>\n",
       "      <td>10.22</td>\n",
       "      <td>1.00</td>\n",
       "      <td>NaN</td>\n",
       "      <td>NaN</td>\n",
       "      <td>NaN</td>\n",
       "    </tr>\n",
       "  </tbody>\n",
       "</table>\n",
       "</div>"
      ],
      "text/plain": [
       "                       Name Platform  Year_of_Release         Genre  NA_sales  \\\n",
       "0                Wii Sports      Wii           2006.0        Sports     41.36   \n",
       "1         Super Mario Bros.      NES           1985.0      Platform     29.08   \n",
       "2            Mario Kart Wii      Wii           2008.0        Racing     15.68   \n",
       "3         Wii Sports Resort      Wii           2009.0        Sports     15.61   \n",
       "4  Pokemon Red/Pokemon Blue       GB           1996.0  Role-Playing     11.27   \n",
       "\n",
       "   EU_sales  JP_sales  Other_sales  Critic_Score User_Score Rating  \n",
       "0     28.96      3.77         8.45          76.0          8      E  \n",
       "1      3.58      6.81         0.77           NaN        NaN    NaN  \n",
       "2     12.76      3.79         3.29          82.0        8.3      E  \n",
       "3     10.93      3.28         2.95          80.0          8      E  \n",
       "4      8.89     10.22         1.00           NaN        NaN    NaN  "
      ]
     },
     "execution_count": 7,
     "metadata": {},
     "output_type": "execute_result"
    }
   ],
   "source": [
    "df.head()"
   ]
  },
  {
   "cell_type": "markdown",
   "metadata": {},
   "source": [
    "Tenemos 2 nombres desconocidos, 269 años desconocidos, y muchos Critic y User y Rating scores desconocidos."
   ]
  },
  {
   "cell_type": "markdown",
   "metadata": {},
   "source": [
    "### Paso 2. Prepara los datos\n",
    "\n",
    "- Reemplaza los nombres de las columnas (ponlos en minúsculas).\n",
    "- Convierte los datos en los tipos necesarios.\n",
    "- Describe las columnas en las que los tipos de datos han sido cambiados y explica por qué.\n",
    "- Si es necesario, elige la manera de tratar los valores ausentes:\n",
    "    - Explica por qué rellenaste los valores ausentes como lo hiciste o por qué decidiste dejarlos en blanco.\n",
    "    - ¿Por qué crees que los valores están ausentes? Brinda explicaciones posibles.\n",
    "    - Presta atención a la abreviatura TBD: significa \"to be determined\" (a determinar). Especifica cómo piensas manejar estos casos.\n",
    "- Calcula las ventas totales (la suma de las ventas en todas las regiones) para cada juego y coloca estos valores en una columna separada."
   ]
  },
  {
   "cell_type": "code",
   "execution_count": 8,
   "metadata": {},
   "outputs": [],
   "source": [
    "df.columns = [name.lower() for name in df.columns]"
   ]
  },
  {
   "cell_type": "code",
   "execution_count": 9,
   "metadata": {},
   "outputs": [
    {
     "data": {
      "text/html": [
       "<div>\n",
       "<style scoped>\n",
       "    .dataframe tbody tr th:only-of-type {\n",
       "        vertical-align: middle;\n",
       "    }\n",
       "\n",
       "    .dataframe tbody tr th {\n",
       "        vertical-align: top;\n",
       "    }\n",
       "\n",
       "    .dataframe thead th {\n",
       "        text-align: right;\n",
       "    }\n",
       "</style>\n",
       "<table border=\"1\" class=\"dataframe\">\n",
       "  <thead>\n",
       "    <tr style=\"text-align: right;\">\n",
       "      <th></th>\n",
       "      <th>name</th>\n",
       "      <th>platform</th>\n",
       "      <th>year_of_release</th>\n",
       "      <th>genre</th>\n",
       "      <th>na_sales</th>\n",
       "      <th>eu_sales</th>\n",
       "      <th>jp_sales</th>\n",
       "      <th>other_sales</th>\n",
       "      <th>critic_score</th>\n",
       "      <th>user_score</th>\n",
       "      <th>rating</th>\n",
       "    </tr>\n",
       "  </thead>\n",
       "  <tbody>\n",
       "    <tr>\n",
       "      <th>0</th>\n",
       "      <td>Wii Sports</td>\n",
       "      <td>Wii</td>\n",
       "      <td>2006.0</td>\n",
       "      <td>Sports</td>\n",
       "      <td>41.36</td>\n",
       "      <td>28.96</td>\n",
       "      <td>3.77</td>\n",
       "      <td>8.45</td>\n",
       "      <td>76.0</td>\n",
       "      <td>8</td>\n",
       "      <td>E</td>\n",
       "    </tr>\n",
       "    <tr>\n",
       "      <th>1</th>\n",
       "      <td>Super Mario Bros.</td>\n",
       "      <td>NES</td>\n",
       "      <td>1985.0</td>\n",
       "      <td>Platform</td>\n",
       "      <td>29.08</td>\n",
       "      <td>3.58</td>\n",
       "      <td>6.81</td>\n",
       "      <td>0.77</td>\n",
       "      <td>NaN</td>\n",
       "      <td>NaN</td>\n",
       "      <td>NaN</td>\n",
       "    </tr>\n",
       "    <tr>\n",
       "      <th>2</th>\n",
       "      <td>Mario Kart Wii</td>\n",
       "      <td>Wii</td>\n",
       "      <td>2008.0</td>\n",
       "      <td>Racing</td>\n",
       "      <td>15.68</td>\n",
       "      <td>12.76</td>\n",
       "      <td>3.79</td>\n",
       "      <td>3.29</td>\n",
       "      <td>82.0</td>\n",
       "      <td>8.3</td>\n",
       "      <td>E</td>\n",
       "    </tr>\n",
       "    <tr>\n",
       "      <th>3</th>\n",
       "      <td>Wii Sports Resort</td>\n",
       "      <td>Wii</td>\n",
       "      <td>2009.0</td>\n",
       "      <td>Sports</td>\n",
       "      <td>15.61</td>\n",
       "      <td>10.93</td>\n",
       "      <td>3.28</td>\n",
       "      <td>2.95</td>\n",
       "      <td>80.0</td>\n",
       "      <td>8</td>\n",
       "      <td>E</td>\n",
       "    </tr>\n",
       "    <tr>\n",
       "      <th>4</th>\n",
       "      <td>Pokemon Red/Pokemon Blue</td>\n",
       "      <td>GB</td>\n",
       "      <td>1996.0</td>\n",
       "      <td>Role-Playing</td>\n",
       "      <td>11.27</td>\n",
       "      <td>8.89</td>\n",
       "      <td>10.22</td>\n",
       "      <td>1.00</td>\n",
       "      <td>NaN</td>\n",
       "      <td>NaN</td>\n",
       "      <td>NaN</td>\n",
       "    </tr>\n",
       "  </tbody>\n",
       "</table>\n",
       "</div>"
      ],
      "text/plain": [
       "                       name platform  year_of_release         genre  na_sales  \\\n",
       "0                Wii Sports      Wii           2006.0        Sports     41.36   \n",
       "1         Super Mario Bros.      NES           1985.0      Platform     29.08   \n",
       "2            Mario Kart Wii      Wii           2008.0        Racing     15.68   \n",
       "3         Wii Sports Resort      Wii           2009.0        Sports     15.61   \n",
       "4  Pokemon Red/Pokemon Blue       GB           1996.0  Role-Playing     11.27   \n",
       "\n",
       "   eu_sales  jp_sales  other_sales  critic_score user_score rating  \n",
       "0     28.96      3.77         8.45          76.0          8      E  \n",
       "1      3.58      6.81         0.77           NaN        NaN    NaN  \n",
       "2     12.76      3.79         3.29          82.0        8.3      E  \n",
       "3     10.93      3.28         2.95          80.0          8      E  \n",
       "4      8.89     10.22         1.00           NaN        NaN    NaN  "
      ]
     },
     "execution_count": 9,
     "metadata": {},
     "output_type": "execute_result"
    }
   ],
   "source": [
    "df.head()"
   ]
  },
  {
   "cell_type": "markdown",
   "metadata": {},
   "source": [
    "- La columna years_of_release contiene los años de lanzamiento, pero es de tipo `float` ya que contiene NaN.\n",
    "- La columna user_score contiene la calificación de los usuarios, es de tipo `object` cuando debería ser tipo `float`."
   ]
  },
  {
   "cell_type": "code",
   "execution_count": 10,
   "metadata": {},
   "outputs": [
    {
     "name": "stdout",
     "output_type": "stream",
     "text": [
      "There is a string in the Series you are trying to convert to a float\n"
     ]
    }
   ],
   "source": [
    "try:\n",
    "    df['user_score'] = df['user_score'].astype('float')\n",
    "except ValueError:\n",
    "    print('There is a string in the Series you are trying to convert to a float')"
   ]
  },
  {
   "cell_type": "markdown",
   "metadata": {},
   "source": [
    "Tenemos un texto en nuestro `user_score`. Ese texto es `tbd` que son las siglas en inglés de `To Be Determined` o `Por Determinar`. Esto significa que todavía no había sido calificado por los usuarios al momento de obtener los datos, lo que a mi juicio es lo mismo que tener NaN, por lo que voy a reemplazar esos valores por NaN."
   ]
  },
  {
   "cell_type": "code",
   "execution_count": 11,
   "metadata": {},
   "outputs": [],
   "source": [
    "df['user_score'] = df['user_score'].replace('tbd',np.nan)"
   ]
  },
  {
   "cell_type": "markdown",
   "metadata": {},
   "source": [
    "Después de esta modificación, intentemos de nuevo convertir en `float` y veamos cuantos valores ausentes tenemos:"
   ]
  },
  {
   "cell_type": "code",
   "execution_count": 12,
   "metadata": {},
   "outputs": [],
   "source": [
    "df['user_score'] = df['user_score'].astype('float')"
   ]
  },
  {
   "cell_type": "code",
   "execution_count": 13,
   "metadata": {},
   "outputs": [
    {
     "name": "stdout",
     "output_type": "stream",
     "text": [
      "<class 'pandas.core.frame.DataFrame'>\n",
      "RangeIndex: 16715 entries, 0 to 16714\n",
      "Data columns (total 11 columns):\n",
      " #   Column           Non-Null Count  Dtype  \n",
      "---  ------           --------------  -----  \n",
      " 0   name             16713 non-null  object \n",
      " 1   platform         16715 non-null  object \n",
      " 2   year_of_release  16446 non-null  float64\n",
      " 3   genre            16713 non-null  object \n",
      " 4   na_sales         16715 non-null  float64\n",
      " 5   eu_sales         16715 non-null  float64\n",
      " 6   jp_sales         16715 non-null  float64\n",
      " 7   other_sales      16715 non-null  float64\n",
      " 8   critic_score     8137 non-null   float64\n",
      " 9   user_score       7590 non-null   float64\n",
      " 10  rating           9949 non-null   object \n",
      "dtypes: float64(7), object(4)\n",
      "memory usage: 1.4+ MB\n"
     ]
    }
   ],
   "source": [
    "df.info()"
   ]
  },
  {
   "cell_type": "code",
   "execution_count": 14,
   "metadata": {},
   "outputs": [
    {
     "data": {
      "text/plain": [
       "name                  2\n",
       "platform              0\n",
       "year_of_release     269\n",
       "genre                 2\n",
       "na_sales              0\n",
       "eu_sales              0\n",
       "jp_sales              0\n",
       "other_sales           0\n",
       "critic_score       8578\n",
       "user_score         9125\n",
       "rating             6766\n",
       "dtype: int64"
      ]
     },
     "execution_count": 14,
     "metadata": {},
     "output_type": "execute_result"
    }
   ],
   "source": [
    "df.isna().sum()"
   ]
  },
  {
   "cell_type": "markdown",
   "metadata": {},
   "source": [
    "Tenemos muchos valores faltantes en `critic_score`, `user_score` y `rating`. `critic_score` y `user_score` son columnas numéricas, los datos faltantes no los podemos saber. Al momento de hacer los cálculos podemos solo ignorar esas filas.\n",
    "Para `rating`, que es una columna categórica, voy a analizarlo a más profundidad: veamos cuáles son los valores posibles, a lo mejor nos dará una pista:"
   ]
  },
  {
   "cell_type": "code",
   "execution_count": 15,
   "metadata": {},
   "outputs": [
    {
     "data": {
      "text/plain": [
       "array(['E', nan, 'M', 'T', 'E10+', 'K-A', 'AO', 'EC', 'RP'], dtype=object)"
      ]
     },
     "execution_count": 15,
     "metadata": {},
     "output_type": "execute_result"
    }
   ],
   "source": [
    "df['rating'].unique()"
   ]
  },
  {
   "cell_type": "markdown",
   "metadata": {},
   "source": [
    "- E: everyone (todos)\n",
    "- E10+: everyone 10+ (todos mayores a 10)\n",
    "- T: teen (adolecentes)\n",
    "- AO: adults only (solo adultos 18+)\n",
    "- K-A: kids to adults (juegos con clasificación E pero que fueron lanzados antes de 1998, cuando cambió a E)\n",
    "- EC: early childhood (mayores a 3 años, descontinuado en 2018 por poco uso, ahora son E)\n",
    "- RP: rating pending (para aquellos juegos a los que todavía no se les da algún rating)\n",
    "\n",
    "La clasificación `RP` parece la adecuada para los juegos en los que tenemos NaN. Esperaré a reemplazar esos datos hasta que los necesite, si es que lo necesito. Por lo general este rating se pone a juegos que todavía no salen al mercado, por lo que se podría confundir si hago el cambio."
   ]
  },
  {
   "cell_type": "markdown",
   "metadata": {},
   "source": [
    "Tenemos otras columnas con valores faltantes:\n",
    "- year_of_release\n",
    "- name\n",
    "- genre\n",
    "\n",
    "Coincide que `name` y `genre` tienen la misma cantidad de valores faltantes, voy a averiguar si coinciden las filas:"
   ]
  },
  {
   "cell_type": "code",
   "execution_count": 16,
   "metadata": {},
   "outputs": [
    {
     "data": {
      "text/html": [
       "<div>\n",
       "<style scoped>\n",
       "    .dataframe tbody tr th:only-of-type {\n",
       "        vertical-align: middle;\n",
       "    }\n",
       "\n",
       "    .dataframe tbody tr th {\n",
       "        vertical-align: top;\n",
       "    }\n",
       "\n",
       "    .dataframe thead th {\n",
       "        text-align: right;\n",
       "    }\n",
       "</style>\n",
       "<table border=\"1\" class=\"dataframe\">\n",
       "  <thead>\n",
       "    <tr style=\"text-align: right;\">\n",
       "      <th></th>\n",
       "      <th>name</th>\n",
       "      <th>platform</th>\n",
       "      <th>year_of_release</th>\n",
       "      <th>genre</th>\n",
       "      <th>na_sales</th>\n",
       "      <th>eu_sales</th>\n",
       "      <th>jp_sales</th>\n",
       "      <th>other_sales</th>\n",
       "      <th>critic_score</th>\n",
       "      <th>user_score</th>\n",
       "      <th>rating</th>\n",
       "    </tr>\n",
       "  </thead>\n",
       "  <tbody>\n",
       "    <tr>\n",
       "      <th>659</th>\n",
       "      <td>NaN</td>\n",
       "      <td>GEN</td>\n",
       "      <td>1993.0</td>\n",
       "      <td>NaN</td>\n",
       "      <td>1.78</td>\n",
       "      <td>0.53</td>\n",
       "      <td>0.00</td>\n",
       "      <td>0.08</td>\n",
       "      <td>NaN</td>\n",
       "      <td>NaN</td>\n",
       "      <td>NaN</td>\n",
       "    </tr>\n",
       "    <tr>\n",
       "      <th>14244</th>\n",
       "      <td>NaN</td>\n",
       "      <td>GEN</td>\n",
       "      <td>1993.0</td>\n",
       "      <td>NaN</td>\n",
       "      <td>0.00</td>\n",
       "      <td>0.00</td>\n",
       "      <td>0.03</td>\n",
       "      <td>0.00</td>\n",
       "      <td>NaN</td>\n",
       "      <td>NaN</td>\n",
       "      <td>NaN</td>\n",
       "    </tr>\n",
       "  </tbody>\n",
       "</table>\n",
       "</div>"
      ],
      "text/plain": [
       "      name platform  year_of_release genre  na_sales  eu_sales  jp_sales  \\\n",
       "659    NaN      GEN           1993.0   NaN      1.78      0.53      0.00   \n",
       "14244  NaN      GEN           1993.0   NaN      0.00      0.00      0.03   \n",
       "\n",
       "       other_sales  critic_score  user_score rating  \n",
       "659           0.08           NaN         NaN    NaN  \n",
       "14244         0.00           NaN         NaN    NaN  "
      ]
     },
     "execution_count": 16,
     "metadata": {},
     "output_type": "execute_result"
    }
   ],
   "source": [
    "df[df['name'].isna()]"
   ]
  },
  {
   "cell_type": "markdown",
   "metadata": {},
   "source": [
    "Resulta que son las mismas filas, tampoco tenemos sus rating, ni sus scores, solo el año de lanzamiento y sus ventas. Es difícil saber qué juegos fueron a partir de estos datos, y son sólo 2 filas, por lo que voy a eliminarlas."
   ]
  },
  {
   "cell_type": "code",
   "execution_count": 17,
   "metadata": {},
   "outputs": [],
   "source": [
    "df = df.drop(index=df[df['name'].isna()].index)"
   ]
  },
  {
   "cell_type": "code",
   "execution_count": 18,
   "metadata": {},
   "outputs": [
    {
     "data": {
      "text/plain": [
       "name                  0\n",
       "platform              0\n",
       "year_of_release     269\n",
       "genre                 0\n",
       "na_sales              0\n",
       "eu_sales              0\n",
       "jp_sales              0\n",
       "other_sales           0\n",
       "critic_score       8576\n",
       "user_score         9123\n",
       "rating             6764\n",
       "dtype: int64"
      ]
     },
     "execution_count": 18,
     "metadata": {},
     "output_type": "execute_result"
    }
   ],
   "source": [
    "df.isna().sum()"
   ]
  },
  {
   "cell_type": "markdown",
   "metadata": {},
   "source": [
    "Ahora sólo tengo años faltantes, veamos como se ven los juegos que no tienen año:"
   ]
  },
  {
   "cell_type": "code",
   "execution_count": 19,
   "metadata": {},
   "outputs": [
    {
     "data": {
      "text/html": [
       "<div>\n",
       "<style scoped>\n",
       "    .dataframe tbody tr th:only-of-type {\n",
       "        vertical-align: middle;\n",
       "    }\n",
       "\n",
       "    .dataframe tbody tr th {\n",
       "        vertical-align: top;\n",
       "    }\n",
       "\n",
       "    .dataframe thead th {\n",
       "        text-align: right;\n",
       "    }\n",
       "</style>\n",
       "<table border=\"1\" class=\"dataframe\">\n",
       "  <thead>\n",
       "    <tr style=\"text-align: right;\">\n",
       "      <th></th>\n",
       "      <th>name</th>\n",
       "      <th>platform</th>\n",
       "      <th>year_of_release</th>\n",
       "      <th>genre</th>\n",
       "      <th>na_sales</th>\n",
       "      <th>eu_sales</th>\n",
       "      <th>jp_sales</th>\n",
       "      <th>other_sales</th>\n",
       "      <th>critic_score</th>\n",
       "      <th>user_score</th>\n",
       "      <th>rating</th>\n",
       "    </tr>\n",
       "  </thead>\n",
       "  <tbody>\n",
       "    <tr>\n",
       "      <th>183</th>\n",
       "      <td>Madden NFL 2004</td>\n",
       "      <td>PS2</td>\n",
       "      <td>NaN</td>\n",
       "      <td>Sports</td>\n",
       "      <td>4.26</td>\n",
       "      <td>0.26</td>\n",
       "      <td>0.01</td>\n",
       "      <td>0.71</td>\n",
       "      <td>94.0</td>\n",
       "      <td>8.5</td>\n",
       "      <td>E</td>\n",
       "    </tr>\n",
       "    <tr>\n",
       "      <th>377</th>\n",
       "      <td>FIFA Soccer 2004</td>\n",
       "      <td>PS2</td>\n",
       "      <td>NaN</td>\n",
       "      <td>Sports</td>\n",
       "      <td>0.59</td>\n",
       "      <td>2.36</td>\n",
       "      <td>0.04</td>\n",
       "      <td>0.51</td>\n",
       "      <td>84.0</td>\n",
       "      <td>6.4</td>\n",
       "      <td>E</td>\n",
       "    </tr>\n",
       "    <tr>\n",
       "      <th>456</th>\n",
       "      <td>LEGO Batman: The Videogame</td>\n",
       "      <td>Wii</td>\n",
       "      <td>NaN</td>\n",
       "      <td>Action</td>\n",
       "      <td>1.80</td>\n",
       "      <td>0.97</td>\n",
       "      <td>0.00</td>\n",
       "      <td>0.29</td>\n",
       "      <td>74.0</td>\n",
       "      <td>7.9</td>\n",
       "      <td>E10+</td>\n",
       "    </tr>\n",
       "    <tr>\n",
       "      <th>475</th>\n",
       "      <td>wwe Smackdown vs. Raw 2006</td>\n",
       "      <td>PS2</td>\n",
       "      <td>NaN</td>\n",
       "      <td>Fighting</td>\n",
       "      <td>1.57</td>\n",
       "      <td>1.02</td>\n",
       "      <td>0.00</td>\n",
       "      <td>0.41</td>\n",
       "      <td>NaN</td>\n",
       "      <td>NaN</td>\n",
       "      <td>NaN</td>\n",
       "    </tr>\n",
       "    <tr>\n",
       "      <th>609</th>\n",
       "      <td>Space Invaders</td>\n",
       "      <td>2600</td>\n",
       "      <td>NaN</td>\n",
       "      <td>Shooter</td>\n",
       "      <td>2.36</td>\n",
       "      <td>0.14</td>\n",
       "      <td>0.00</td>\n",
       "      <td>0.03</td>\n",
       "      <td>NaN</td>\n",
       "      <td>NaN</td>\n",
       "      <td>NaN</td>\n",
       "    </tr>\n",
       "    <tr>\n",
       "      <th>...</th>\n",
       "      <td>...</td>\n",
       "      <td>...</td>\n",
       "      <td>...</td>\n",
       "      <td>...</td>\n",
       "      <td>...</td>\n",
       "      <td>...</td>\n",
       "      <td>...</td>\n",
       "      <td>...</td>\n",
       "      <td>...</td>\n",
       "      <td>...</td>\n",
       "      <td>...</td>\n",
       "    </tr>\n",
       "    <tr>\n",
       "      <th>16373</th>\n",
       "      <td>PDC World Championship Darts 2008</td>\n",
       "      <td>PSP</td>\n",
       "      <td>NaN</td>\n",
       "      <td>Sports</td>\n",
       "      <td>0.01</td>\n",
       "      <td>0.00</td>\n",
       "      <td>0.00</td>\n",
       "      <td>0.00</td>\n",
       "      <td>43.0</td>\n",
       "      <td>NaN</td>\n",
       "      <td>E10+</td>\n",
       "    </tr>\n",
       "    <tr>\n",
       "      <th>16405</th>\n",
       "      <td>Freaky Flyers</td>\n",
       "      <td>GC</td>\n",
       "      <td>NaN</td>\n",
       "      <td>Racing</td>\n",
       "      <td>0.01</td>\n",
       "      <td>0.00</td>\n",
       "      <td>0.00</td>\n",
       "      <td>0.00</td>\n",
       "      <td>69.0</td>\n",
       "      <td>6.5</td>\n",
       "      <td>T</td>\n",
       "    </tr>\n",
       "    <tr>\n",
       "      <th>16448</th>\n",
       "      <td>Inversion</td>\n",
       "      <td>PC</td>\n",
       "      <td>NaN</td>\n",
       "      <td>Shooter</td>\n",
       "      <td>0.01</td>\n",
       "      <td>0.00</td>\n",
       "      <td>0.00</td>\n",
       "      <td>0.00</td>\n",
       "      <td>59.0</td>\n",
       "      <td>6.7</td>\n",
       "      <td>M</td>\n",
       "    </tr>\n",
       "    <tr>\n",
       "      <th>16458</th>\n",
       "      <td>Hakuouki: Shinsengumi Kitan</td>\n",
       "      <td>PS3</td>\n",
       "      <td>NaN</td>\n",
       "      <td>Adventure</td>\n",
       "      <td>0.01</td>\n",
       "      <td>0.00</td>\n",
       "      <td>0.00</td>\n",
       "      <td>0.00</td>\n",
       "      <td>NaN</td>\n",
       "      <td>NaN</td>\n",
       "      <td>NaN</td>\n",
       "    </tr>\n",
       "    <tr>\n",
       "      <th>16522</th>\n",
       "      <td>Virtua Quest</td>\n",
       "      <td>GC</td>\n",
       "      <td>NaN</td>\n",
       "      <td>Role-Playing</td>\n",
       "      <td>0.01</td>\n",
       "      <td>0.00</td>\n",
       "      <td>0.00</td>\n",
       "      <td>0.00</td>\n",
       "      <td>55.0</td>\n",
       "      <td>5.5</td>\n",
       "      <td>T</td>\n",
       "    </tr>\n",
       "  </tbody>\n",
       "</table>\n",
       "<p>269 rows × 11 columns</p>\n",
       "</div>"
      ],
      "text/plain": [
       "                                    name platform  year_of_release  \\\n",
       "183                      Madden NFL 2004      PS2              NaN   \n",
       "377                     FIFA Soccer 2004      PS2              NaN   \n",
       "456           LEGO Batman: The Videogame      Wii              NaN   \n",
       "475           wwe Smackdown vs. Raw 2006      PS2              NaN   \n",
       "609                       Space Invaders     2600              NaN   \n",
       "...                                  ...      ...              ...   \n",
       "16373  PDC World Championship Darts 2008      PSP              NaN   \n",
       "16405                      Freaky Flyers       GC              NaN   \n",
       "16448                          Inversion       PC              NaN   \n",
       "16458        Hakuouki: Shinsengumi Kitan      PS3              NaN   \n",
       "16522                       Virtua Quest       GC              NaN   \n",
       "\n",
       "              genre  na_sales  eu_sales  jp_sales  other_sales  critic_score  \\\n",
       "183          Sports      4.26      0.26      0.01         0.71          94.0   \n",
       "377          Sports      0.59      2.36      0.04         0.51          84.0   \n",
       "456          Action      1.80      0.97      0.00         0.29          74.0   \n",
       "475        Fighting      1.57      1.02      0.00         0.41           NaN   \n",
       "609         Shooter      2.36      0.14      0.00         0.03           NaN   \n",
       "...             ...       ...       ...       ...          ...           ...   \n",
       "16373        Sports      0.01      0.00      0.00         0.00          43.0   \n",
       "16405        Racing      0.01      0.00      0.00         0.00          69.0   \n",
       "16448       Shooter      0.01      0.00      0.00         0.00          59.0   \n",
       "16458     Adventure      0.01      0.00      0.00         0.00           NaN   \n",
       "16522  Role-Playing      0.01      0.00      0.00         0.00          55.0   \n",
       "\n",
       "       user_score rating  \n",
       "183           8.5      E  \n",
       "377           6.4      E  \n",
       "456           7.9   E10+  \n",
       "475           NaN    NaN  \n",
       "609           NaN    NaN  \n",
       "...           ...    ...  \n",
       "16373         NaN   E10+  \n",
       "16405         6.5      T  \n",
       "16448         6.7      M  \n",
       "16458         NaN    NaN  \n",
       "16522         5.5      T  \n",
       "\n",
       "[269 rows x 11 columns]"
      ]
     },
     "execution_count": 19,
     "metadata": {},
     "output_type": "execute_result"
    }
   ],
   "source": [
    "df[df['year_of_release'].isna()]"
   ]
  },
  {
   "cell_type": "markdown",
   "metadata": {},
   "source": [
    "Algunos de estos juegos tienen el año en su nombre, pero debería ser cuidadoso al usar esta información, por que es posible que los juegos hayan sido lanzados en un año diferente al que dice en su título. Mejor dejarlos así."
   ]
  },
  {
   "cell_type": "markdown",
   "metadata": {},
   "source": [
    "============================================================================================="
   ]
  },
  {
   "cell_type": "markdown",
   "metadata": {},
   "source": [
    "Veamos como se ven los títulos, podrían haber duplicados por que tienen un nombre distinto pero es el mismo juego."
   ]
  },
  {
   "cell_type": "code",
   "execution_count": 20,
   "metadata": {},
   "outputs": [
    {
     "data": {
      "text/plain": [
       "[' Beyblade Burst',\n",
       " ' Fire Emblem Fates',\n",
       " \" Frozen: Olaf's Quest\",\n",
       " ' Haikyu!! Cross Team Match!',\n",
       " ' Tales of Xillia 2',\n",
       " \"'98 Koshien\",\n",
       " '.hack//G.U. Vol.1//Rebirth',\n",
       " '.hack//G.U. Vol.2//Reminisce',\n",
       " '.hack//G.U. Vol.2//Reminisce (jp sales)',\n",
       " '.hack//G.U. Vol.3//Redemption',\n",
       " '.hack//Infection Part 1',\n",
       " '.hack//Link',\n",
       " '.hack//Mutation Part 2',\n",
       " '.hack//Outbreak Part 3',\n",
       " '.hack//Quarantine Part 4: The Final Chapter',\n",
       " '.hack: Sekai no Mukou ni + Versus',\n",
       " '007 Racing',\n",
       " '007: Quantum of Solace',\n",
       " '007: The World is not Enough',\n",
       " '007: Tomorrow Never Dies',\n",
       " '1 vs. 100',\n",
       " '1/2 Summer +',\n",
       " '10 Minute Solution',\n",
       " '100 All-Time Favorites',\n",
       " '100 Classic Books',\n",
       " '100 Classic Games',\n",
       " '1000 Cooking Recipes from ELLE à table',\n",
       " '1001 Touch Games',\n",
       " '101-in-1 Explosive Megamix',\n",
       " '101-in-1 Party Megamix Wii',\n",
       " '101-in-1 Sports Megamix',\n",
       " '101-in-1 Sports Party Megamix',\n",
       " '1080°: TenEighty Snowboarding',\n",
       " '11eyes: CrossOver',\n",
       " '12-Sai. Honto no Kimochi',\n",
       " '12-Sai. Koisuru Diary',\n",
       " '12Riven: The Psi-Climinal of Integral',\n",
       " '15 Days',\n",
       " '1701 A.D.',\n",
       " '18 Wheeler: American Pro Trucker',\n",
       " '18 Wheels of Steel: Extreme Trucker',\n",
       " '18 Wheels of Steel: Extreme Trucker 2',\n",
       " '187: Ride or Die',\n",
       " '1942',\n",
       " '2 Games in 1 Double Pack: Hot Wheels Velocity X / Hot Wheels World Race',\n",
       " '2 Games in 1 Double Pack: The Incredibles / Finding Nemo: The Continuing Adventures',\n",
       " '2 Games in 1: Disney Princess & The Lion King',\n",
       " \"2 Games in 1: Disney's Brother Bear / The Lion King 1 1/2\",\n",
       " '2 Games in 1: Sonic Advance & ChuChu Rocket!',\n",
       " '2 Games in 1: Sonic Battle & ChuChu Rocket!',\n",
       " '2 Games in 1: Sonic Pinball Party & Columns Crown',\n",
       " '2 Games in 1: SpongeBob SquarePants: SuperSponge & Rugrats Go Wild',\n",
       " '2 in 1 Combo Pack: Sonic Heroes / Super Monkey Ball Deluxe',\n",
       " '2-in-1 Game Pack: Spider-Man & Spider-Man 2',\n",
       " '2002 FIFA World Cup',\n",
       " '2010 FIFA World Cup South Africa',\n",
       " '2014 FIFA World Cup Brazil',\n",
       " '24: The Game',\n",
       " '25 to Life',\n",
       " '2Xtreme',\n",
       " '3 in 1: Solitaire, Mahjong & Tangram',\n",
       " '300: March to Glory',\n",
       " '3D Baseball',\n",
       " '3D Dot Game Heroes',\n",
       " '3D Lemmings',\n",
       " '3D Tank Warfare Simulator Panzer Front',\n",
       " '3DS Classic Collection',\n",
       " '3Xtreme',\n",
       " '3rd Super Robot Wars Z Jigoku Hen',\n",
       " '3rd Super Robot Wars Z: Tengoku-Hen',\n",
       " '4 Elements',\n",
       " '4 Game Fun Pack: Monopoly / Boggle / Yahtzee / Battleship',\n",
       " '4 Nin uchi Mahjong',\n",
       " '4 Play Collection - Dark Mysteries',\n",
       " '40 Winks',\n",
       " '428: Fuusa Sareta Shibuya de',\n",
       " '4x4 EVO 2',\n",
       " '4x4 Evolution',\n",
       " '50 Cent: Blood on the Sand',\n",
       " '50 Cent: Bulletproof',\n",
       " '50 Classic Games',\n",
       " '64 de Hakken! Tamagotchi Minna de Tamagotchi World',\n",
       " '7 Days to Die',\n",
       " '7 Roses: A Darkness Rises',\n",
       " '7 Wonders II',\n",
       " '7 Wonders of the Ancient World',\n",
       " '7 Wonders: Treasures of Seven',\n",
       " \"7'scarlet\",\n",
       " '7th Dragon',\n",
       " '7th Dragon 2020',\n",
       " '7th Dragon 2020-II',\n",
       " '7th Dragon III Code: VFD',\n",
       " '99 no Namida',\n",
       " '999: Nine Hours, Nine Persons, Nine Doors',\n",
       " 'A Boy and His Blob',\n",
       " \"A Bug's Life\",\n",
       " 'A Collection of Activision Classic Games for the Atari 2600',\n",
       " 'A Collection of Classic Games from the Intellivision',\n",
       " 'A Game of Thrones: Genesis',\n",
       " 'A Good Librarian Like a Good Shepherd: Library Party',\n",
       " 'A New Beginning',\n",
       " 'A Ressha de Gyoukou 2001',\n",
       " 'A Ressha de Ikou DS',\n",
       " 'A Vampyre Story',\n",
       " \"A Witch's Tale\",\n",
       " 'A llI S.V.: A Ressha de Gyoukou 3 Super Version',\n",
       " 'A-Train',\n",
       " 'A-Train 6',\n",
       " 'A-Train: City Simulator',\n",
       " 'A. IV Evolution: A Ressha de Ikou 4',\n",
       " \"A.C.E.: Another Century's Episode\",\n",
       " \"A.C.E.: Another Century's Episode 2\",\n",
       " \"A.C.E.: Another Century's Episode 3: The Final\",\n",
       " \"A.C.E.: Another Century's Episode Portable\",\n",
       " \"A.C.E.: Another Century's Episode R\",\n",
       " 'ABBA: You Can Dance',\n",
       " 'AC/DC LIVE: Rock Band Track Pack',\n",
       " 'AIR',\n",
       " 'AKB1/149: Love Election',\n",
       " 'AKB1/48: Idol to Guam de Koishitara...',\n",
       " 'AKB1/48: Idol to Koishitara...',\n",
       " 'AKB48+Me',\n",
       " 'AMF Bowling 2004',\n",
       " 'AMF Bowling Pinbusters!',\n",
       " 'AMF Bowling World Lanes',\n",
       " 'AMF Xtreme Bowling',\n",
       " 'AMNESIA World',\n",
       " 'APB Reloaded',\n",
       " 'ASH: Archaic Sealed Heat',\n",
       " 'ATV Offroad Fury',\n",
       " 'ATV Offroad Fury 2',\n",
       " 'ATV Offroad Fury 3',\n",
       " 'ATV Offroad Fury Pro',\n",
       " \"ATV Offroad Fury: Blazin' Trails\",\n",
       " 'ATV Quad Kings',\n",
       " 'ATV Quad Power Racing 2',\n",
       " 'ATV/Monster Truck Mayhem',\n",
       " 'ATV: Quad Frenzy',\n",
       " 'ATV: Quad Power Racing',\n",
       " 'Aa Megami-samaa',\n",
       " 'Abunai: Koi no Sousa Shitsu',\n",
       " 'Academy of Champions: Soccer',\n",
       " 'Accel World: Ginyoku no Kakusei',\n",
       " 'Accel World: Kasoku no Chouten',\n",
       " 'Ace Attorney 6',\n",
       " 'Ace Attorney Investigations 2',\n",
       " 'Ace Attorney Investigations: Miles Edgeworth',\n",
       " 'Ace Combat 04: Shattered Skies',\n",
       " 'Ace Combat 2',\n",
       " 'Ace Combat 3: Electrosphere',\n",
       " 'Ace Combat 5: The Unsung War',\n",
       " 'Ace Combat 6: Fires of Liberation',\n",
       " 'Ace Combat X: Skies of Deception',\n",
       " 'Ace Combat Zero: The Belkan War',\n",
       " 'Ace Combat: Assault Horizon',\n",
       " 'Ace Combat: Assault Horizon Legacy',\n",
       " 'Ace Combat: Joint Assault',\n",
       " 'Achtung Panzer: Kharkov 1943',\n",
       " 'Act of Aggression',\n",
       " 'Action Bass',\n",
       " 'Action Force',\n",
       " 'Action Man-Operation Extreme',\n",
       " 'Active Health with Carol Vorderman',\n",
       " 'Active Life Explorer',\n",
       " 'Active Life: Extreme Challenge',\n",
       " 'Active Life: Magical Carnival',\n",
       " 'Active Life: Outdoor Challenge',\n",
       " 'Activision Anthology',\n",
       " 'Activision Hits: Remixed',\n",
       " 'Actua Tennis',\n",
       " 'Adidas Power Soccer',\n",
       " 'Adidas Power Soccer 98',\n",
       " 'Adrenalin Misfits',\n",
       " 'Advance Guardian Heroes',\n",
       " 'Advance Wars',\n",
       " 'Advance Wars 2: Black Hole Rising',\n",
       " 'Advance Wars: Days of Ruin',\n",
       " 'Advance Wars: Dual Strike',\n",
       " 'Advent Rising',\n",
       " 'Adventure',\n",
       " 'Adventure Island',\n",
       " \"Adventure Time: Explore the Dungeon Because I Don't Know!\",\n",
       " 'Adventure Time: Finn & Jake Investigations',\n",
       " 'Adventure Time: The Secret of the Nameless ',\n",
       " 'Adventure Time: The Secret of the Nameless Kingdom',\n",
       " 'Adventures of Lolo',\n",
       " 'Adventures of Tron',\n",
       " 'Adventures to Go!',\n",
       " 'Aedis Eclipse: Generation of Chaos',\n",
       " 'Aegis of Earth: Protonovus Assault',\n",
       " 'Aeon Flux',\n",
       " 'Aero Elite: Combat Academy',\n",
       " 'Aero Gauge',\n",
       " 'AeroFighters Assault',\n",
       " 'Afrika',\n",
       " 'Afro Samurai',\n",
       " 'After Hours Athletes',\n",
       " 'Again',\n",
       " 'Agarest Senki: Re-appearance',\n",
       " 'Agassi Tennis Generation',\n",
       " \"Agatha Christie's The ABC Murders\",\n",
       " 'Agatha Christie: And Then There Were None',\n",
       " 'Agatha Christie: Death on the Nile',\n",
       " 'Agatha Christie: Evil Under the Sun',\n",
       " 'Agatha Christie: Peril at End House',\n",
       " 'Agatha Christie: The ABC Murders',\n",
       " 'Age of Conan: Rise of the Godslayer',\n",
       " 'Age of Empires II: The Age of Kings',\n",
       " 'Age of Empires III',\n",
       " 'Age of Empires III: Complete Collection',\n",
       " 'Age of Empires III: Gold Edition',\n",
       " 'Age of Empires III: The Asian Dynasties',\n",
       " 'Age of Empires Online',\n",
       " \"Age of Empires: Collector's Edition\",\n",
       " 'Age of Empires: Mythologies',\n",
       " 'Age of Empires: The Age of Kings',\n",
       " 'Age of Mythology',\n",
       " 'Age of Mythology: The Titans',\n",
       " 'Aggressive Inline',\n",
       " 'Agile Warrior F-111X',\n",
       " 'Aibou DS',\n",
       " 'Aidyn Chronicles: The First Mage',\n",
       " 'Aikatsu Stars! My Special Appeal',\n",
       " 'Aikatsu! 2-nin no My Princess',\n",
       " 'Aikatsu! 365 Idol Days',\n",
       " 'Aikatsu! Cinderella Lesson',\n",
       " 'Aikatsu! My No.1 Stage!',\n",
       " 'Ailu de Puzzle',\n",
       " 'Air Combat',\n",
       " 'Air Conflicts: Aces of World War II',\n",
       " 'Air Conflicts: Secret Wars',\n",
       " 'Air Raid',\n",
       " 'Air Traffic Chaos',\n",
       " 'Air-Sea Battle',\n",
       " 'AirForce Delta Storm',\n",
       " 'AirForce Delta Strike',\n",
       " 'Airblade',\n",
       " 'Airborne Troops: Countdown to D-Day',\n",
       " 'Airline Tycoon',\n",
       " 'Airline Tycoon 2',\n",
       " 'Airlock',\n",
       " 'Airport Simulator',\n",
       " 'Airship Q',\n",
       " 'Aiyoku no Eustia',\n",
       " 'Akagawa Jirou Mystery: Yasoukyoku - Hon ni Manekareta Satsujin',\n",
       " 'Akai Ito DS',\n",
       " 'Akai Katana Shin',\n",
       " 'Akane Iro ni Somaru Saka Parallel',\n",
       " 'Akatsuki no Amaneka to Aoi Kyojin',\n",
       " 'Akatsuki no Goei Trinity',\n",
       " \"Akiba's Trip\",\n",
       " \"Akiba's Trip Plus\",\n",
       " \"Akiba's Trip: Undead & Undressed\",\n",
       " 'Akko ni Omakase! Brain Shock',\n",
       " 'Akuji the Heartless',\n",
       " 'Aladdin Magic Racer',\n",
       " 'Alan Wake',\n",
       " 'Alex Rider: Stormbreaker',\n",
       " 'Alexi Lalas International Soccer',\n",
       " 'Alfa Romeo Racing Italiano',\n",
       " \"Alia's Carnival! Sacrament\",\n",
       " 'Alias',\n",
       " 'Alice in Wonderland',\n",
       " 'Alice: Madness Returns',\n",
       " 'Alien',\n",
       " 'Alien Breed Trilogy',\n",
       " 'Alien Hominid',\n",
       " 'Alien Monster Bowling League',\n",
       " 'Alien Resurrection',\n",
       " 'Alien Syndrome',\n",
       " 'Alien Trilogy',\n",
       " \"Alien's Return\",\n",
       " 'Alien: Isolation',\n",
       " 'Alienators: Evolution Continues',\n",
       " 'Aliens in the Attic',\n",
       " 'Aliens versus Predator: Extinction',\n",
       " 'Aliens vs Predator',\n",
       " 'Aliens vs Predator: Requiem',\n",
       " 'Aliens: Colonial Marines',\n",
       " 'Aliens: Infestation',\n",
       " 'All Grown Up! Express Yourself',\n",
       " 'All Grown Up!: Game Boy Advance Video Volume 1',\n",
       " 'All Japan Pro Wrestling featuring Virtua',\n",
       " 'All Kamen Rider: Rider Generation',\n",
       " 'All Kamen Rider: Rider Generation 2',\n",
       " 'All Points Bulletin',\n",
       " 'All Star Cheer Squad',\n",
       " 'All Star Cheer Squad 2',\n",
       " 'All Star Karate',\n",
       " 'All Star Pro-Wrestling',\n",
       " 'All Star Tennis 99',\n",
       " 'All-Pro Football 2K8',\n",
       " 'All-Star Baseball 2000',\n",
       " 'All-Star Baseball 2001',\n",
       " 'All-Star Baseball 2002',\n",
       " 'All-Star Baseball 2003',\n",
       " 'All-Star Baseball 2004',\n",
       " 'All-Star Baseball 2005',\n",
       " 'All-Star Baseball 99',\n",
       " 'Alleyway',\n",
       " 'Allied General',\n",
       " 'Alone in the Dark',\n",
       " 'Alone in the Dark: Inferno',\n",
       " \"Alone in the Dark: One-Eyed Jack's Revenge\",\n",
       " 'Alone in the Dark: The New Nightmare',\n",
       " 'Alpha Protocol',\n",
       " 'Alpha and Omega',\n",
       " 'Alter Echo',\n",
       " 'Alter Ego',\n",
       " 'Altered Beast: Guardian of the Realms',\n",
       " 'Alundra',\n",
       " 'Alundra 2: A New Legend Begins',\n",
       " 'Alvin and the Chipmunks',\n",
       " 'Alvin and the Chipmunks: Chipwrecked',\n",
       " 'Alvin and the Chipmunks: The Squeakquel',\n",
       " 'Amagami',\n",
       " 'Amagoushi no Yakata',\n",
       " 'Amatsumi Sora ni! Kumo no Hatate ni',\n",
       " 'Amazing Adventures: The Forgotten Ruins',\n",
       " 'Amazing Island',\n",
       " 'America Oudan Ultra-Quiz',\n",
       " \"America's Army: Rise of a Soldier\",\n",
       " \"America's Army: True Soldiers\",\n",
       " \"America's Next Top Model\",\n",
       " \"America's Test Kitchen: Let's Get Cooking\",\n",
       " 'American Bass Challenge',\n",
       " 'American Chopper',\n",
       " 'American Chopper 2: Full Throttle',\n",
       " 'American Girl: Julie Finds a Way',\n",
       " 'American Girl: Kit Mystery Challenge!',\n",
       " 'American Idol',\n",
       " 'Amnesia',\n",
       " 'Amnesia Crowd',\n",
       " 'Amnesia Later',\n",
       " 'Amped 2',\n",
       " 'Amped 3',\n",
       " 'Amped: Freestyle Snowboarding',\n",
       " 'Amplitude',\n",
       " \"An American Tail: Fievel's Gold Rush\",\n",
       " 'Anarchy Reigns',\n",
       " 'And1 Streetball',\n",
       " 'Andretti Racing',\n",
       " 'Angel Blade: Neo Tokyo Guardians',\n",
       " 'Angelique Duet',\n",
       " 'Angelique Retour',\n",
       " 'Angelique Trois',\n",
       " 'Angelique: Maren no Rokukishi',\n",
       " \"Angler's Club: Ultimate Bass Fishing 3D\",\n",
       " 'Angry Birds',\n",
       " 'Angry Birds Star Wars',\n",
       " 'Angry Birds Trilogy',\n",
       " 'Angry Birds: Rio',\n",
       " 'AniMates!',\n",
       " 'Anima - Gate of Memories',\n",
       " 'Animal Crossing',\n",
       " 'Animal Crossing: Amiibo Festival',\n",
       " 'Animal Crossing: City Folk',\n",
       " 'Animal Crossing: Happy Home Designer',\n",
       " 'Animal Crossing: New Leaf',\n",
       " 'Animal Crossing: Wild World',\n",
       " 'Animal Genius',\n",
       " 'Animal Kingdom: Wildlife Expedition',\n",
       " 'Animal Paradise',\n",
       " 'Animal Planet: Emergency Vets',\n",
       " 'Animal Planet: Vet Collection',\n",
       " 'Animal Planet: Vet Life',\n",
       " 'Animaniacs Ten Pin Alley',\n",
       " 'Animaniacs: The Great Edgar Hunt',\n",
       " 'Animorphs: Shattered Reality',\n",
       " 'Anno 1701: Dawn of Discovery',\n",
       " 'Anno 2070',\n",
       " 'Anno 2205',\n",
       " 'Ano Hi Mita Hana no Namae o Bokutachi wa Mada Shiranai',\n",
       " 'Another Code R: A Journey into Lost Memories',\n",
       " 'Ansatsu Kyoushitsu: Assassin Ikusei Keikaku!!',\n",
       " 'Ant Nation',\n",
       " 'Antiphona no Seikahime: Tenshi no Gakufu Op.A',\n",
       " 'Antz Extreme Racing',\n",
       " 'Anubis II',\n",
       " 'Ao no Exorcist: Genkoku no Labyrinth',\n",
       " 'Ao no Kanata no Four Rhythm',\n",
       " 'Aoishiro',\n",
       " 'Apache: Air Assault',\n",
       " 'Apassionata: Die Galanacht der Pferde',\n",
       " 'Ape Escape',\n",
       " 'Ape Escape 2',\n",
       " 'Ape Escape 3',\n",
       " 'Ape Escape Academy',\n",
       " 'Ape Escape Academy (jp sales)',\n",
       " 'Ape Escape: On the Loose',\n",
       " 'Ape Escape: Pumped & Primed',\n",
       " 'Apex',\n",
       " 'Apocalypse',\n",
       " 'Apollo Justice: Ace Attorney',\n",
       " 'Aqua Aqua',\n",
       " 'Aqua Panic!',\n",
       " 'Aqua Teen Hunger Force: Zombie Ninja Pro-Am',\n",
       " 'Aquaman: Battle for Atlantis',\n",
       " \"Aquanaut's Holiday\",\n",
       " \"Aquanaut's Holiday: Kakusareta Kiroku\",\n",
       " 'Aquapazza: Aquaplus Dream Match',\n",
       " 'Aquarium by DS',\n",
       " 'Ar Nosurge: Ode to an Unborn Star',\n",
       " 'Ar tonelico 2: Melody of Metafalica',\n",
       " 'Ar tonelico Qoga: Knell of Ar Ciel',\n",
       " 'Ar tonelico: Melody of Elemia',\n",
       " 'Arabians Lost: The Engagement on Desert',\n",
       " 'Arc Rise Fantasia',\n",
       " 'Arc the Lad',\n",
       " 'Arc the Lad II',\n",
       " 'Arc the Lad III',\n",
       " 'Arc the Lad: End of Darkness',\n",
       " 'Arc the Lad: Twilight of the Spirits',\n",
       " 'Arcade Hits: Frisky Tom',\n",
       " 'Arcade Party Pak',\n",
       " 'Arcade Shooting Gallery',\n",
       " 'Arcade Zone',\n",
       " 'Arcana Famiglia 2',\n",
       " 'Arcana Famiglia: La storia della Aracana Famiglia',\n",
       " 'Arcana Famiglia: Vascello Phantasma no Majutsushi',\n",
       " 'Arcana Heart',\n",
       " 'Arcana Heart 3',\n",
       " 'Arcania: Gothic 4',\n",
       " 'Archer Maclean Presents: Pool Paradise',\n",
       " \"Archer Maclean's 3D Pool\",\n",
       " \"Archer Maclean's Mercury\",\n",
       " 'Arctic Tale',\n",
       " 'Arctic Thunder',\n",
       " 'Are You Alice?',\n",
       " 'Are You Smarter Than A 5th Grader?',\n",
       " 'Are You Smarter Than a 5th Grader? Back to School',\n",
       " 'Are You Smarter than a 5th Grader? Game Time',\n",
       " 'Are You Smarter than a 5th Grader? Make the Grade',\n",
       " 'Area 51',\n",
       " 'Arena Football',\n",
       " 'Aria: The Natural ~Tooi Yume no Mirage~',\n",
       " 'Aria: The Origination ~Aoi Wakusei no El Cielo~',\n",
       " 'Arkanoid DS',\n",
       " 'ArmA II',\n",
       " 'ArmA III',\n",
       " 'Armed and Dangerous',\n",
       " 'Armor Ambush',\n",
       " 'Armored Core',\n",
       " 'Armored Core 2',\n",
       " 'Armored Core 2: Another Age',\n",
       " 'Armored Core 3',\n",
       " 'Armored Core 3 Portable',\n",
       " 'Armored Core 4',\n",
       " 'Armored Core SL: Silent Line Portable',\n",
       " 'Armored Core V',\n",
       " 'Armored Core: For Answer',\n",
       " 'Armored Core: Formula Front Extreme Battle',\n",
       " 'Armored Core: Last Raven',\n",
       " 'Armored Core: Last Raven Portable',\n",
       " 'Armored Core: Master of Arena',\n",
       " 'Armored Core: Nexus',\n",
       " 'Armored Core: Nine Breaker',\n",
       " 'Armored Core: Project Phantasma',\n",
       " 'Armored Core: Silent Line',\n",
       " 'Armored Core: Verdict Day',\n",
       " 'Armorines: Project S.W.A.R.M.',\n",
       " 'Army Corps of Hell',\n",
       " 'Army Men 3D',\n",
       " 'Army Men World War: Final Front',\n",
       " 'Army Men World War: Land, Sea, Air',\n",
       " 'Army Men World War: Team Assault',\n",
       " 'Army Men: Air Attack',\n",
       " 'Army Men: Air Attack 2',\n",
       " 'Army Men: Air Combat',\n",
       " 'Army Men: Air Combat - The Elite Missions',\n",
       " 'Army Men: Green Rogue',\n",
       " 'Army Men: Major Malfunction',\n",
       " 'Army Men: RTS',\n",
       " \"Army Men: Sarge's Heroes\",\n",
       " \"Army Men: Sarge's Heroes 2\",\n",
       " \"Army Men: Sarge's War\",\n",
       " 'Army Men: Soldiers of Misfortune',\n",
       " 'Army Rescue',\n",
       " 'Army of Two',\n",
       " 'Army of Two: The 40th Day',\n",
       " \"Army of Two: The Devil's Cartel\",\n",
       " 'Around the World in 80 Days',\n",
       " 'Arslan: The Warriors of Legend',\n",
       " 'Art Academy',\n",
       " 'Art Academy: Home Studio',\n",
       " 'Art Academy: Lessons for Everyone',\n",
       " 'Art of Fighting 3: The Path of the Warrior',\n",
       " 'Art of Fighting Anthology',\n",
       " 'Arthur and the Invisibles',\n",
       " 'Arthur! Ready to Race',\n",
       " 'Arx Fatalis',\n",
       " 'Ashes Cricket 2009',\n",
       " 'Asphalt 3D',\n",
       " 'Asphalt: Injection',\n",
       " 'Asphalt: Urban GT',\n",
       " 'Asphalt: Urban GT 2',\n",
       " \"Assassin's Creed\",\n",
       " \"Assassin's Creed Chronicles\",\n",
       " \"Assassin's Creed Chronicles: China\",\n",
       " \"Assassin's Creed II\",\n",
       " \"Assassin's Creed II: Discovery\",\n",
       " \"Assassin's Creed III\",\n",
       " \"Assassin's Creed III: Liberation\",\n",
       " \"Assassin's Creed IV: Black Flag\",\n",
       " \"Assassin's Creed Syndicate\",\n",
       " \"Assassin's Creed The Ezio Collection\",\n",
       " \"Assassin's Creed: Altair's Chronicles\",\n",
       " \"Assassin's Creed: Bloodlines\",\n",
       " \"Assassin's Creed: Brotherhood\",\n",
       " \"Assassin's Creed: Revelations\",\n",
       " \"Assassin's Creed: Rogue\",\n",
       " \"Assassin's Creed: Unity\",\n",
       " 'Assassination Classroom: Grand Siege on Kuro-sensei',\n",
       " 'Assault',\n",
       " 'Assault Rigs',\n",
       " 'Assault Suit Leynos',\n",
       " 'Assault: Retribution',\n",
       " 'Assetto Corsa',\n",
       " 'Asterix & Obelix: Kick Buttix',\n",
       " 'Asteroids',\n",
       " 'Asteroids Hyper 64',\n",
       " 'Astonishia Story',\n",
       " 'Astro Boy',\n",
       " 'Astro Boy: Omega Factor',\n",
       " 'Astro Boy: The Video Game',\n",
       " 'Astroblast',\n",
       " 'Astrology DS',\n",
       " \"Asura's Wrath\",\n",
       " 'Atari Anniversary Advance',\n",
       " 'Atari Anniversary Edition Redux',\n",
       " 'Atari Anthology',\n",
       " 'Atari Classics Evolved',\n",
       " 'Atari Flashback Classics: Volume 1',\n",
       " 'Atari Flashback Classics: Volume 2',\n",
       " \"Atari's Greatest Hits: Volume 1\",\n",
       " \"Atari's Greatest Hits: Volume 2\",\n",
       " 'Atelier Annie: Alchemists of Sera Island',\n",
       " 'Atelier Ayesha: The Alchemist of Dusk',\n",
       " 'Atelier Escha & Logy: Alchemists of the Dusk Sky',\n",
       " 'Atelier Firis: The Alchemist of the Mysterious Journey',\n",
       " 'Atelier Iris 2: The Azoth Of Destiny',\n",
       " 'Atelier Iris 3: Grand Phantasm (JP Sales)',\n",
       " 'Atelier Iris 3: Grand Phantasm (US Sales)',\n",
       " 'Atelier Iris: Eternal Mana',\n",
       " 'Atelier Meruru: Alchemist of Arland 3',\n",
       " 'Atelier Rorona: Alchemist of Arland',\n",
       " 'Atelier Shallie Plus: Alchemists of the Dusk Sea',\n",
       " 'Atelier Shallie: Alchemists of the Dusk Sea',\n",
       " 'Atelier Sophie: The Alchemist of the Mysterious Book',\n",
       " 'Atelier Totori: The Adventurer of Arland',\n",
       " 'Athens 2004',\n",
       " 'Atlantic Quest',\n",
       " 'Atlantis',\n",
       " 'Atomic Betty',\n",
       " 'Atsumare! Power Pro Kun no DS Koushien',\n",
       " 'Attack of the Movies 3D',\n",
       " 'Attack on Titan (KOEI)',\n",
       " 'Attack on Titan: Humanity in Chains',\n",
       " 'Auto Destruct',\n",
       " 'Auto Modellista',\n",
       " 'Automobili Lamborghini',\n",
       " 'Avalon Code',\n",
       " 'Avatar: The Game',\n",
       " 'Avatar: The Last Airbender',\n",
       " 'Avatar: The Last Airbender - Into the Inferno',\n",
       " 'Avatar: The Last Airbender - The Burning Earth',\n",
       " 'Away: Shuffle Dungeon',\n",
       " 'Azada',\n",
       " 'Azure Dreams',\n",
       " 'Azure Striker Gunvolt',\n",
       " 'Azure Striker Gunvolt: Striker Pack',\n",
       " 'Azurik: Rise of Perathia',\n",
       " \"B's-LOG Party♪\",\n",
       " 'B-17: Fortress in the Sky',\n",
       " 'B-Boy',\n",
       " 'B.L.U.E.: Legend of Water',\n",
       " 'BCFX: The Black College Football Xperience, The Doug Williams Edition',\n",
       " 'BIT.TRIP COMPLETE',\n",
       " 'BIT.TRIP SAGA',\n",
       " 'BMX XXX',\n",
       " 'BRAHMA Force: The Assault on Beltlogger 9',\n",
       " 'Baby Pals',\n",
       " 'Babysitting Mama',\n",
       " 'Babysitting Mania',\n",
       " 'Back At The Barnyard: Slop Bucket Games',\n",
       " 'Back to the Future: The Game',\n",
       " 'Backbreaker',\n",
       " 'Backstreet Billiards',\n",
       " 'Backyard Baseball',\n",
       " \"Backyard Baseball '09\",\n",
       " \"Backyard Baseball '10\",\n",
       " 'Backyard Baseball 2006',\n",
       " 'Backyard Basketball',\n",
       " 'Backyard Hockey',\n",
       " 'Backyard NBA Basketball',\n",
       " 'Backyard NFL Football',\n",
       " \"Backyard NFL Football '08\",\n",
       " \"Backyard NFL Football '09\",\n",
       " \"Backyard NFL Football '10\",\n",
       " 'Backyard NFL Football 2006',\n",
       " 'Backyard Skateboarding 2006',\n",
       " 'Backyard Soccer',\n",
       " 'Backyard Sports Football: Rookie Rush',\n",
       " 'Backyard Sports: Sandlot Sluggers',\n",
       " 'Backyard Wrestling 2: There Goes the Neighborhood',\n",
       " \"Backyard Wrestling: Don't Try This at Home\",\n",
       " 'Bad Apple Wars',\n",
       " 'Bad Boys: Miami Takedown',\n",
       " 'Bae Yong-joon to Manabu Kankokugo DS',\n",
       " 'Bahamut Lagoon',\n",
       " 'Baja: Edge of Control',\n",
       " 'Bakemonogatari Portable',\n",
       " 'Baku Baku',\n",
       " 'Bakugan Battle Brawlers: Defenders of the Core',\n",
       " 'Bakugan: Battle Brawlers',\n",
       " 'Bakugan: Battle Trainer',\n",
       " 'Bakugan: Rise of the Resistance',\n",
       " 'Bakumatsu Koihana: Shinsengumi DS',\n",
       " 'Bakumatsu Renka: Karyuu Kenshi-den',\n",
       " 'Bakumatsu Rock',\n",
       " 'Bakumatsu Rock: Ultra Soul',\n",
       " 'Bakusou Dekotora Densetsu: Otoko Ippiki Yume Kaidoi',\n",
       " \"Bakusou Kyoudai Let's & Go!! Eternal Wings\",\n",
       " \"Baldur's Gate: Dark Alliance\",\n",
       " \"Baldur's Gate: Dark Alliance II\",\n",
       " 'Ball Breakers',\n",
       " 'Ballblazer Champions',\n",
       " 'Ballistic',\n",
       " 'Ballistic: Ecks vs. Sever',\n",
       " 'Balloon Fight',\n",
       " 'Balloon Pop',\n",
       " 'Balloon Pop 2',\n",
       " 'Balls of Fury',\n",
       " 'Band Hero',\n",
       " 'Bangai-O Spirits',\n",
       " 'Banjo-Kazooie',\n",
       " \"Banjo-Kazooie: Grunty's Revenge\",\n",
       " 'Banjo-Kazooie: Nuts & Bolts',\n",
       " 'Banjo-Pilot',\n",
       " 'Banjo-Tooie',\n",
       " 'Bank Heist',\n",
       " \"Banushi Life Game: Winner's Circle\",\n",
       " 'Barbarian',\n",
       " 'Barbie Explorer',\n",
       " 'Barbie Fashion Show: An Eye for Style',\n",
       " 'Barbie Groovy Games',\n",
       " 'Barbie Horse Adventures: Blue Ribbon Race',\n",
       " 'Barbie Horse Adventures: Riding Camp',\n",
       " 'Barbie Horse Adventures: Wild Horse Rescue',\n",
       " 'Barbie Super Sports',\n",
       " 'Barbie Superpack: Secret Agent / Groovy Games',\n",
       " 'Barbie and Her Sisters Puppy Rescue',\n",
       " 'Barbie and the Magic of Pegasus',\n",
       " 'Barbie and the Three Musketeers',\n",
       " 'Barbie as The Island Princess',\n",
       " 'Barbie as the Princess and the Pauper',\n",
       " 'Barbie in The 12 Dancing Princesses',\n",
       " 'Barbie: Groom and Glam Pups',\n",
       " 'Barbie: Jet, Set & Style!',\n",
       " 'Barbie: Race & Ride',\n",
       " 'Barnstorming',\n",
       " 'Barnyard',\n",
       " 'Barnyard Blast: Swine of the Night',\n",
       " 'Baroque',\n",
       " 'Baseball',\n",
       " 'Baseball Advance',\n",
       " 'Baseball Blast!',\n",
       " \"Bases Loaded '96: Double Header\",\n",
       " 'Basketball Hall of Fame Ultimate Hoops Challenge',\n",
       " 'Bass Hunter 64',\n",
       " 'Bass Landing',\n",
       " 'Bass Pro Shops: The Hunt',\n",
       " 'Bass Pro Shops: The Strike',\n",
       " 'Bass Rise',\n",
       " 'Bass Strike',\n",
       " 'Bassmasters 2000',\n",
       " 'Bastard!! Utsuro Naru Kamigami no Utsuwa',\n",
       " 'Baten Kaitos Origins',\n",
       " 'Baten Kaitos: Eternal Wings and the Lost Ocean',\n",
       " 'Batman & Robin',\n",
       " 'Batman Begins',\n",
       " 'Batman Beyond: Return of the Joker',\n",
       " 'Batman Forever: The Arcade Game',\n",
       " 'Batman: A Telltale Game Series',\n",
       " 'Batman: Arkham Asylum',\n",
       " 'Batman: Arkham City',\n",
       " 'Batman: Arkham Knight',\n",
       " 'Batman: Arkham Origins',\n",
       " 'Batman: Arkham Origins Blackgate',\n",
       " 'Batman: Arkham VR',\n",
       " 'Batman: Dark Tomorrow',\n",
       " 'Batman: Gotham City Racer',\n",
       " 'Batman: Return to Arkham',\n",
       " 'Batman: Rise of Sin Tzu',\n",
       " 'Batman: The Brave and the Bold the Videogame',\n",
       " 'Batman: Vengeance',\n",
       " 'Battalion Wars',\n",
       " 'Battalion Wars 2',\n",
       " 'Battle & Get! Pokemon Typing DS',\n",
       " 'Battle Arena Toshinden',\n",
       " 'Battle Arena Toshinden 2',\n",
       " 'Battle Arena Toshinden 3',\n",
       " 'Battle Arena Toshinden Remix',\n",
       " 'Battle Arena Toshinden URA',\n",
       " 'Battle Assault 3 featuring Gundam Seed',\n",
       " 'Battle Commander: Hachibushu Shura no Heihou',\n",
       " 'Battle Dodge Ball',\n",
       " 'Battle Engine Aquila',\n",
       " 'Battle Fantasia',\n",
       " 'Battle Hunter',\n",
       " 'Battle Princess of Arcadias',\n",
       " 'Battle Rage',\n",
       " 'Battle Soccer: Field no Hasha',\n",
       " 'Battle Spirits: Digital Starter',\n",
       " \"Battle Spirits: Hero's Soul\",\n",
       " 'Battle Spirits: Kiseki no Hasha',\n",
       " 'Battle Stadium D.O.N',\n",
       " 'Battle Stations',\n",
       " 'Battle Worlds: Kronos',\n",
       " 'Battle of Giants: Dinosaurs',\n",
       " 'Battle of Giants: Dinosaurs Strike',\n",
       " 'Battle of Giants: Dragons',\n",
       " 'Battle of Giants: Mutant Insects',\n",
       " 'Battle vs. Chess',\n",
       " 'BattleBots: Beyond the BattleBox',\n",
       " 'BattleForge',\n",
       " 'BattleTanx',\n",
       " 'BattleTanx: Global Assault',\n",
       " 'Battleborn',\n",
       " 'Battlebots: Design & Destroy',\n",
       " 'Battlefield 1',\n",
       " 'Battlefield 1942',\n",
       " 'Battlefield 1942: The WW II Anthology',\n",
       " 'Battlefield 2',\n",
       " 'Battlefield 2142',\n",
       " 'Battlefield 2: Modern Combat',\n",
       " 'Battlefield 2: Modern Combat(JP sales)',\n",
       " 'Battlefield 3',\n",
       " 'Battlefield 4',\n",
       " 'Battlefield Vietnam',\n",
       " 'Battlefield: Bad Company',\n",
       " 'Battlefield: Bad Company 2',\n",
       " 'Battlefield: Hardline',\n",
       " 'Battles of Prince of Persia',\n",
       " 'Battleship / Connect Four / Sorry! / Trouble',\n",
       " 'Battlestar Galactica',\n",
       " 'Battlestations: Midway',\n",
       " 'Battlestations: Pacific',\n",
       " 'Battlezone',\n",
       " 'Battlezone: Rise of the Black Dogs',\n",
       " 'Bayonetta',\n",
       " 'Bayonetta 2',\n",
       " 'Beach Spikers: Virtua Beach Volleyball',\n",
       " 'Beamrider',\n",
       " 'Beastly',\n",
       " 'Beastly Frantic Foto',\n",
       " 'Beat City',\n",
       " 'Beat Down: Fists of Vengeance',\n",
       " 'Beat Sketch!',\n",
       " 'BeatMania',\n",
       " 'BeatMania Append 3rdMix',\n",
       " 'BeatMania Append 4thMix: The beat goes on',\n",
       " 'BeatMania Append GottaMix',\n",
       " 'BeatMania IIDX 11: IIDX Red',\n",
       " 'BeatMania IIDX 13: DistorteD',\n",
       " 'BeatMania IIDX 14 Gold',\n",
       " 'BeatMania IIDX 15: DJ Troopers',\n",
       " 'BeatMania IIDX 16: Empress + Premium Best',\n",
       " 'BeatMania IIDX 3rd Style',\n",
       " 'BeatMania IIDX 4th Style: New Songs Collection',\n",
       " 'Beatdown: Fists of Vengeance',\n",
       " 'Beaterator',\n",
       " 'Beautiful Katamari',\n",
       " 'Bee Movie Game',\n",
       " 'Beetle Adventure Racing!',\n",
       " 'Beijing 2008',\n",
       " 'Bejeweled 2 Deluxe',\n",
       " 'Bejeweled 3',\n",
       " 'Bejeweled Blitz',\n",
       " 'Bejeweled Twist',\n",
       " 'Bella Sara',\n",
       " 'Bella Sara 2 - The Magic of Drasilmare',\n",
       " 'Ben 10 Alien Force: Vilgax Attacks',\n",
       " 'Ben 10 Galactic Racing',\n",
       " 'Ben 10 Omniverse 2',\n",
       " 'Ben 10 Triple Pack',\n",
       " 'Ben 10 Ultimate Alien: Cosmic Destruction',\n",
       " 'Ben 10: Alien Force',\n",
       " 'Ben 10: Protector of Earth',\n",
       " \"Bentley's Hackpack\",\n",
       " 'Beowulf: The Game',\n",
       " 'Berserk and the Band of the Hawk',\n",
       " 'Berzerk',\n",
       " 'Best Friends Tonight',\n",
       " 'Best Of Tests',\n",
       " \"Betty Boop's Double Shift\",\n",
       " 'BeyBlade VForce: Super Tournament Battle',\n",
       " 'Beyblade Evolution',\n",
       " 'Beyblade G-Revolution',\n",
       " 'Beyblade VForce: Ultimate Blader Jam',\n",
       " 'Beyblade: Metal Fusion',\n",
       " 'Beyblade: Metal Fusion - Battle Fortress',\n",
       " 'Beyblade: Metal Masters',\n",
       " 'Beyond Good & Evil',\n",
       " 'Beyond Oasis',\n",
       " 'Beyond The Beyond',\n",
       " 'Beyond the Labyrinth',\n",
       " 'Beyond: Two Souls',\n",
       " 'Bicycle Casino 2005',\n",
       " 'Big Air',\n",
       " 'Big Air Freestyle',\n",
       " 'Big Bang Mini',\n",
       " 'Big Bass Fishing',\n",
       " 'Big Bass World Championship',\n",
       " 'Big Beach Sports',\n",
       " 'Big Beach Sports 2',\n",
       " 'Big Brain Academy',\n",
       " 'Big Brain Academy: Wii Degree',\n",
       " 'Big Family Games',\n",
       " 'Big Hero 6: Battle in the Bay',\n",
       " 'Big Ichigeki! Pachi-Slot Taikouryku Universal Museum',\n",
       " \"Big Idea's VeggieTales: LarryBoy and the Bad Apple\",\n",
       " 'Big League Sports',\n",
       " 'Big League Sports: Summer',\n",
       " 'Big Mountain 2000',\n",
       " 'Big Mutha Truckers',\n",
       " 'Big Mutha Truckers 2',\n",
       " 'Big Strike Bowling',\n",
       " 'Bigfoot King of Crush',\n",
       " 'Bigfoot: Collision Course',\n",
       " 'Biker Mice From Mars',\n",
       " 'Bikkuriman Daijiten',\n",
       " 'Billy Hatcher and the Giant Egg',\n",
       " 'Billy the Wizard: Rocket Broomstick Racing',\n",
       " \"Billy's Boot Camp: Wii de Enjoy Diet!\",\n",
       " 'Binary Domain',\n",
       " 'Binary Star',\n",
       " 'Bio FREAKS',\n",
       " 'BioShock',\n",
       " 'BioShock 2',\n",
       " 'BioShock Infinite',\n",
       " 'BioShock The Collection',\n",
       " 'Biohazard: Revival Selection',\n",
       " 'Bionic Commando',\n",
       " 'Bionicle',\n",
       " 'Bionicle Heroes',\n",
       " 'Bionicle: Matoran Adventures',\n",
       " 'Birds of Steel',\n",
       " 'Birthday Party Bash',\n",
       " 'Bishoujo Senshi Sailormoon R',\n",
       " 'Bishoujo Senshi Sailormoon S: Juugai Rantou!? Shuyaku Soudatsusen',\n",
       " 'Black',\n",
       " 'Black & Bruised',\n",
       " 'Black & White',\n",
       " 'Black & White 2',\n",
       " 'Black * Rock Shooter: The Game',\n",
       " 'Black Bass with Blue Marlin',\n",
       " 'Black Cat',\n",
       " 'Black Dawn',\n",
       " 'Black Jack vs. Matsudajun',\n",
       " 'Black Mirror 2',\n",
       " 'Black Rose Valkyrie',\n",
       " 'Black Sigil: Blade of the Exiled',\n",
       " 'Black Stone: Magic & Steel',\n",
       " 'Black/Matrix',\n",
       " 'Blacksite: Area 51',\n",
       " 'Blackthorne',\n",
       " 'Blackwater',\n",
       " 'Blade Arcus from Shining EX',\n",
       " 'Blade Dancer: Lineage of Light',\n",
       " 'Blade II',\n",
       " 'Blades of Blood: Samurai Shodown III',\n",
       " 'Blades of Time',\n",
       " 'Bladestorm: Nightmare',\n",
       " \"Bladestorm: The Hundred Years' War\",\n",
       " 'Blast Chamber',\n",
       " 'Blast Corps',\n",
       " 'Blast Lacrosse',\n",
       " 'Blast Radius',\n",
       " 'Blast Works: Build, Trade, Destroy',\n",
       " 'Blaster Master: Blasting Again',\n",
       " 'Blasto',\n",
       " 'BlazBlue Central Fiction',\n",
       " 'BlazBlue: Calamity Trigger',\n",
       " 'BlazBlue: Calamity Trigger Portable',\n",
       " 'BlazBlue: Chrono Phantasma',\n",
       " 'BlazBlue: Chrono Phantasma Extend',\n",
       " 'BlazBlue: Continuum Shift',\n",
       " 'BlazBlue: Continuum Shift II',\n",
       " 'Blazblue: Continuum Shift Extend',\n",
       " 'Blaze Union: Story to Reach the Future',\n",
       " 'Blazer Drive',\n",
       " 'Blazing Angels 2: Secret Missions of WWII',\n",
       " 'Blazing Angels: Squadrons of WWII',\n",
       " 'Blazing Dragons',\n",
       " 'Blazing Heroes',\n",
       " 'Blazing Souls',\n",
       " 'Blazing Souls: Accelate',\n",
       " 'Bleach DS 4th: Flame Bringer',\n",
       " 'Bleach GC: Tasogare Ni Mamieru Shinigami',\n",
       " 'Bleach: Blade Battlers',\n",
       " 'Bleach: Blade Battlers 2nd',\n",
       " 'Bleach: Dark Souls',\n",
       " 'Bleach: Dark Souls (JP sales)',\n",
       " 'Bleach: Erabareshi Tamashii',\n",
       " 'Bleach: Hanatareshi Yabou',\n",
       " 'Bleach: Heat the Soul',\n",
       " 'Bleach: Heat the Soul 3',\n",
       " 'Bleach: Heat the Soul 4',\n",
       " 'Bleach: Heat the Soul 5',\n",
       " 'Bleach: Heat the Soul 6',\n",
       " 'Bleach: Heat the Soul 7',\n",
       " 'Bleach: Shattered Blade',\n",
       " 'Bleach: Soul Carnival',\n",
       " 'Bleach: Soul Carnival 2',\n",
       " 'Bleach: Soul Resurreccion',\n",
       " 'Bleach: The 3rd Phantom',\n",
       " 'Bleach: The Blade of Fate',\n",
       " 'Bleach: Versus Crusade',\n",
       " 'Blender Bros.',\n",
       " 'Blinx 2: Masters of Time & Space',\n",
       " 'Blinx: The Time Sweeper',\n",
       " 'Blitz: Overtime',\n",
       " 'Blitz: The League',\n",
       " 'Blitz: The League II',\n",
       " 'Blitzkrieg 2 Anthology',\n",
       " 'Block Kuzushi',\n",
       " 'Block Party',\n",
       " 'Blokus Portable: Steambot Championship',\n",
       " 'Blood Bowl',\n",
       " 'Blood Bowl: Legendary Edition',\n",
       " 'Blood Drive',\n",
       " 'Blood Omen 2',\n",
       " 'Blood Omen: Legacy of Kain',\n",
       " 'Blood Wake',\n",
       " \"Blood Will Tell: Tezuka Osamu's Dororo\",\n",
       " 'Blood of Bahamut',\n",
       " 'Blood: The Last Vampire (Joukan)',\n",
       " 'BloodRayne',\n",
       " 'BloodRayne 2',\n",
       " 'Bloodborne',\n",
       " 'Bloody Roar',\n",
       " 'Bloody Roar 3',\n",
       " 'Bloody Roar 4',\n",
       " 'Bloody Roar Extreme',\n",
       " 'Bloody Roar II',\n",
       " 'Bloody Roar: Primal Fury',\n",
       " 'BlowOut',\n",
       " 'Blue Breaker: Ken Yorimo Hohoemi o',\n",
       " 'Blue Dragon',\n",
       " 'Blue Dragon Plus',\n",
       " 'Blue Dragon: Awakened Shadow',\n",
       " 'Blue Roses: Yousei to Aoi Hitomi no Senshitachi',\n",
       " 'Blue Stinger',\n",
       " \"Blue's Clues: Blue's Big Musical\",\n",
       " 'Blues Brothers 2000',\n",
       " 'Blur',\n",
       " 'Board Game Classics',\n",
       " 'Board Game: Top Shop',\n",
       " 'Bob the Builder: Can We Fix It?',\n",
       " 'Boboboubo Boubobo: Ougi 87.5 Bakuretsu Hanage Shinken',\n",
       " 'Bode Miller Alpine Skiing',\n",
       " 'Body Harvest',\n",
       " 'Body and Brain Connection',\n",
       " 'Bodycount',\n",
       " 'Bogey: Dead 6',\n",
       " 'Boing! Docomodake DS',\n",
       " 'Boktai 2: Solar Boy Django',\n",
       " 'Boktai: The Sun is in Your Hand',\n",
       " 'Boku no Natsuyasumi',\n",
       " 'Boku no Natsuyasumi 2: Umi no Bouken Hen',\n",
       " 'Boku no Natsuyasumi 3: Hokkoku Hen: Chiisana Boku no Dai Sougen\\u200b',\n",
       " 'Boku no Natsuyasumi 4: Seitouchi Shounen Tanteidan, Boku to Himitsu no Chizu',\n",
       " 'Boku no Natsuyasumi Portable 2: Nazo Nazo Shimai to Chinbotsusen no Himitsu',\n",
       " 'Boku no Natsuyasumi Portable: Mushi Mushi Hakase to Teppen-yama no Himitsu!!',\n",
       " 'Bolt',\n",
       " 'Bombastic',\n",
       " 'Bomberman',\n",
       " 'Bomberman (jp sales)',\n",
       " 'Bomberman 2',\n",
       " 'Bomberman 64',\n",
       " 'Bomberman 64: The Second Attack!',\n",
       " 'Bomberman B-Daman',\n",
       " 'Bomberman Fantasy Race',\n",
       " 'Bomberman Generation',\n",
       " 'Bomberman Hero',\n",
       " 'Bomberman II',\n",
       " 'Bomberman Jetters',\n",
       " 'Bomberman Land',\n",
       " 'Bomberman Land Touch!',\n",
       " 'Bomberman Land Touch! 2',\n",
       " 'Bomberman Max 2: Blue Advance',\n",
       " 'Bomberman Max 2: Red Advance',\n",
       " 'Bomberman Party Edition',\n",
       " 'Bomberman Story DS',\n",
       " 'Bomberman Tournament',\n",
       " 'Bomberman World',\n",
       " 'Bomberman: Act Zero',\n",
       " 'Boogie',\n",
       " 'Boogie SuperStar',\n",
       " ...]"
      ]
     },
     "execution_count": 20,
     "metadata": {},
     "output_type": "execute_result"
    }
   ],
   "source": [
    "sorted(df['name'].unique()).head()"
   ]
  },
  {
   "cell_type": "code",
   "execution_count": 21,
   "metadata": {},
   "outputs": [
    {
     "data": {
      "text/plain": [
       "11559"
      ]
     },
     "execution_count": 21,
     "metadata": {},
     "output_type": "execute_result"
    }
   ],
   "source": [
    "len(df['name'].unique())"
   ]
  },
  {
   "cell_type": "markdown",
   "metadata": {},
   "source": [
    "Hay varios títulos que tienen espacios al principio, también podría haber títulos que solo discrepan en que las letras sean mayúsculas o minúsculas. Cambiemos todo a minúsculas y quitemos los espacios.\n",
    "También podría haber guiones en algunos títulos y en otros no, pero ser el mismo título."
   ]
  },
  {
   "cell_type": "code",
   "execution_count": 22,
   "metadata": {},
   "outputs": [],
   "source": [
    "df['name'] = df['name'].str.strip().str.lower().str.replace('-',' ')"
   ]
  },
  {
   "cell_type": "code",
   "execution_count": 23,
   "metadata": {},
   "outputs": [
    {
     "data": {
      "text/plain": [
       "[\"'98 koshien\",\n",
       " '.hack//g.u. vol.1//rebirth',\n",
       " '.hack//g.u. vol.2//reminisce',\n",
       " '.hack//g.u. vol.2//reminisce (jp sales)',\n",
       " '.hack//g.u. vol.3//redemption',\n",
       " '.hack//infection part 1',\n",
       " '.hack//link',\n",
       " '.hack//mutation part 2',\n",
       " '.hack//outbreak part 3',\n",
       " '.hack//quarantine part 4: the final chapter',\n",
       " '.hack: sekai no mukou ni + versus',\n",
       " '007 racing',\n",
       " '007: quantum of solace',\n",
       " '007: the world is not enough',\n",
       " '007: tomorrow never dies',\n",
       " '1 vs. 100',\n",
       " '1/2 summer +',\n",
       " '10 minute solution',\n",
       " '100 all time favorites',\n",
       " '100 classic books',\n",
       " '100 classic games',\n",
       " '1000 cooking recipes from elle à table',\n",
       " '1001 touch games',\n",
       " '101 in 1 explosive megamix',\n",
       " '101 in 1 party megamix wii',\n",
       " '101 in 1 sports megamix',\n",
       " '101 in 1 sports party megamix',\n",
       " '1080°: teneighty snowboarding',\n",
       " '11eyes: crossover',\n",
       " '12 sai. honto no kimochi',\n",
       " '12 sai. koisuru diary',\n",
       " '12riven: the psi climinal of integral',\n",
       " '15 days',\n",
       " '1701 a.d.',\n",
       " '18 wheeler: american pro trucker',\n",
       " '18 wheels of steel: extreme trucker',\n",
       " '18 wheels of steel: extreme trucker 2',\n",
       " '187: ride or die',\n",
       " '1942',\n",
       " '2 games in 1 double pack: hot wheels velocity x / hot wheels world race',\n",
       " '2 games in 1 double pack: the incredibles / finding nemo: the continuing adventures',\n",
       " '2 games in 1: disney princess & the lion king',\n",
       " \"2 games in 1: disney's brother bear / the lion king 1 1/2\",\n",
       " '2 games in 1: sonic advance & chuchu rocket!',\n",
       " '2 games in 1: sonic battle & chuchu rocket!',\n",
       " '2 games in 1: sonic pinball party & columns crown',\n",
       " '2 games in 1: spongebob squarepants: supersponge & rugrats go wild',\n",
       " '2 in 1 combo pack: sonic heroes / super monkey ball deluxe',\n",
       " '2 in 1 game pack: spider man & spider man 2',\n",
       " '2002 fifa world cup',\n",
       " '2010 fifa world cup south africa',\n",
       " '2014 fifa world cup brazil',\n",
       " '24: the game',\n",
       " '25 to life',\n",
       " '2xtreme',\n",
       " '3 in 1: solitaire, mahjong & tangram',\n",
       " '300: march to glory',\n",
       " '3d baseball',\n",
       " '3d dot game heroes',\n",
       " '3d lemmings',\n",
       " '3d tank warfare simulator panzer front',\n",
       " '3ds classic collection',\n",
       " '3rd super robot wars z jigoku hen',\n",
       " '3rd super robot wars z: tengoku hen',\n",
       " '3xtreme',\n",
       " '4 elements',\n",
       " '4 game fun pack: monopoly / boggle / yahtzee / battleship',\n",
       " '4 nin uchi mahjong',\n",
       " '4 play collection   dark mysteries',\n",
       " '40 winks',\n",
       " '428: fuusa sareta shibuya de',\n",
       " '4x4 evo 2',\n",
       " '4x4 evolution',\n",
       " '50 cent: blood on the sand',\n",
       " '50 cent: bulletproof',\n",
       " '50 classic games',\n",
       " '64 de hakken! tamagotchi minna de tamagotchi world',\n",
       " '7 days to die',\n",
       " '7 roses: a darkness rises',\n",
       " '7 wonders ii',\n",
       " '7 wonders of the ancient world',\n",
       " '7 wonders: treasures of seven',\n",
       " \"7'scarlet\",\n",
       " '7th dragon',\n",
       " '7th dragon 2020',\n",
       " '7th dragon 2020 ii',\n",
       " '7th dragon iii code: vfd',\n",
       " '99 no namida',\n",
       " '999: nine hours, nine persons, nine doors',\n",
       " '[prototype 2]',\n",
       " '[prototype]',\n",
       " 'a boy and his blob',\n",
       " \"a bug's life\",\n",
       " 'a collection of activision classic games for the atari 2600',\n",
       " 'a collection of classic games from the intellivision',\n",
       " 'a game of thrones: genesis',\n",
       " 'a good librarian like a good shepherd: library party',\n",
       " 'a lli s.v.: a ressha de gyoukou 3 super version',\n",
       " 'a new beginning',\n",
       " 'a ressha de gyoukou 2001',\n",
       " 'a ressha de ikou ds',\n",
       " 'a train',\n",
       " 'a train 6',\n",
       " 'a train: city simulator',\n",
       " 'a vampyre story',\n",
       " \"a witch's tale\",\n",
       " 'a. iv evolution: a ressha de ikou 4',\n",
       " \"a.c.e.: another century's episode\",\n",
       " \"a.c.e.: another century's episode 2\",\n",
       " \"a.c.e.: another century's episode 3: the final\",\n",
       " \"a.c.e.: another century's episode portable\",\n",
       " \"a.c.e.: another century's episode r\",\n",
       " 'aa megami samaa',\n",
       " 'abba: you can dance',\n",
       " 'abunai: koi no sousa shitsu',\n",
       " 'ac/dc live: rock band track pack',\n",
       " 'academy of champions: soccer',\n",
       " 'accel world: ginyoku no kakusei',\n",
       " 'accel world: kasoku no chouten',\n",
       " 'ace attorney 6',\n",
       " 'ace attorney investigations 2',\n",
       " 'ace attorney investigations: miles edgeworth',\n",
       " 'ace combat 04: shattered skies',\n",
       " 'ace combat 2',\n",
       " 'ace combat 3: electrosphere',\n",
       " 'ace combat 5: the unsung war',\n",
       " 'ace combat 6: fires of liberation',\n",
       " 'ace combat x: skies of deception',\n",
       " 'ace combat zero: the belkan war',\n",
       " 'ace combat: assault horizon',\n",
       " 'ace combat: assault horizon legacy',\n",
       " 'ace combat: joint assault',\n",
       " 'achtung panzer: kharkov 1943',\n",
       " 'act of aggression',\n",
       " 'action bass',\n",
       " 'action force',\n",
       " 'action man operation extreme',\n",
       " 'active health with carol vorderman',\n",
       " 'active life explorer',\n",
       " 'active life: extreme challenge',\n",
       " 'active life: magical carnival',\n",
       " 'active life: outdoor challenge',\n",
       " 'activision anthology',\n",
       " 'activision hits: remixed',\n",
       " 'actua tennis',\n",
       " 'adidas power soccer',\n",
       " 'adidas power soccer 98',\n",
       " 'adrenalin misfits',\n",
       " 'advance guardian heroes',\n",
       " 'advance wars',\n",
       " 'advance wars 2: black hole rising',\n",
       " 'advance wars: days of ruin',\n",
       " 'advance wars: dual strike',\n",
       " 'advent rising',\n",
       " 'adventure',\n",
       " 'adventure island',\n",
       " \"adventure time: explore the dungeon because i don't know!\",\n",
       " 'adventure time: finn & jake investigations',\n",
       " 'adventure time: the secret of the nameless',\n",
       " 'adventure time: the secret of the nameless kingdom',\n",
       " 'adventures of lolo',\n",
       " 'adventures of tron',\n",
       " 'adventures to go!',\n",
       " 'aedis eclipse: generation of chaos',\n",
       " 'aegis of earth: protonovus assault',\n",
       " 'aeon flux',\n",
       " 'aero elite: combat academy',\n",
       " 'aero gauge',\n",
       " 'aerofighters assault',\n",
       " 'afrika',\n",
       " 'afro samurai',\n",
       " 'after hours athletes',\n",
       " 'again',\n",
       " 'agarest senki: re appearance',\n",
       " 'agassi tennis generation',\n",
       " \"agatha christie's the abc murders\",\n",
       " 'agatha christie: and then there were none',\n",
       " 'agatha christie: death on the nile',\n",
       " 'agatha christie: evil under the sun',\n",
       " 'agatha christie: peril at end house',\n",
       " 'agatha christie: the abc murders',\n",
       " 'age of conan: rise of the godslayer',\n",
       " 'age of empires ii: the age of kings',\n",
       " 'age of empires iii',\n",
       " 'age of empires iii: complete collection',\n",
       " 'age of empires iii: gold edition',\n",
       " 'age of empires iii: the asian dynasties',\n",
       " 'age of empires online',\n",
       " \"age of empires: collector's edition\",\n",
       " 'age of empires: mythologies',\n",
       " 'age of empires: the age of kings',\n",
       " 'age of mythology',\n",
       " 'age of mythology: the titans',\n",
       " 'aggressive inline',\n",
       " 'agile warrior f 111x',\n",
       " 'aibou ds',\n",
       " 'aidyn chronicles: the first mage',\n",
       " 'aikatsu stars! my special appeal',\n",
       " 'aikatsu! 2 nin no my princess',\n",
       " 'aikatsu! 365 idol days',\n",
       " 'aikatsu! cinderella lesson',\n",
       " 'aikatsu! my no.1 stage!',\n",
       " 'ailu de puzzle',\n",
       " 'air',\n",
       " 'air combat',\n",
       " 'air conflicts: aces of world war ii',\n",
       " 'air conflicts: secret wars',\n",
       " 'air raid',\n",
       " 'air sea battle',\n",
       " 'air traffic chaos',\n",
       " 'airblade',\n",
       " 'airborne troops: countdown to d day',\n",
       " 'airforce delta storm',\n",
       " 'airforce delta strike',\n",
       " 'airline tycoon',\n",
       " 'airline tycoon 2',\n",
       " 'airlock',\n",
       " 'airport simulator',\n",
       " 'airship q',\n",
       " 'aiyoku no eustia',\n",
       " 'akagawa jirou mystery: yasoukyoku   hon ni manekareta satsujin',\n",
       " 'akai ito ds',\n",
       " 'akai katana shin',\n",
       " 'akane iro ni somaru saka parallel',\n",
       " 'akatsuki no amaneka to aoi kyojin',\n",
       " 'akatsuki no goei trinity',\n",
       " 'akb1/149: love election',\n",
       " 'akb1/48: idol to guam de koishitara...',\n",
       " 'akb1/48: idol to koishitara...',\n",
       " 'akb48+me',\n",
       " \"akiba's trip\",\n",
       " \"akiba's trip plus\",\n",
       " \"akiba's trip: undead & undressed\",\n",
       " 'akko ni omakase! brain shock',\n",
       " 'akuji the heartless',\n",
       " 'aladdin magic racer',\n",
       " 'alan wake',\n",
       " 'alex rider: stormbreaker',\n",
       " 'alexi lalas international soccer',\n",
       " 'alfa romeo racing italiano',\n",
       " \"alia's carnival! sacrament\",\n",
       " 'alias',\n",
       " 'alice in wonderland',\n",
       " 'alice: madness returns',\n",
       " 'alien',\n",
       " 'alien breed trilogy',\n",
       " 'alien hominid',\n",
       " 'alien monster bowling league',\n",
       " 'alien resurrection',\n",
       " 'alien syndrome',\n",
       " 'alien trilogy',\n",
       " \"alien's return\",\n",
       " 'alien: isolation',\n",
       " 'alienators: evolution continues',\n",
       " 'aliens in the attic',\n",
       " 'aliens versus predator: extinction',\n",
       " 'aliens vs predator',\n",
       " 'aliens vs predator: requiem',\n",
       " 'aliens: colonial marines',\n",
       " 'aliens: infestation',\n",
       " 'all grown up! express yourself',\n",
       " 'all grown up!: game boy advance video volume 1',\n",
       " 'all japan pro wrestling featuring virtua',\n",
       " 'all kamen rider: rider generation',\n",
       " 'all kamen rider: rider generation 2',\n",
       " 'all points bulletin',\n",
       " 'all pro football 2k8',\n",
       " 'all star baseball 2000',\n",
       " 'all star baseball 2001',\n",
       " 'all star baseball 2002',\n",
       " 'all star baseball 2003',\n",
       " 'all star baseball 2004',\n",
       " 'all star baseball 2005',\n",
       " 'all star baseball 99',\n",
       " 'all star cheer squad',\n",
       " 'all star cheer squad 2',\n",
       " 'all star karate',\n",
       " 'all star pro wrestling',\n",
       " 'all star tennis 99',\n",
       " 'alleyway',\n",
       " 'allied general',\n",
       " 'alone in the dark',\n",
       " 'alone in the dark: inferno',\n",
       " \"alone in the dark: one eyed jack's revenge\",\n",
       " 'alone in the dark: the new nightmare',\n",
       " 'alpha and omega',\n",
       " 'alpha protocol',\n",
       " 'alter echo',\n",
       " 'alter ego',\n",
       " 'altered beast: guardian of the realms',\n",
       " 'alundra',\n",
       " 'alundra 2: a new legend begins',\n",
       " 'alvin and the chipmunks',\n",
       " 'alvin and the chipmunks: chipwrecked',\n",
       " 'alvin and the chipmunks: the squeakquel',\n",
       " 'amagami',\n",
       " 'amagoushi no yakata',\n",
       " 'amatsumi sora ni! kumo no hatate ni',\n",
       " 'amazing adventures: the forgotten ruins',\n",
       " 'amazing island',\n",
       " 'america oudan ultra quiz',\n",
       " \"america's army: rise of a soldier\",\n",
       " \"america's army: true soldiers\",\n",
       " \"america's next top model\",\n",
       " \"america's test kitchen: let's get cooking\",\n",
       " 'american bass challenge',\n",
       " 'american chopper',\n",
       " 'american chopper 2: full throttle',\n",
       " 'american girl: julie finds a way',\n",
       " 'american girl: kit mystery challenge!',\n",
       " 'american idol',\n",
       " 'amf bowling 2004',\n",
       " 'amf bowling pinbusters!',\n",
       " 'amf bowling world lanes',\n",
       " 'amf xtreme bowling',\n",
       " 'amnesia',\n",
       " 'amnesia crowd',\n",
       " 'amnesia later',\n",
       " 'amnesia world',\n",
       " 'amped 2',\n",
       " 'amped 3',\n",
       " 'amped: freestyle snowboarding',\n",
       " 'amplitude',\n",
       " \"an american tail: fievel's gold rush\",\n",
       " 'anarchy reigns',\n",
       " 'and1 streetball',\n",
       " 'andretti racing',\n",
       " 'angel blade: neo tokyo guardians',\n",
       " 'angelique duet',\n",
       " 'angelique retour',\n",
       " 'angelique trois',\n",
       " 'angelique: maren no rokukishi',\n",
       " \"angler's club: ultimate bass fishing 3d\",\n",
       " 'angry birds',\n",
       " 'angry birds star wars',\n",
       " 'angry birds trilogy',\n",
       " 'angry birds: rio',\n",
       " 'anima   gate of memories',\n",
       " 'animal crossing',\n",
       " 'animal crossing: amiibo festival',\n",
       " 'animal crossing: city folk',\n",
       " 'animal crossing: happy home designer',\n",
       " 'animal crossing: new leaf',\n",
       " 'animal crossing: wild world',\n",
       " 'animal genius',\n",
       " 'animal kingdom: wildlife expedition',\n",
       " 'animal paradise',\n",
       " 'animal planet: emergency vets',\n",
       " 'animal planet: vet collection',\n",
       " 'animal planet: vet life',\n",
       " 'animaniacs ten pin alley',\n",
       " 'animaniacs: the great edgar hunt',\n",
       " 'animates!',\n",
       " 'animorphs: shattered reality',\n",
       " 'anno 1701: dawn of discovery',\n",
       " 'anno 2070',\n",
       " 'anno 2205',\n",
       " 'ano hi mita hana no namae o bokutachi wa mada shiranai',\n",
       " 'another code r: a journey into lost memories',\n",
       " 'ansatsu kyoushitsu: assassin ikusei keikaku!!',\n",
       " 'ant nation',\n",
       " 'antiphona no seikahime: tenshi no gakufu op.a',\n",
       " 'antz extreme racing',\n",
       " 'anubis ii',\n",
       " 'ao no exorcist: genkoku no labyrinth',\n",
       " 'ao no kanata no four rhythm',\n",
       " 'aoishiro',\n",
       " 'apache: air assault',\n",
       " 'apassionata: die galanacht der pferde',\n",
       " 'apb reloaded',\n",
       " 'ape escape',\n",
       " 'ape escape 2',\n",
       " 'ape escape 3',\n",
       " 'ape escape academy',\n",
       " 'ape escape academy (jp sales)',\n",
       " 'ape escape: on the loose',\n",
       " 'ape escape: pumped & primed',\n",
       " 'apex',\n",
       " 'apocalypse',\n",
       " 'apollo justice: ace attorney',\n",
       " 'aqua aqua',\n",
       " 'aqua panic!',\n",
       " 'aqua teen hunger force: zombie ninja pro am',\n",
       " 'aquaman: battle for atlantis',\n",
       " \"aquanaut's holiday\",\n",
       " \"aquanaut's holiday: kakusareta kiroku\",\n",
       " 'aquapazza: aquaplus dream match',\n",
       " 'aquarium by ds',\n",
       " 'ar nosurge: ode to an unborn star',\n",
       " 'ar tonelico 2: melody of metafalica',\n",
       " 'ar tonelico qoga: knell of ar ciel',\n",
       " 'ar tonelico: melody of elemia',\n",
       " 'arabians lost: the engagement on desert',\n",
       " 'arc rise fantasia',\n",
       " 'arc the lad',\n",
       " 'arc the lad ii',\n",
       " 'arc the lad iii',\n",
       " 'arc the lad: end of darkness',\n",
       " 'arc the lad: twilight of the spirits',\n",
       " 'arcade hits: frisky tom',\n",
       " 'arcade party pak',\n",
       " 'arcade shooting gallery',\n",
       " 'arcade zone',\n",
       " 'arcana famiglia 2',\n",
       " 'arcana famiglia: la storia della aracana famiglia',\n",
       " 'arcana famiglia: vascello phantasma no majutsushi',\n",
       " 'arcana heart',\n",
       " 'arcana heart 3',\n",
       " 'arcania: gothic 4',\n",
       " 'archer maclean presents: pool paradise',\n",
       " \"archer maclean's 3d pool\",\n",
       " \"archer maclean's mercury\",\n",
       " 'arctic tale',\n",
       " 'arctic thunder',\n",
       " 'are you alice?',\n",
       " 'are you smarter than a 5th grader?',\n",
       " 'are you smarter than a 5th grader? back to school',\n",
       " 'are you smarter than a 5th grader? game time',\n",
       " 'are you smarter than a 5th grader? make the grade',\n",
       " 'area 51',\n",
       " 'arena football',\n",
       " 'aria: the natural ~tooi yume no mirage~',\n",
       " 'aria: the origination ~aoi wakusei no el cielo~',\n",
       " 'arkanoid ds',\n",
       " 'arma ii',\n",
       " 'arma iii',\n",
       " 'armed and dangerous',\n",
       " 'armor ambush',\n",
       " 'armored core',\n",
       " 'armored core 2',\n",
       " 'armored core 2: another age',\n",
       " 'armored core 3',\n",
       " 'armored core 3 portable',\n",
       " 'armored core 4',\n",
       " 'armored core sl: silent line portable',\n",
       " 'armored core v',\n",
       " 'armored core: for answer',\n",
       " 'armored core: formula front extreme battle',\n",
       " 'armored core: last raven',\n",
       " 'armored core: last raven portable',\n",
       " 'armored core: master of arena',\n",
       " 'armored core: nexus',\n",
       " 'armored core: nine breaker',\n",
       " 'armored core: project phantasma',\n",
       " 'armored core: silent line',\n",
       " 'armored core: verdict day',\n",
       " 'armorines: project s.w.a.r.m.',\n",
       " 'army corps of hell',\n",
       " 'army men 3d',\n",
       " 'army men world war: final front',\n",
       " 'army men world war: land, sea, air',\n",
       " 'army men world war: team assault',\n",
       " 'army men: air attack',\n",
       " 'army men: air attack 2',\n",
       " 'army men: air combat',\n",
       " 'army men: air combat   the elite missions',\n",
       " 'army men: green rogue',\n",
       " 'army men: major malfunction',\n",
       " 'army men: rts',\n",
       " \"army men: sarge's heroes\",\n",
       " \"army men: sarge's heroes 2\",\n",
       " \"army men: sarge's war\",\n",
       " 'army men: soldiers of misfortune',\n",
       " 'army of two',\n",
       " 'army of two: the 40th day',\n",
       " \"army of two: the devil's cartel\",\n",
       " 'army rescue',\n",
       " 'around the world in 80 days',\n",
       " 'arslan: the warriors of legend',\n",
       " 'art academy',\n",
       " 'art academy: home studio',\n",
       " 'art academy: lessons for everyone',\n",
       " 'art of fighting 3: the path of the warrior',\n",
       " 'art of fighting anthology',\n",
       " 'arthur and the invisibles',\n",
       " 'arthur! ready to race',\n",
       " 'arx fatalis',\n",
       " 'ash: archaic sealed heat',\n",
       " 'ashes cricket 2009',\n",
       " 'asphalt 3d',\n",
       " 'asphalt: injection',\n",
       " 'asphalt: urban gt',\n",
       " 'asphalt: urban gt 2',\n",
       " \"assassin's creed\",\n",
       " \"assassin's creed chronicles\",\n",
       " \"assassin's creed chronicles: china\",\n",
       " \"assassin's creed ii\",\n",
       " \"assassin's creed ii: discovery\",\n",
       " \"assassin's creed iii\",\n",
       " \"assassin's creed iii: liberation\",\n",
       " \"assassin's creed iv: black flag\",\n",
       " \"assassin's creed syndicate\",\n",
       " \"assassin's creed the ezio collection\",\n",
       " \"assassin's creed: altair's chronicles\",\n",
       " \"assassin's creed: bloodlines\",\n",
       " \"assassin's creed: brotherhood\",\n",
       " \"assassin's creed: revelations\",\n",
       " \"assassin's creed: rogue\",\n",
       " \"assassin's creed: unity\",\n",
       " 'assassination classroom: grand siege on kuro sensei',\n",
       " 'assault',\n",
       " 'assault rigs',\n",
       " 'assault suit leynos',\n",
       " 'assault: retribution',\n",
       " 'assetto corsa',\n",
       " 'asterix & obelix: kick buttix',\n",
       " 'asteroids',\n",
       " 'asteroids hyper 64',\n",
       " 'astonishia story',\n",
       " 'astro boy',\n",
       " 'astro boy: omega factor',\n",
       " 'astro boy: the video game',\n",
       " 'astroblast',\n",
       " 'astrology ds',\n",
       " \"asura's wrath\",\n",
       " 'atari anniversary advance',\n",
       " 'atari anniversary edition redux',\n",
       " 'atari anthology',\n",
       " 'atari classics evolved',\n",
       " 'atari flashback classics: volume 1',\n",
       " 'atari flashback classics: volume 2',\n",
       " \"atari's greatest hits: volume 1\",\n",
       " \"atari's greatest hits: volume 2\",\n",
       " 'atelier annie: alchemists of sera island',\n",
       " 'atelier ayesha: the alchemist of dusk',\n",
       " 'atelier escha & logy: alchemists of the dusk sky',\n",
       " 'atelier firis: the alchemist of the mysterious journey',\n",
       " 'atelier iris 2: the azoth of destiny',\n",
       " 'atelier iris 3: grand phantasm (jp sales)',\n",
       " 'atelier iris 3: grand phantasm (us sales)',\n",
       " 'atelier iris: eternal mana',\n",
       " 'atelier meruru: alchemist of arland 3',\n",
       " 'atelier rorona: alchemist of arland',\n",
       " 'atelier shallie plus: alchemists of the dusk sea',\n",
       " 'atelier shallie: alchemists of the dusk sea',\n",
       " 'atelier sophie: the alchemist of the mysterious book',\n",
       " 'atelier totori: the adventurer of arland',\n",
       " 'athens 2004',\n",
       " 'atlantic quest',\n",
       " 'atlantis',\n",
       " 'atomic betty',\n",
       " 'atsumare! power pro kun no ds koushien',\n",
       " 'attack of the movies 3d',\n",
       " 'attack on titan (koei)',\n",
       " 'attack on titan: humanity in chains',\n",
       " 'atv offroad fury',\n",
       " 'atv offroad fury 2',\n",
       " 'atv offroad fury 3',\n",
       " 'atv offroad fury pro',\n",
       " \"atv offroad fury: blazin' trails\",\n",
       " 'atv quad kings',\n",
       " 'atv quad power racing 2',\n",
       " 'atv/monster truck mayhem',\n",
       " 'atv: quad frenzy',\n",
       " 'atv: quad power racing',\n",
       " 'auto destruct',\n",
       " 'auto modellista',\n",
       " 'automobili lamborghini',\n",
       " 'avalon code',\n",
       " 'avatar: the game',\n",
       " 'avatar: the last airbender',\n",
       " 'avatar: the last airbender   into the inferno',\n",
       " 'avatar: the last airbender   the burning earth',\n",
       " 'away: shuffle dungeon',\n",
       " 'azada',\n",
       " 'azure dreams',\n",
       " 'azure striker gunvolt',\n",
       " 'azure striker gunvolt: striker pack',\n",
       " 'azurik: rise of perathia',\n",
       " 'b 17: fortress in the sky',\n",
       " 'b boy',\n",
       " \"b's log party♪\",\n",
       " 'b.l.u.e.: legend of water',\n",
       " 'baby pals',\n",
       " 'babysitting mama',\n",
       " 'babysitting mania',\n",
       " 'back at the barnyard: slop bucket games',\n",
       " 'back to the future: the game',\n",
       " 'backbreaker',\n",
       " 'backstreet billiards',\n",
       " 'backyard baseball',\n",
       " \"backyard baseball '09\",\n",
       " \"backyard baseball '10\",\n",
       " 'backyard baseball 2006',\n",
       " 'backyard basketball',\n",
       " 'backyard hockey',\n",
       " 'backyard nba basketball',\n",
       " 'backyard nfl football',\n",
       " \"backyard nfl football '08\",\n",
       " \"backyard nfl football '09\",\n",
       " \"backyard nfl football '10\",\n",
       " 'backyard nfl football 2006',\n",
       " 'backyard skateboarding 2006',\n",
       " 'backyard soccer',\n",
       " 'backyard sports football: rookie rush',\n",
       " 'backyard sports: sandlot sluggers',\n",
       " 'backyard wrestling 2: there goes the neighborhood',\n",
       " \"backyard wrestling: don't try this at home\",\n",
       " 'bad apple wars',\n",
       " 'bad boys: miami takedown',\n",
       " 'bae yong joon to manabu kankokugo ds',\n",
       " 'bahamut lagoon',\n",
       " 'baja: edge of control',\n",
       " 'bakemonogatari portable',\n",
       " 'baku baku',\n",
       " 'bakugan battle brawlers: defenders of the core',\n",
       " 'bakugan: battle brawlers',\n",
       " 'bakugan: battle trainer',\n",
       " 'bakugan: rise of the resistance',\n",
       " 'bakumatsu koihana: shinsengumi ds',\n",
       " 'bakumatsu renka: karyuu kenshi den',\n",
       " 'bakumatsu rock',\n",
       " 'bakumatsu rock: ultra soul',\n",
       " 'bakusou dekotora densetsu: otoko ippiki yume kaidoi',\n",
       " \"bakusou kyoudai let's & go!! eternal wings\",\n",
       " \"baldur's gate: dark alliance\",\n",
       " \"baldur's gate: dark alliance ii\",\n",
       " 'ball breakers',\n",
       " 'ballblazer champions',\n",
       " 'ballistic',\n",
       " 'ballistic: ecks vs. sever',\n",
       " 'balloon fight',\n",
       " 'balloon pop',\n",
       " 'balloon pop 2',\n",
       " 'balls of fury',\n",
       " 'band hero',\n",
       " 'bangai o spirits',\n",
       " 'banjo kazooie',\n",
       " \"banjo kazooie: grunty's revenge\",\n",
       " 'banjo kazooie: nuts & bolts',\n",
       " 'banjo pilot',\n",
       " 'banjo tooie',\n",
       " 'bank heist',\n",
       " \"banushi life game: winner's circle\",\n",
       " 'barbarian',\n",
       " 'barbie and her sisters puppy rescue',\n",
       " 'barbie and the magic of pegasus',\n",
       " 'barbie and the three musketeers',\n",
       " 'barbie as the island princess',\n",
       " 'barbie as the princess and the pauper',\n",
       " 'barbie explorer',\n",
       " 'barbie fashion show: an eye for style',\n",
       " 'barbie groovy games',\n",
       " 'barbie horse adventures: blue ribbon race',\n",
       " 'barbie horse adventures: riding camp',\n",
       " 'barbie horse adventures: wild horse rescue',\n",
       " 'barbie in the 12 dancing princesses',\n",
       " 'barbie super sports',\n",
       " 'barbie superpack: secret agent / groovy games',\n",
       " 'barbie: groom and glam pups',\n",
       " 'barbie: jet, set & style!',\n",
       " 'barbie: race & ride',\n",
       " 'barnstorming',\n",
       " 'barnyard',\n",
       " 'barnyard blast: swine of the night',\n",
       " 'baroque',\n",
       " 'baseball',\n",
       " 'baseball advance',\n",
       " 'baseball blast!',\n",
       " \"bases loaded '96: double header\",\n",
       " 'basketball hall of fame ultimate hoops challenge',\n",
       " 'bass hunter 64',\n",
       " 'bass landing',\n",
       " 'bass pro shops: the hunt',\n",
       " 'bass pro shops: the strike',\n",
       " 'bass rise',\n",
       " 'bass strike',\n",
       " 'bassmasters 2000',\n",
       " 'bastard!! utsuro naru kamigami no utsuwa',\n",
       " 'baten kaitos origins',\n",
       " 'baten kaitos: eternal wings and the lost ocean',\n",
       " 'batman & robin',\n",
       " 'batman begins',\n",
       " 'batman beyond: return of the joker',\n",
       " 'batman forever: the arcade game',\n",
       " 'batman: a telltale game series',\n",
       " 'batman: arkham asylum',\n",
       " 'batman: arkham city',\n",
       " 'batman: arkham knight',\n",
       " 'batman: arkham origins',\n",
       " 'batman: arkham origins blackgate',\n",
       " 'batman: arkham vr',\n",
       " 'batman: dark tomorrow',\n",
       " 'batman: gotham city racer',\n",
       " 'batman: return to arkham',\n",
       " 'batman: rise of sin tzu',\n",
       " 'batman: the brave and the bold the videogame',\n",
       " 'batman: vengeance',\n",
       " 'battalion wars',\n",
       " 'battalion wars 2',\n",
       " 'battle & get! pokemon typing ds',\n",
       " 'battle arena toshinden',\n",
       " 'battle arena toshinden 2',\n",
       " 'battle arena toshinden 3',\n",
       " 'battle arena toshinden remix',\n",
       " 'battle arena toshinden ura',\n",
       " 'battle assault 3 featuring gundam seed',\n",
       " 'battle commander: hachibushu shura no heihou',\n",
       " 'battle dodge ball',\n",
       " 'battle engine aquila',\n",
       " 'battle fantasia',\n",
       " 'battle hunter',\n",
       " 'battle of giants: dinosaurs',\n",
       " 'battle of giants: dinosaurs strike',\n",
       " 'battle of giants: dragons',\n",
       " 'battle of giants: mutant insects',\n",
       " 'battle princess of arcadias',\n",
       " 'battle rage',\n",
       " 'battle soccer: field no hasha',\n",
       " 'battle spirits: digital starter',\n",
       " \"battle spirits: hero's soul\",\n",
       " 'battle spirits: kiseki no hasha',\n",
       " 'battle stadium d.o.n',\n",
       " 'battle stations',\n",
       " 'battle vs. chess',\n",
       " 'battle worlds: kronos',\n",
       " 'battleborn',\n",
       " 'battlebots: beyond the battlebox',\n",
       " 'battlebots: design & destroy',\n",
       " 'battlefield 1',\n",
       " 'battlefield 1942',\n",
       " 'battlefield 1942: the ww ii anthology',\n",
       " 'battlefield 2',\n",
       " 'battlefield 2142',\n",
       " 'battlefield 2: modern combat',\n",
       " 'battlefield 2: modern combat(jp sales)',\n",
       " 'battlefield 3',\n",
       " 'battlefield 4',\n",
       " 'battlefield vietnam',\n",
       " 'battlefield: bad company',\n",
       " 'battlefield: bad company 2',\n",
       " 'battlefield: hardline',\n",
       " 'battleforge',\n",
       " 'battles of prince of persia',\n",
       " 'battleship / connect four / sorry! / trouble',\n",
       " 'battlestar galactica',\n",
       " 'battlestations: midway',\n",
       " 'battlestations: pacific',\n",
       " 'battletanx',\n",
       " 'battletanx: global assault',\n",
       " 'battlezone',\n",
       " 'battlezone: rise of the black dogs',\n",
       " 'bayonetta',\n",
       " 'bayonetta 2',\n",
       " 'bcfx: the black college football xperience, the doug williams edition',\n",
       " 'beach spikers: virtua beach volleyball',\n",
       " 'beamrider',\n",
       " 'beastly',\n",
       " 'beastly frantic foto',\n",
       " 'beat city',\n",
       " 'beat down: fists of vengeance',\n",
       " 'beat sketch!',\n",
       " 'beatdown: fists of vengeance',\n",
       " 'beaterator',\n",
       " 'beatmania',\n",
       " 'beatmania append 3rdmix',\n",
       " 'beatmania append 4thmix: the beat goes on',\n",
       " 'beatmania append gottamix',\n",
       " 'beatmania iidx 11: iidx red',\n",
       " 'beatmania iidx 13: distorted',\n",
       " 'beatmania iidx 14 gold',\n",
       " 'beatmania iidx 15: dj troopers',\n",
       " 'beatmania iidx 16: empress + premium best',\n",
       " 'beatmania iidx 3rd style',\n",
       " 'beatmania iidx 4th style: new songs collection',\n",
       " 'beautiful katamari',\n",
       " 'bee movie game',\n",
       " 'beetle adventure racing!',\n",
       " 'beijing 2008',\n",
       " 'bejeweled 2 deluxe',\n",
       " 'bejeweled 3',\n",
       " 'bejeweled blitz',\n",
       " 'bejeweled twist',\n",
       " 'bella sara',\n",
       " 'bella sara 2   the magic of drasilmare',\n",
       " 'ben 10 alien force: vilgax attacks',\n",
       " 'ben 10 galactic racing',\n",
       " 'ben 10 omniverse 2',\n",
       " 'ben 10 triple pack',\n",
       " 'ben 10 ultimate alien: cosmic destruction',\n",
       " 'ben 10: alien force',\n",
       " 'ben 10: protector of earth',\n",
       " \"bentley's hackpack\",\n",
       " 'beowulf: the game',\n",
       " 'berserk and the band of the hawk',\n",
       " 'berzerk',\n",
       " 'best friends tonight',\n",
       " 'best of tests',\n",
       " \"betty boop's double shift\",\n",
       " 'beyblade burst',\n",
       " 'beyblade evolution',\n",
       " 'beyblade g revolution',\n",
       " 'beyblade vforce: super tournament battle',\n",
       " 'beyblade vforce: ultimate blader jam',\n",
       " 'beyblade: metal fusion',\n",
       " 'beyblade: metal fusion   battle fortress',\n",
       " 'beyblade: metal masters',\n",
       " 'beyond good & evil',\n",
       " 'beyond oasis',\n",
       " 'beyond the beyond',\n",
       " 'beyond the labyrinth',\n",
       " 'beyond: two souls',\n",
       " 'bicycle casino 2005',\n",
       " 'big air',\n",
       " 'big air freestyle',\n",
       " 'big bang mini',\n",
       " 'big bass fishing',\n",
       " 'big bass world championship',\n",
       " 'big beach sports',\n",
       " 'big beach sports 2',\n",
       " 'big brain academy',\n",
       " 'big brain academy: wii degree',\n",
       " 'big family games',\n",
       " 'big hero 6: battle in the bay',\n",
       " 'big ichigeki! pachi slot taikouryku universal museum',\n",
       " \"big idea's veggietales: larryboy and the bad apple\",\n",
       " 'big league sports',\n",
       " 'big league sports: summer',\n",
       " 'big mountain 2000',\n",
       " 'big mutha truckers',\n",
       " 'big mutha truckers 2',\n",
       " 'big strike bowling',\n",
       " 'bigfoot king of crush',\n",
       " 'bigfoot: collision course',\n",
       " 'biker mice from mars',\n",
       " 'bikkuriman daijiten',\n",
       " 'billy hatcher and the giant egg',\n",
       " 'billy the wizard: rocket broomstick racing',\n",
       " \"billy's boot camp: wii de enjoy diet!\",\n",
       " 'binary domain',\n",
       " 'binary star',\n",
       " 'bio freaks',\n",
       " 'biohazard: revival selection',\n",
       " 'bionic commando',\n",
       " 'bionicle',\n",
       " 'bionicle heroes',\n",
       " 'bionicle: matoran adventures',\n",
       " 'bioshock',\n",
       " 'bioshock 2',\n",
       " 'bioshock infinite',\n",
       " 'bioshock the collection',\n",
       " 'birds of steel',\n",
       " 'birthday party bash',\n",
       " 'bishoujo senshi sailormoon r',\n",
       " 'bishoujo senshi sailormoon s: juugai rantou!? shuyaku soudatsusen',\n",
       " 'bit.trip complete',\n",
       " 'bit.trip saga',\n",
       " 'black',\n",
       " 'black & bruised',\n",
       " 'black & white',\n",
       " 'black & white 2',\n",
       " 'black * rock shooter: the game',\n",
       " 'black bass with blue marlin',\n",
       " 'black cat',\n",
       " 'black dawn',\n",
       " 'black jack vs. matsudajun',\n",
       " 'black mirror 2',\n",
       " 'black rose valkyrie',\n",
       " 'black sigil: blade of the exiled',\n",
       " 'black stone: magic & steel',\n",
       " 'black/matrix',\n",
       " 'blacksite: area 51',\n",
       " 'blackthorne',\n",
       " 'blackwater',\n",
       " 'blade arcus from shining ex',\n",
       " 'blade dancer: lineage of light',\n",
       " 'blade ii',\n",
       " 'blades of blood: samurai shodown iii',\n",
       " 'blades of time',\n",
       " 'bladestorm: nightmare',\n",
       " \"bladestorm: the hundred years' war\",\n",
       " 'blast chamber',\n",
       " 'blast corps',\n",
       " 'blast lacrosse',\n",
       " 'blast radius',\n",
       " 'blast works: build, trade, destroy',\n",
       " 'blaster master: blasting again',\n",
       " 'blasto',\n",
       " 'blazblue central fiction',\n",
       " 'blazblue: calamity trigger',\n",
       " 'blazblue: calamity trigger portable',\n",
       " 'blazblue: chrono phantasma',\n",
       " 'blazblue: chrono phantasma extend',\n",
       " 'blazblue: continuum shift',\n",
       " 'blazblue: continuum shift extend',\n",
       " 'blazblue: continuum shift ii',\n",
       " 'blaze union: story to reach the future',\n",
       " 'blazer drive',\n",
       " 'blazing angels 2: secret missions of wwii',\n",
       " 'blazing angels: squadrons of wwii',\n",
       " 'blazing dragons',\n",
       " 'blazing heroes',\n",
       " 'blazing souls',\n",
       " 'blazing souls: accelate',\n",
       " 'bleach ds 4th: flame bringer',\n",
       " 'bleach gc: tasogare ni mamieru shinigami',\n",
       " 'bleach: blade battlers',\n",
       " 'bleach: blade battlers 2nd',\n",
       " 'bleach: dark souls',\n",
       " 'bleach: dark souls (jp sales)',\n",
       " 'bleach: erabareshi tamashii',\n",
       " 'bleach: hanatareshi yabou',\n",
       " 'bleach: heat the soul',\n",
       " 'bleach: heat the soul 3',\n",
       " 'bleach: heat the soul 4',\n",
       " 'bleach: heat the soul 5',\n",
       " 'bleach: heat the soul 6',\n",
       " 'bleach: heat the soul 7',\n",
       " 'bleach: shattered blade',\n",
       " 'bleach: soul carnival',\n",
       " 'bleach: soul carnival 2',\n",
       " 'bleach: soul resurreccion',\n",
       " 'bleach: the 3rd phantom',\n",
       " 'bleach: the blade of fate',\n",
       " 'bleach: versus crusade',\n",
       " 'blender bros.',\n",
       " 'blinx 2: masters of time & space',\n",
       " 'blinx: the time sweeper',\n",
       " 'blitz: overtime',\n",
       " 'blitz: the league',\n",
       " 'blitz: the league ii',\n",
       " 'blitzkrieg 2 anthology',\n",
       " 'block kuzushi',\n",
       " 'block party',\n",
       " 'blokus portable: steambot championship',\n",
       " 'blood bowl',\n",
       " 'blood bowl: legendary edition',\n",
       " 'blood drive',\n",
       " 'blood of bahamut',\n",
       " 'blood omen 2',\n",
       " 'blood omen: legacy of kain',\n",
       " 'blood wake',\n",
       " \"blood will tell: tezuka osamu's dororo\",\n",
       " 'blood: the last vampire (joukan)',\n",
       " 'bloodborne',\n",
       " 'bloodrayne',\n",
       " 'bloodrayne 2',\n",
       " 'bloody roar',\n",
       " 'bloody roar 3',\n",
       " 'bloody roar 4',\n",
       " 'bloody roar extreme',\n",
       " 'bloody roar ii',\n",
       " 'bloody roar: primal fury',\n",
       " 'blowout',\n",
       " 'blue breaker: ken yorimo hohoemi o',\n",
       " 'blue dragon',\n",
       " 'blue dragon plus',\n",
       " 'blue dragon: awakened shadow',\n",
       " 'blue roses: yousei to aoi hitomi no senshitachi',\n",
       " 'blue stinger',\n",
       " \"blue's clues: blue's big musical\",\n",
       " 'blues brothers 2000',\n",
       " 'blur',\n",
       " 'bmx xxx',\n",
       " 'board game classics',\n",
       " 'board game: top shop',\n",
       " 'bob the builder: can we fix it?',\n",
       " 'boboboubo boubobo: ougi 87.5 bakuretsu hanage shinken',\n",
       " 'bode miller alpine skiing',\n",
       " 'body and brain connection',\n",
       " 'body harvest',\n",
       " 'bodycount',\n",
       " 'bogey: dead 6',\n",
       " 'boing! docomodake ds',\n",
       " 'boktai 2: solar boy django',\n",
       " 'boktai: the sun is in your hand',\n",
       " 'boku no natsuyasumi',\n",
       " 'boku no natsuyasumi 2: umi no bouken hen',\n",
       " 'boku no natsuyasumi 3: hokkoku hen: chiisana boku no dai sougen\\u200b',\n",
       " 'boku no natsuyasumi 4: seitouchi shounen tanteidan, boku to himitsu no chizu',\n",
       " 'boku no natsuyasumi portable 2: nazo nazo shimai to chinbotsusen no himitsu',\n",
       " 'boku no natsuyasumi portable: mushi mushi hakase to teppen yama no himitsu!!',\n",
       " 'bolt',\n",
       " 'bombastic',\n",
       " 'bomberman',\n",
       " 'bomberman (jp sales)',\n",
       " 'bomberman 2',\n",
       " 'bomberman 64',\n",
       " 'bomberman 64: the second attack!',\n",
       " 'bomberman b daman',\n",
       " 'bomberman fantasy race',\n",
       " 'bomberman generation',\n",
       " 'bomberman hero',\n",
       " 'bomberman ii',\n",
       " 'bomberman jetters',\n",
       " 'bomberman land',\n",
       " 'bomberman land touch!',\n",
       " 'bomberman land touch! 2',\n",
       " 'bomberman max 2: blue advance',\n",
       " 'bomberman max 2: red advance',\n",
       " 'bomberman party edition',\n",
       " 'bomberman story ds',\n",
       " 'bomberman tournament',\n",
       " 'bomberman world',\n",
       " 'bomberman: act zero',\n",
       " 'boogie',\n",
       " 'boogie superstar',\n",
       " 'book of spells',\n",
       " 'bookworm',\n",
       " 'bookworm deluxe',\n",
       " ...]"
      ]
     },
     "execution_count": 23,
     "metadata": {},
     "output_type": "execute_result"
    }
   ],
   "source": [
    "sorted(df['name'].unique())"
   ]
  },
  {
   "cell_type": "code",
   "execution_count": 24,
   "metadata": {},
   "outputs": [
    {
     "data": {
      "text/plain": [
       "11556"
      ]
     },
     "execution_count": 24,
     "metadata": {},
     "output_type": "execute_result"
    }
   ],
   "source": [
    "len(df['name'].unique())"
   ]
  },
  {
   "cell_type": "markdown",
   "metadata": {},
   "source": [
    "============================================================================================="
   ]
  },
  {
   "cell_type": "markdown",
   "metadata": {},
   "source": [
    "Ahora veamos si hay duplicados"
   ]
  },
  {
   "cell_type": "code",
   "execution_count": 25,
   "metadata": {},
   "outputs": [
    {
     "data": {
      "text/plain": [
       "np.int64(0)"
      ]
     },
     "execution_count": 25,
     "metadata": {},
     "output_type": "execute_result"
    }
   ],
   "source": [
    "df.duplicated().sum()"
   ]
  },
  {
   "cell_type": "markdown",
   "metadata": {},
   "source": [
    "No hay duplicados explícitos, pero puede haber duplicados implícitos. Un título puede ser considerado duplicado si tiene el mismo nombre, fue lanzado en la misma plataforma (ya que un título puede ser lanzado en varias plataformas y las ventas deberían de ponerse por separado) y el año de lanzamiento coincide (si el año de lanzamiento difiere, podría ser un re-make/re-master/etc., por lo que no sería lo mismo). Si coincide en todos, deberíamos de sumar las columnas de sus ventas antes de eliminar el duplicado."
   ]
  },
  {
   "cell_type": "code",
   "execution_count": 26,
   "metadata": {},
   "outputs": [
    {
     "data": {
      "text/plain": [
       "np.int64(1)"
      ]
     },
     "execution_count": 26,
     "metadata": {},
     "output_type": "execute_result"
    }
   ],
   "source": [
    "df.duplicated(['name','platform','year_of_release']).sum()"
   ]
  },
  {
   "cell_type": "markdown",
   "metadata": {},
   "source": [
    "Tenemos un solo caso, veamos cual es:"
   ]
  },
  {
   "cell_type": "code",
   "execution_count": 27,
   "metadata": {},
   "outputs": [
    {
     "data": {
      "text/html": [
       "<div>\n",
       "<style scoped>\n",
       "    .dataframe tbody tr th:only-of-type {\n",
       "        vertical-align: middle;\n",
       "    }\n",
       "\n",
       "    .dataframe tbody tr th {\n",
       "        vertical-align: top;\n",
       "    }\n",
       "\n",
       "    .dataframe thead th {\n",
       "        text-align: right;\n",
       "    }\n",
       "</style>\n",
       "<table border=\"1\" class=\"dataframe\">\n",
       "  <thead>\n",
       "    <tr style=\"text-align: right;\">\n",
       "      <th></th>\n",
       "      <th>name</th>\n",
       "      <th>platform</th>\n",
       "      <th>year_of_release</th>\n",
       "      <th>genre</th>\n",
       "      <th>na_sales</th>\n",
       "      <th>eu_sales</th>\n",
       "      <th>jp_sales</th>\n",
       "      <th>other_sales</th>\n",
       "      <th>critic_score</th>\n",
       "      <th>user_score</th>\n",
       "      <th>rating</th>\n",
       "    </tr>\n",
       "  </thead>\n",
       "  <tbody>\n",
       "    <tr>\n",
       "      <th>16230</th>\n",
       "      <td>madden nfl 13</td>\n",
       "      <td>PS3</td>\n",
       "      <td>2012.0</td>\n",
       "      <td>Sports</td>\n",
       "      <td>0.0</td>\n",
       "      <td>0.01</td>\n",
       "      <td>0.0</td>\n",
       "      <td>0.0</td>\n",
       "      <td>83.0</td>\n",
       "      <td>5.5</td>\n",
       "      <td>E</td>\n",
       "    </tr>\n",
       "  </tbody>\n",
       "</table>\n",
       "</div>"
      ],
      "text/plain": [
       "                name platform  year_of_release   genre  na_sales  eu_sales  \\\n",
       "16230  madden nfl 13      PS3           2012.0  Sports       0.0      0.01   \n",
       "\n",
       "       jp_sales  other_sales  critic_score  user_score rating  \n",
       "16230       0.0          0.0          83.0         5.5      E  "
      ]
     },
     "execution_count": 27,
     "metadata": {},
     "output_type": "execute_result"
    }
   ],
   "source": [
    "df[df.duplicated(['name','platform','year_of_release'])]"
   ]
  },
  {
   "cell_type": "code",
   "execution_count": 28,
   "metadata": {},
   "outputs": [
    {
     "data": {
      "text/html": [
       "<div>\n",
       "<style scoped>\n",
       "    .dataframe tbody tr th:only-of-type {\n",
       "        vertical-align: middle;\n",
       "    }\n",
       "\n",
       "    .dataframe tbody tr th {\n",
       "        vertical-align: top;\n",
       "    }\n",
       "\n",
       "    .dataframe thead th {\n",
       "        text-align: right;\n",
       "    }\n",
       "</style>\n",
       "<table border=\"1\" class=\"dataframe\">\n",
       "  <thead>\n",
       "    <tr style=\"text-align: right;\">\n",
       "      <th></th>\n",
       "      <th>name</th>\n",
       "      <th>platform</th>\n",
       "      <th>year_of_release</th>\n",
       "      <th>genre</th>\n",
       "      <th>na_sales</th>\n",
       "      <th>eu_sales</th>\n",
       "      <th>jp_sales</th>\n",
       "      <th>other_sales</th>\n",
       "      <th>critic_score</th>\n",
       "      <th>user_score</th>\n",
       "      <th>rating</th>\n",
       "    </tr>\n",
       "  </thead>\n",
       "  <tbody>\n",
       "    <tr>\n",
       "      <th>604</th>\n",
       "      <td>madden nfl 13</td>\n",
       "      <td>PS3</td>\n",
       "      <td>2012.0</td>\n",
       "      <td>Sports</td>\n",
       "      <td>2.11</td>\n",
       "      <td>0.22</td>\n",
       "      <td>0.0</td>\n",
       "      <td>0.23</td>\n",
       "      <td>83.0</td>\n",
       "      <td>5.5</td>\n",
       "      <td>E</td>\n",
       "    </tr>\n",
       "    <tr>\n",
       "      <th>16230</th>\n",
       "      <td>madden nfl 13</td>\n",
       "      <td>PS3</td>\n",
       "      <td>2012.0</td>\n",
       "      <td>Sports</td>\n",
       "      <td>0.00</td>\n",
       "      <td>0.01</td>\n",
       "      <td>0.0</td>\n",
       "      <td>0.00</td>\n",
       "      <td>83.0</td>\n",
       "      <td>5.5</td>\n",
       "      <td>E</td>\n",
       "    </tr>\n",
       "  </tbody>\n",
       "</table>\n",
       "</div>"
      ],
      "text/plain": [
       "                name platform  year_of_release   genre  na_sales  eu_sales  \\\n",
       "604    madden nfl 13      PS3           2012.0  Sports      2.11      0.22   \n",
       "16230  madden nfl 13      PS3           2012.0  Sports      0.00      0.01   \n",
       "\n",
       "       jp_sales  other_sales  critic_score  user_score rating  \n",
       "604         0.0         0.23          83.0         5.5      E  \n",
       "16230       0.0         0.00          83.0         5.5      E  "
      ]
     },
     "execution_count": 28,
     "metadata": {},
     "output_type": "execute_result"
    }
   ],
   "source": [
    "df[(df['name'] == 'madden nfl 13') & (df['platform']=='PS3')]"
   ]
  },
  {
   "cell_type": "code",
   "execution_count": 29,
   "metadata": {},
   "outputs": [],
   "source": [
    "df.iloc[604,5] += 0.01"
   ]
  },
  {
   "cell_type": "code",
   "execution_count": 30,
   "metadata": {},
   "outputs": [],
   "source": [
    "df = df.drop(index=16230)"
   ]
  },
  {
   "cell_type": "code",
   "execution_count": 31,
   "metadata": {},
   "outputs": [
    {
     "data": {
      "text/html": [
       "<div>\n",
       "<style scoped>\n",
       "    .dataframe tbody tr th:only-of-type {\n",
       "        vertical-align: middle;\n",
       "    }\n",
       "\n",
       "    .dataframe tbody tr th {\n",
       "        vertical-align: top;\n",
       "    }\n",
       "\n",
       "    .dataframe thead th {\n",
       "        text-align: right;\n",
       "    }\n",
       "</style>\n",
       "<table border=\"1\" class=\"dataframe\">\n",
       "  <thead>\n",
       "    <tr style=\"text-align: right;\">\n",
       "      <th></th>\n",
       "      <th>name</th>\n",
       "      <th>platform</th>\n",
       "      <th>year_of_release</th>\n",
       "      <th>genre</th>\n",
       "      <th>na_sales</th>\n",
       "      <th>eu_sales</th>\n",
       "      <th>jp_sales</th>\n",
       "      <th>other_sales</th>\n",
       "      <th>critic_score</th>\n",
       "      <th>user_score</th>\n",
       "      <th>rating</th>\n",
       "    </tr>\n",
       "  </thead>\n",
       "  <tbody>\n",
       "    <tr>\n",
       "      <th>604</th>\n",
       "      <td>madden nfl 13</td>\n",
       "      <td>PS3</td>\n",
       "      <td>2012.0</td>\n",
       "      <td>Sports</td>\n",
       "      <td>2.11</td>\n",
       "      <td>0.23</td>\n",
       "      <td>0.0</td>\n",
       "      <td>0.23</td>\n",
       "      <td>83.0</td>\n",
       "      <td>5.5</td>\n",
       "      <td>E</td>\n",
       "    </tr>\n",
       "  </tbody>\n",
       "</table>\n",
       "</div>"
      ],
      "text/plain": [
       "              name platform  year_of_release   genre  na_sales  eu_sales  \\\n",
       "604  madden nfl 13      PS3           2012.0  Sports      2.11      0.23   \n",
       "\n",
       "     jp_sales  other_sales  critic_score  user_score rating  \n",
       "604       0.0         0.23          83.0         5.5      E  "
      ]
     },
     "execution_count": 31,
     "metadata": {},
     "output_type": "execute_result"
    }
   ],
   "source": [
    "df[(df['name'] == 'madden nfl 13') & (df['platform']=='PS3')]"
   ]
  },
  {
   "cell_type": "markdown",
   "metadata": {},
   "source": [
    "Nuestros datos ya están limpios"
   ]
  },
  {
   "cell_type": "markdown",
   "metadata": {},
   "source": [
    "============================================================================================="
   ]
  },
  {
   "cell_type": "markdown",
   "metadata": {},
   "source": [
    "Para nuestro análisis más adelante nos convendría tener la venta total por juego, sumemos las 4 columnas de ventas y guardemos el resultado en una nueva columna:"
   ]
  },
  {
   "cell_type": "code",
   "execution_count": 32,
   "metadata": {},
   "outputs": [],
   "source": [
    "df['total_sales'] = df.loc[:,'na_sales':'other_sales'].sum(axis=1)"
   ]
  },
  {
   "cell_type": "code",
   "execution_count": 33,
   "metadata": {},
   "outputs": [
    {
     "data": {
      "text/html": [
       "<div>\n",
       "<style scoped>\n",
       "    .dataframe tbody tr th:only-of-type {\n",
       "        vertical-align: middle;\n",
       "    }\n",
       "\n",
       "    .dataframe tbody tr th {\n",
       "        vertical-align: top;\n",
       "    }\n",
       "\n",
       "    .dataframe thead th {\n",
       "        text-align: right;\n",
       "    }\n",
       "</style>\n",
       "<table border=\"1\" class=\"dataframe\">\n",
       "  <thead>\n",
       "    <tr style=\"text-align: right;\">\n",
       "      <th></th>\n",
       "      <th>name</th>\n",
       "      <th>platform</th>\n",
       "      <th>year_of_release</th>\n",
       "      <th>genre</th>\n",
       "      <th>na_sales</th>\n",
       "      <th>eu_sales</th>\n",
       "      <th>jp_sales</th>\n",
       "      <th>other_sales</th>\n",
       "      <th>critic_score</th>\n",
       "      <th>user_score</th>\n",
       "      <th>rating</th>\n",
       "      <th>total_sales</th>\n",
       "    </tr>\n",
       "  </thead>\n",
       "  <tbody>\n",
       "    <tr>\n",
       "      <th>0</th>\n",
       "      <td>wii sports</td>\n",
       "      <td>Wii</td>\n",
       "      <td>2006.0</td>\n",
       "      <td>Sports</td>\n",
       "      <td>41.36</td>\n",
       "      <td>28.96</td>\n",
       "      <td>3.77</td>\n",
       "      <td>8.45</td>\n",
       "      <td>76.0</td>\n",
       "      <td>8.0</td>\n",
       "      <td>E</td>\n",
       "      <td>82.54</td>\n",
       "    </tr>\n",
       "    <tr>\n",
       "      <th>1</th>\n",
       "      <td>super mario bros.</td>\n",
       "      <td>NES</td>\n",
       "      <td>1985.0</td>\n",
       "      <td>Platform</td>\n",
       "      <td>29.08</td>\n",
       "      <td>3.58</td>\n",
       "      <td>6.81</td>\n",
       "      <td>0.77</td>\n",
       "      <td>NaN</td>\n",
       "      <td>NaN</td>\n",
       "      <td>NaN</td>\n",
       "      <td>40.24</td>\n",
       "    </tr>\n",
       "    <tr>\n",
       "      <th>2</th>\n",
       "      <td>mario kart wii</td>\n",
       "      <td>Wii</td>\n",
       "      <td>2008.0</td>\n",
       "      <td>Racing</td>\n",
       "      <td>15.68</td>\n",
       "      <td>12.76</td>\n",
       "      <td>3.79</td>\n",
       "      <td>3.29</td>\n",
       "      <td>82.0</td>\n",
       "      <td>8.3</td>\n",
       "      <td>E</td>\n",
       "      <td>35.52</td>\n",
       "    </tr>\n",
       "    <tr>\n",
       "      <th>3</th>\n",
       "      <td>wii sports resort</td>\n",
       "      <td>Wii</td>\n",
       "      <td>2009.0</td>\n",
       "      <td>Sports</td>\n",
       "      <td>15.61</td>\n",
       "      <td>10.93</td>\n",
       "      <td>3.28</td>\n",
       "      <td>2.95</td>\n",
       "      <td>80.0</td>\n",
       "      <td>8.0</td>\n",
       "      <td>E</td>\n",
       "      <td>32.77</td>\n",
       "    </tr>\n",
       "    <tr>\n",
       "      <th>4</th>\n",
       "      <td>pokemon red/pokemon blue</td>\n",
       "      <td>GB</td>\n",
       "      <td>1996.0</td>\n",
       "      <td>Role-Playing</td>\n",
       "      <td>11.27</td>\n",
       "      <td>8.89</td>\n",
       "      <td>10.22</td>\n",
       "      <td>1.00</td>\n",
       "      <td>NaN</td>\n",
       "      <td>NaN</td>\n",
       "      <td>NaN</td>\n",
       "      <td>31.38</td>\n",
       "    </tr>\n",
       "    <tr>\n",
       "      <th>5</th>\n",
       "      <td>tetris</td>\n",
       "      <td>GB</td>\n",
       "      <td>1989.0</td>\n",
       "      <td>Puzzle</td>\n",
       "      <td>23.20</td>\n",
       "      <td>2.26</td>\n",
       "      <td>4.22</td>\n",
       "      <td>0.58</td>\n",
       "      <td>NaN</td>\n",
       "      <td>NaN</td>\n",
       "      <td>NaN</td>\n",
       "      <td>30.26</td>\n",
       "    </tr>\n",
       "    <tr>\n",
       "      <th>6</th>\n",
       "      <td>new super mario bros.</td>\n",
       "      <td>DS</td>\n",
       "      <td>2006.0</td>\n",
       "      <td>Platform</td>\n",
       "      <td>11.28</td>\n",
       "      <td>9.14</td>\n",
       "      <td>6.50</td>\n",
       "      <td>2.88</td>\n",
       "      <td>89.0</td>\n",
       "      <td>8.5</td>\n",
       "      <td>E</td>\n",
       "      <td>29.80</td>\n",
       "    </tr>\n",
       "    <tr>\n",
       "      <th>7</th>\n",
       "      <td>wii play</td>\n",
       "      <td>Wii</td>\n",
       "      <td>2006.0</td>\n",
       "      <td>Misc</td>\n",
       "      <td>13.96</td>\n",
       "      <td>9.18</td>\n",
       "      <td>2.93</td>\n",
       "      <td>2.84</td>\n",
       "      <td>58.0</td>\n",
       "      <td>6.6</td>\n",
       "      <td>E</td>\n",
       "      <td>28.91</td>\n",
       "    </tr>\n",
       "    <tr>\n",
       "      <th>8</th>\n",
       "      <td>new super mario bros. wii</td>\n",
       "      <td>Wii</td>\n",
       "      <td>2009.0</td>\n",
       "      <td>Platform</td>\n",
       "      <td>14.44</td>\n",
       "      <td>6.94</td>\n",
       "      <td>4.70</td>\n",
       "      <td>2.24</td>\n",
       "      <td>87.0</td>\n",
       "      <td>8.4</td>\n",
       "      <td>E</td>\n",
       "      <td>28.32</td>\n",
       "    </tr>\n",
       "    <tr>\n",
       "      <th>9</th>\n",
       "      <td>duck hunt</td>\n",
       "      <td>NES</td>\n",
       "      <td>1984.0</td>\n",
       "      <td>Shooter</td>\n",
       "      <td>26.93</td>\n",
       "      <td>0.63</td>\n",
       "      <td>0.28</td>\n",
       "      <td>0.47</td>\n",
       "      <td>NaN</td>\n",
       "      <td>NaN</td>\n",
       "      <td>NaN</td>\n",
       "      <td>28.31</td>\n",
       "    </tr>\n",
       "  </tbody>\n",
       "</table>\n",
       "</div>"
      ],
      "text/plain": [
       "                        name platform  year_of_release         genre  \\\n",
       "0                 wii sports      Wii           2006.0        Sports   \n",
       "1          super mario bros.      NES           1985.0      Platform   \n",
       "2             mario kart wii      Wii           2008.0        Racing   \n",
       "3          wii sports resort      Wii           2009.0        Sports   \n",
       "4   pokemon red/pokemon blue       GB           1996.0  Role-Playing   \n",
       "5                     tetris       GB           1989.0        Puzzle   \n",
       "6      new super mario bros.       DS           2006.0      Platform   \n",
       "7                   wii play      Wii           2006.0          Misc   \n",
       "8  new super mario bros. wii      Wii           2009.0      Platform   \n",
       "9                  duck hunt      NES           1984.0       Shooter   \n",
       "\n",
       "   na_sales  eu_sales  jp_sales  other_sales  critic_score  user_score rating  \\\n",
       "0     41.36     28.96      3.77         8.45          76.0         8.0      E   \n",
       "1     29.08      3.58      6.81         0.77           NaN         NaN    NaN   \n",
       "2     15.68     12.76      3.79         3.29          82.0         8.3      E   \n",
       "3     15.61     10.93      3.28         2.95          80.0         8.0      E   \n",
       "4     11.27      8.89     10.22         1.00           NaN         NaN    NaN   \n",
       "5     23.20      2.26      4.22         0.58           NaN         NaN    NaN   \n",
       "6     11.28      9.14      6.50         2.88          89.0         8.5      E   \n",
       "7     13.96      9.18      2.93         2.84          58.0         6.6      E   \n",
       "8     14.44      6.94      4.70         2.24          87.0         8.4      E   \n",
       "9     26.93      0.63      0.28         0.47           NaN         NaN    NaN   \n",
       "\n",
       "   total_sales  \n",
       "0        82.54  \n",
       "1        40.24  \n",
       "2        35.52  \n",
       "3        32.77  \n",
       "4        31.38  \n",
       "5        30.26  \n",
       "6        29.80  \n",
       "7        28.91  \n",
       "8        28.32  \n",
       "9        28.31  "
      ]
     },
     "execution_count": 33,
     "metadata": {},
     "output_type": "execute_result"
    }
   ],
   "source": [
    "df.head(10)"
   ]
  },
  {
   "cell_type": "markdown",
   "metadata": {},
   "source": [
    "También convendría pasar a una misma escala el `critic_score` y `user_score`"
   ]
  },
  {
   "cell_type": "code",
   "execution_count": 34,
   "metadata": {},
   "outputs": [],
   "source": [
    "df['user_score'] *= 10"
   ]
  },
  {
   "cell_type": "markdown",
   "metadata": {},
   "source": [
    "### Paso 3. Analiza los datos\n",
    "\n",
    "- Mira cuántos juegos fueron lanzados en diferentes años. ¿Son significativos los datos de cada período?\n"
   ]
  },
  {
   "cell_type": "code",
   "execution_count": 35,
   "metadata": {},
   "outputs": [],
   "source": [
    "import matplotlib.pyplot as plt"
   ]
  },
  {
   "cell_type": "code",
   "execution_count": 36,
   "metadata": {},
   "outputs": [
    {
     "data": {
      "image/png": "[encoded data removed]",
      "text/plain": [
       "<Figure size 640x480 with 1 Axes>"
      ]
     },
     "metadata": {},
     "output_type": "display_data"
    }
   ],
   "source": [
    "df.groupby('year_of_release')['name'].count().plot(kind='bar',title=\"Juegos vendidos por año\",xlabel='año',ylabel='total de juegos vendidos')\n",
    "\n",
    "plt.show()"
   ]
  },
  {
   "cell_type": "markdown",
   "metadata": {},
   "source": [
    "Hay muy pocos juegos lanzados en la década de los 80, y en la década de los 90 va creciendo cada la cantidad de juegos lanzados."
   ]
  },
  {
   "cell_type": "markdown",
   "metadata": {},
   "source": [
    "- Observa cómo varían las ventas de una plataforma a otra. Elige las plataformas con las mayores ventas totales y construye una distribución basada en los datos de cada año. Busca las plataformas que solían ser populares pero que ahora no tienen ventas. ¿Cuánto tardan generalmente las nuevas plataformas en aparecer y las antiguas en desaparecer?\n"
   ]
  },
  {
   "cell_type": "code",
   "execution_count": 37,
   "metadata": {},
   "outputs": [
    {
     "data": {
      "text/plain": [
       "platform\n",
       "PS2     1255.77\n",
       "X360     971.42\n",
       "PS3      939.65\n",
       "Wii      907.51\n",
       "DS       806.12\n",
       "PS       730.86\n",
       "GBA      317.85\n",
       "PS4      314.14\n",
       "PSP      294.05\n",
       "PC       259.52\n",
       "3DS      259.00\n",
       "XB       257.74\n",
       "GB       255.46\n",
       "NES      251.05\n",
       "N64      218.68\n",
       "SNES     200.04\n",
       "GC       198.93\n",
       "XOne     159.32\n",
       "2600      96.98\n",
       "WiiU      82.19\n",
       "PSV       54.07\n",
       "SAT       33.59\n",
       "GEN       28.35\n",
       "DC        15.95\n",
       "SCD        1.86\n",
       "NG         1.44\n",
       "WS         1.42\n",
       "TG16       0.16\n",
       "3DO        0.10\n",
       "GG         0.04\n",
       "PCFX       0.03\n",
       "Name: total_sales, dtype: float64"
      ]
     },
     "execution_count": 37,
     "metadata": {},
     "output_type": "execute_result"
    }
   ],
   "source": [
    "df.groupby('platform')['total_sales'].sum().sort_values(ascending=False)"
   ]
  },
  {
   "cell_type": "markdown",
   "metadata": {},
   "source": [
    "El mercado está dominado por la familia de consolas de `PlayStation`, si hacemos un gráfico con las 6 plataformas con mayores ventas en sus juegos, 3 de ellas son de `PlayStation` por lo que nos daría la idea de cómo `SONY` maneja sus ciclos de consola, y no de las otras compañías. Hagamos mejor un gráfico para cada una de las `familias de consolas` (por cada compañía), para eso primero voy a investigar de qué compñía es cada consola y haré una función para crear una nueva columna que nos indique la compañía a la que pertenese la consola."
   ]
  },
  {
   "cell_type": "code",
   "execution_count": 38,
   "metadata": {},
   "outputs": [],
   "source": [
    "def company_sort (rating):\n",
    "    if rating in ['3DS','DS','GB','GBA','GC','N64','NES','SNES','Wii','WiiU']:\n",
    "        return \"Nintendo\"\n",
    "    elif rating in ['PC']:\n",
    "        return \"PC\"\n",
    "    elif rating in ['PS','PS2','PS3','PS4','PSP','PSV']:\n",
    "        return \"PlayStation\"\n",
    "    elif rating in ['X360','XB','XOne']:\n",
    "        return \"XBox\"\n",
    "    else:\n",
    "        return \"Other\"\n",
    "        \n",
    "df['company'] = df['platform'].apply(company_sort)"
   ]
  },
  {
   "cell_type": "code",
   "execution_count": 39,
   "metadata": {},
   "outputs": [],
   "source": [
    "companies = ['Nintendo','XBox','PlayStation','Other']"
   ]
  },
  {
   "cell_type": "code",
   "execution_count": 40,
   "metadata": {},
   "outputs": [
    {
     "data": {
      "image/png": "[encoded data removed]",
      "text/plain": [
       "<Figure size 2000x2000 with 4 Axes>"
      ]
     },
     "metadata": {},
     "output_type": "display_data"
    }
   ],
   "source": [
    "plt.figure(figsize=(20,20))\n",
    "for i,company in enumerate(companies,start=1):\n",
    "    plt.subplot(2,2,i)\n",
    "    selected_platforms = df[df['company']==company].groupby('platform')['total_sales'].sum().sort_values(ascending=False).head(5).index.to_list() #filtro por compañía y selecciono las 5 plataformas con más ventas en la compañía\n",
    "    df_selected = df[df['year_of_release']!=np.nan].query('platform in @selected_platforms') #ignoro los juegos para los que no tengo información del año y filtro por las plataformas seleccionadas\n",
    "    df_selected.pivot_table(values='name',index='year_of_release',columns='platform',aggfunc='count').plot(kind='bar',ax=plt.gca(),title=f\"{company}\",xlabel='año',ylabel='Total de ventas (millones de dólares)') #hago el barplot\n",
    "\n",
    "plt.tight_layout()\n",
    "plt.show()"
   ]
  },
  {
   "cell_type": "markdown",
   "metadata": {},
   "source": [
    "Podemos ver que las plataformas (consolas) tienen un ciclo de alrededor de 10 años, alcanzando sus ventas máximas alrededor de la mitad, teniendo una distribución de ventas parecida a una normal."
   ]
  },
  {
   "cell_type": "markdown",
   "metadata": {},
   "source": [
    "- Determina para qué período debes tomar datos. Para hacerlo mira tus respuestas a las preguntas anteriores. Los datos deberían permitirte construir un modelo para 2017.\n"
   ]
  },
  {
   "cell_type": "markdown",
   "metadata": {},
   "source": [
    "Observando que las consolas tienen un periodo de vida de alrededor de 10 años (máximo unos 15), podríamos tomar datos a partir del inicio del milenio para darnos una idea para lo que sucederá en 2017."
   ]
  },
  {
   "cell_type": "markdown",
   "metadata": {},
   "source": [
    "- Trabaja solo con los datos que consideras relevantes. Ignora los datos de años anteriores.\n"
   ]
  },
  {
   "cell_type": "code",
   "execution_count": 41,
   "metadata": {},
   "outputs": [],
   "source": [
    "df_2000 = df[df['year_of_release'] >= 2000]"
   ]
  },
  {
   "cell_type": "markdown",
   "metadata": {},
   "source": [
    "- ¿Qué plataformas son líderes en ventas? ¿Cuáles crecen y cuáles se reducen? Elige varias plataformas potencialmente rentables.\n"
   ]
  },
  {
   "cell_type": "code",
   "execution_count": 42,
   "metadata": {},
   "outputs": [
    {
     "data": {
      "text/plain": [
       "platform\n",
       "PS2     1233.56\n",
       "X360     961.24\n",
       "PS3      931.34\n",
       "Wii      891.18\n",
       "DS       802.76\n",
       "PS4      314.14\n",
       "GBA      312.88\n",
       "PSP      289.53\n",
       "3DS      257.81\n",
       "XB       251.57\n",
       "PC       205.72\n",
       "GC       196.73\n",
       "XOne     159.32\n",
       "PS       140.70\n",
       "WiiU      82.19\n",
       "PSV       53.81\n",
       "N64       37.30\n",
       "GB        29.00\n",
       "DC         7.41\n",
       "WS         0.96\n",
       "Name: total_sales, dtype: float64"
      ]
     },
     "execution_count": 42,
     "metadata": {},
     "output_type": "execute_result"
    }
   ],
   "source": [
    "df_2000.groupby('platform')['total_sales'].sum().sort_values(ascending=False)"
   ]
  },
  {
   "cell_type": "markdown",
   "metadata": {},
   "source": [
    "Los lideres en ventas son PS2, X360, PS3, Wii y DS, en ese orden. Pero el ciclo de las nuevas plataformas apenas está empezando, esto es PS4, XOne y WiiU."
   ]
  },
  {
   "cell_type": "markdown",
   "metadata": {},
   "source": [
    "- Crea un diagrama de caja para las ventas globales de todos los juegos, desglosados por plataforma. ¿Son significativas las diferencias en las ventas? ¿Qué sucede con las ventas promedio en varias plataformas? Describe tus hallazgos.\n"
   ]
  },
  {
   "cell_type": "code",
   "execution_count": 43,
   "metadata": {},
   "outputs": [
    {
     "data": {
      "image/png": "[encoded data removed]",
      "text/plain": [
       "<Figure size 2000x1000 with 1 Axes>"
      ]
     },
     "metadata": {},
     "output_type": "display_data"
    }
   ],
   "source": [
    "df_2000.pivot_table(values='total_sales',index='year_of_release',columns='platform',aggfunc='sum').plot(kind='box',rot=45,figsize=(20,10),ylabel=\"Total de ventas (millones de dólares)\")\n",
    "plt.show()"
   ]
  },
  {
   "cell_type": "markdown",
   "metadata": {},
   "source": [
    "Hay mucha varianza en las ventas de las plataformas más exitosas, por obvias razones:\n",
    "- Como todas las plataformas, empiezan con muy pocas ventas.\n",
    "- Como son exitosas, rápidamente suben mucho sus ventas.\n",
    "- Por lo general, para estas plataformas ya pasó su ciclo de vida, por lo que otra vez disminuyen sus ventas, por eso hay tanta varianza.\n",
    "\n",
    "\n",
    "Para otras consolas que no fueron tan exitosas o apenas comienzan su ciclo de vida, la varianza es mucho menor.\n",
    "\n",
    "El caso de la `PC` es muy diferente a los demás. Las consolas se vuelven viejas y sale una nueva generación de consola, y sus ventas las ponemos otra vez en otra categoría. Pero las computadoras son tan diversas, cada vez están saliendo nuevos componentes y nuevas laptops y gabinetes, pero la clasificación del juego lanzado para PC nunca va a cambiar. En cierta forma, la `PC` es la consola con el ciclo de vida más largo."
   ]
  },
  {
   "cell_type": "markdown",
   "metadata": {},
   "source": [
    "- Mira cómo las reseñas de usuarios y profesionales afectan las ventas de una plataforma popular (tu elección). Crea un gráfico de dispersión y calcula la correlación entre las reseñas y las ventas. Saca conclusiones.\n"
   ]
  },
  {
   "cell_type": "code",
   "execution_count": 44,
   "metadata": {},
   "outputs": [
    {
     "data": {
      "image/png": "[encoded data removed]",
      "text/plain": [
       "<Figure size 2000x800 with 2 Axes>"
      ]
     },
     "metadata": {},
     "output_type": "display_data"
    }
   ],
   "source": [
    "df_ps2 = df[df['platform']=='PS2']\n",
    "\n",
    "plt.figure(figsize=(20,8))\n",
    "\n",
    "plt.subplot(1,2,1)\n",
    "df_ps2.plot(kind='scatter',y='critic_score',x='total_sales',ax=plt.gca(),ylabel='Calificación sobre 100',xlabel='Ventas totales (millones de dólares)',title='Profesionales vs Ventas',ylim=(0,100))\n",
    "plt.subplot(1,2,2)\n",
    "df_ps2.plot(kind='scatter',y='user_score',x='total_sales',ax=plt.gca(),ylabel='Calificación sobre 100',xlabel='Ventas totales (millones de dólares)',title='Usuarios vs Ventas',ylim=(0,100))\n",
    "\n",
    "plt.show()"
   ]
  },
  {
   "cell_type": "markdown",
   "metadata": {},
   "source": [
    "Se ve que sí hay cierta correlación entre ventas y reseñas. Mientras más alta la reseña, hay más puntos cada vez más hacia la derecha. Aunque la mayoría de los juegos siguen estando con relativamente pocas ventas no importa su reseña. Veamos que dicen los números:"
   ]
  },
  {
   "cell_type": "code",
   "execution_count": 45,
   "metadata": {},
   "outputs": [
    {
     "data": {
      "text/plain": [
       "np.float64(0.39543454945454865)"
      ]
     },
     "execution_count": 45,
     "metadata": {},
     "output_type": "execute_result"
    }
   ],
   "source": [
    "df_ps2['critic_score'].corr(df_ps2['total_sales'])"
   ]
  },
  {
   "cell_type": "code",
   "execution_count": 46,
   "metadata": {},
   "outputs": [
    {
     "data": {
      "text/plain": [
       "np.float64(0.17286551112058185)"
      ]
     },
     "execution_count": 46,
     "metadata": {},
     "output_type": "execute_result"
    }
   ],
   "source": [
    "df_ps2['user_score'].corr(df_ps2['total_sales'])"
   ]
  },
  {
   "cell_type": "markdown",
   "metadata": {},
   "source": [
    "Hay mucho menos correlación con las reseñas de los usuarios que con las reseñas de los profesionales. Es una correlación débil, pero si la hay."
   ]
  },
  {
   "cell_type": "markdown",
   "metadata": {},
   "source": [
    "- Teniendo en cuenta tus conclusiones compara las ventas de los mismos juegos en otras plataformas.\n"
   ]
  },
  {
   "cell_type": "code",
   "execution_count": 47,
   "metadata": {},
   "outputs": [],
   "source": [
    "columns = ['name','platform','total_sales','total_sales_ps2','critic_score','user_score','critic_score_ps2','user_score_ps2']"
   ]
  },
  {
   "cell_type": "code",
   "execution_count": 48,
   "metadata": {},
   "outputs": [],
   "source": [
    "df_same_games = df.merge(df_ps2,how='right',on='name',suffixes=[None,'_ps2'])[columns]"
   ]
  },
  {
   "cell_type": "markdown",
   "metadata": {},
   "source": [
    "Voy a seleccionar los 10 juegos con más versiones en distintas plataformas:"
   ]
  },
  {
   "cell_type": "code",
   "execution_count": 49,
   "metadata": {},
   "outputs": [
    {
     "data": {
      "text/plain": [
       "name\n",
       "need for speed: most wanted                12\n",
       "ratatouille                                 9\n",
       "madden nfl 07                               9\n",
       "monopoly                                    8\n",
       "cars                                        8\n",
       "lego star wars ii: the original trilogy     8\n",
       "madden nfl 08                               8\n",
       "xgra: extreme g racing association          8\n",
       "tomb raider: legend                         7\n",
       "spider man 3                                7\n",
       "Name: count, dtype: int64"
      ]
     },
     "execution_count": 49,
     "metadata": {},
     "output_type": "execute_result"
    }
   ],
   "source": [
    "top_10_different_platforms = df_same_games['name'].value_counts().sort_values(ascending=False).head(10)\n",
    "top_10_different_platforms"
   ]
  },
  {
   "cell_type": "code",
   "execution_count": 50,
   "metadata": {},
   "outputs": [
    {
     "data": {
      "text/plain": [
       "Index(['need for speed: most wanted', 'ratatouille', 'madden nfl 07',\n",
       "       'monopoly', 'cars', 'lego star wars ii: the original trilogy',\n",
       "       'madden nfl 08', 'xgra: extreme g racing association',\n",
       "       'tomb raider: legend', 'spider man 3'],\n",
       "      dtype='object', name='name')"
      ]
     },
     "execution_count": 50,
     "metadata": {},
     "output_type": "execute_result"
    }
   ],
   "source": [
    "top_10_different_platforms = top_10_different_platforms.index\n",
    "top_10_different_platforms"
   ]
  },
  {
   "cell_type": "code",
   "execution_count": 51,
   "metadata": {},
   "outputs": [],
   "source": [
    "df_top_10 = df_same_games.query(\"name in @top_10_different_platforms\")"
   ]
  },
  {
   "cell_type": "code",
   "execution_count": 52,
   "metadata": {},
   "outputs": [
    {
     "data": {
      "image/png": "[encoded data removed]",
      "text/plain": [
       "<Figure size 2000x1000 with 1 Axes>"
      ]
     },
     "metadata": {},
     "output_type": "display_data"
    }
   ],
   "source": [
    "df_top_10.pivot_table(values='total_sales',index='name',columns='platform',aggfunc='sum').plot(kind='barh',figsize=(20,10),ylabel='Millions of dollars in sales')\n",
    "\n",
    "plt.show()"
   ]
  },
  {
   "cell_type": "markdown",
   "metadata": {},
   "source": [
    "Vemos como en casi todas, el `PS2` es donde ha tenido más ganancia. Pero coincide que mientras más alto está en PS2, por lo general las otras ventas también están más altas comparando con otros juegos.\n",
    "La exepción es `monopoly` que por alguna razón en el `PS2` tuvo malas ventas y `xgra: extreme g raciong association` en donde el `PS2` es la única plataforma que tuvo buenas ventas."
   ]
  },
  {
   "cell_type": "markdown",
   "metadata": {},
   "source": [
    "- Echa un vistazo a la distribución general de los juegos por género. ¿Qué se puede decir de los géneros más rentables? ¿Puedes generalizar acerca de los géneros con ventas altas y bajas?"
   ]
  },
  {
   "cell_type": "code",
   "execution_count": 53,
   "metadata": {},
   "outputs": [
    {
     "data": {
      "image/png": "[encoded data removed]",
      "text/plain": [
       "<Figure size 2000x1000 with 1 Axes>"
      ]
     },
     "metadata": {},
     "output_type": "display_data"
    }
   ],
   "source": [
    "df.pivot_table(values='total_sales',index='year_of_release',columns='genre',aggfunc='sum').plot(kind='line',figsize=(20,10),colormap='tab20')\n",
    "\n",
    "plt.show()"
   ]
  },
  {
   "cell_type": "markdown",
   "metadata": {},
   "source": [
    "    - Los juegos de estrategia nunca han vendido mucho, al igual que los de simulación.\n",
    "    - Los juegos de RPG fueron muy populares alrededor de 1995, pero en general están en el promedio\n",
    "    - Los más vendidos desde el 2000 han sido los de acción y deportes, seguidos por los de tipo shooter.\n",
    "    - Pero en los 80's y 90's los más populares fueron los de plataforma. Cerca de 1985 también hubo un pico de popularidad de shooter, y cerca de 1990 los juegos de puzzle eran muy populares, superando incluso a los de plataforma."
   ]
  },
  {
   "cell_type": "markdown",
   "metadata": {},
   "source": [
    "### Paso 4. Crea un perfil de usuario para cada región\n",
    "\n",
    "Para cada región (NA, UE, JP) determina:\n"
   ]
  },
  {
   "cell_type": "markdown",
   "metadata": {},
   "source": [
    "\n",
    "#### Las cinco plataformas principales. Describe las variaciones en sus cuotas de mercado de una región a otra.\n"
   ]
  },
  {
   "cell_type": "markdown",
   "metadata": {},
   "source": [
    "##### Norteamérica"
   ]
  },
  {
   "cell_type": "code",
   "execution_count": 54,
   "metadata": {},
   "outputs": [
    {
     "data": {
      "text/plain": [
       "platform\n",
       "X360    595.74\n",
       "PS2     572.92\n",
       "Wii     486.87\n",
       "PS3     390.13\n",
       "DS      380.31\n",
       "Name: na_sales, dtype: float64"
      ]
     },
     "execution_count": 54,
     "metadata": {},
     "output_type": "execute_result"
    }
   ],
   "source": [
    "top_platforms_na = df_2000.groupby('platform')['na_sales'].sum().sort_values(ascending=False).head()\n",
    "top_platforms_na"
   ]
  },
  {
   "cell_type": "markdown",
   "metadata": {},
   "source": [
    "Estas son las 5 marcas principales de Norteamérica, veamos qué porcentaje representa."
   ]
  },
  {
   "cell_type": "code",
   "execution_count": 55,
   "metadata": {},
   "outputs": [
    {
     "data": {
      "text/plain": [
       "platform\n",
       "X360    16.878352\n",
       "PS2     16.231822\n",
       "Wii     13.793875\n",
       "PS3     11.053063\n",
       "DS      10.774845\n",
       "Name: na_sales, dtype: float64"
      ]
     },
     "execution_count": 55,
     "metadata": {},
     "output_type": "execute_result"
    }
   ],
   "source": [
    "top_platforms_na/df_2000['na_sales'].sum()*100"
   ]
  },
  {
   "cell_type": "code",
   "execution_count": 56,
   "metadata": {},
   "outputs": [
    {
     "data": {
      "text/plain": [
       "np.float64(68.73195622179222)"
      ]
     },
     "execution_count": 56,
     "metadata": {},
     "output_type": "execute_result"
    }
   ],
   "source": [
    "(top_platforms_na/df_2000['na_sales'].sum()*100).sum()"
   ]
  },
  {
   "cell_type": "markdown",
   "metadata": {},
   "source": [
    "- X360  ->  16.88%\n",
    "- PS2   ->  16.23%\n",
    "- Wii   ->  13.79%\n",
    "- PS3   ->  11.05%\n",
    "- DS    ->  10.77%\n",
    "- Suma  ->  68.73% del total de ventas de toda la región"
   ]
  },
  {
   "cell_type": "markdown",
   "metadata": {},
   "source": [
    "##### Europa"
   ]
  },
  {
   "cell_type": "code",
   "execution_count": 57,
   "metadata": {},
   "outputs": [
    {
     "data": {
      "text/plain": [
       "platform\n",
       "PS2     332.63\n",
       "PS3     327.21\n",
       "X360    268.32\n",
       "Wii     258.32\n",
       "DS      188.41\n",
       "Name: eu_sales, dtype: float64"
      ]
     },
     "execution_count": 57,
     "metadata": {},
     "output_type": "execute_result"
    }
   ],
   "source": [
    "top_platforms_eu = df_2000.groupby('platform')['eu_sales'].sum().sort_values(ascending=False).head()\n",
    "top_platforms_eu"
   ]
  },
  {
   "cell_type": "markdown",
   "metadata": {},
   "source": [
    "Estas son las 5 marcas principales de Europa, veamos qué porcentaje representa."
   ]
  },
  {
   "cell_type": "code",
   "execution_count": 58,
   "metadata": {},
   "outputs": [
    {
     "data": {
      "text/plain": [
       "platform\n",
       "PS2     15.948811\n",
       "PS3     15.688935\n",
       "X360    12.865301\n",
       "Wii     12.385825\n",
       "DS       9.033808\n",
       "Name: eu_sales, dtype: float64"
      ]
     },
     "execution_count": 58,
     "metadata": {},
     "output_type": "execute_result"
    }
   ],
   "source": [
    "top_platforms_eu/df_2000['eu_sales'].sum()*100"
   ]
  },
  {
   "cell_type": "code",
   "execution_count": 59,
   "metadata": {},
   "outputs": [
    {
     "data": {
      "text/plain": [
       "np.float64(65.92267969562862)"
      ]
     },
     "execution_count": 59,
     "metadata": {},
     "output_type": "execute_result"
    }
   ],
   "source": [
    "(top_platforms_eu/df_2000['eu_sales'].sum()*100).sum()"
   ]
  },
  {
   "cell_type": "markdown",
   "metadata": {},
   "source": [
    "- PS2   ->  15.95%\n",
    "- PS3   ->  15.69%\n",
    "- X360  ->  12.87%\n",
    "- Wii   ->  12.39%\n",
    "- DS    ->   9.03%\n",
    "- Suma  ->  65.92%"
   ]
  },
  {
   "cell_type": "markdown",
   "metadata": {},
   "source": [
    "Interesante que X360 domine el mercado Norteamericano, en cambio en Europa baja hasta atrás de los PlayStation. También el mercado en Europa es un poco más variado, el top 5 abarca menos porcentaje del total de ventas comparado con NA."
   ]
  },
  {
   "cell_type": "markdown",
   "metadata": {},
   "source": [
    "##### Japón"
   ]
  },
  {
   "cell_type": "code",
   "execution_count": 60,
   "metadata": {},
   "outputs": [
    {
     "data": {
      "text/plain": [
       "platform\n",
       "DS     175.00\n",
       "PS2    137.54\n",
       "3DS    100.62\n",
       "PS3     79.41\n",
       "PSP     75.88\n",
       "Name: jp_sales, dtype: float64"
      ]
     },
     "execution_count": 60,
     "metadata": {},
     "output_type": "execute_result"
    }
   ],
   "source": [
    "top_platforms_jp = df_2000.groupby('platform')['jp_sales'].sum().sort_values(ascending=False).head()\n",
    "top_platforms_jp"
   ]
  },
  {
   "cell_type": "markdown",
   "metadata": {},
   "source": [
    "Estas son las 5 marcas principales de Japón, veamos qué porcentaje representa."
   ]
  },
  {
   "cell_type": "code",
   "execution_count": 61,
   "metadata": {},
   "outputs": [
    {
     "data": {
      "text/plain": [
       "platform\n",
       "DS     21.450810\n",
       "PS2    16.859111\n",
       "3DS    12.333603\n",
       "PS3     9.733765\n",
       "PSP     9.301071\n",
       "Name: jp_sales, dtype: float64"
      ]
     },
     "execution_count": 61,
     "metadata": {},
     "output_type": "execute_result"
    }
   ],
   "source": [
    "top_platforms_jp/df_2000['jp_sales'].sum()*100"
   ]
  },
  {
   "cell_type": "code",
   "execution_count": 62,
   "metadata": {},
   "outputs": [
    {
     "data": {
      "text/plain": [
       "np.float64(69.67836042264224)"
      ]
     },
     "execution_count": 62,
     "metadata": {},
     "output_type": "execute_result"
    }
   ],
   "source": [
    "(top_platforms_jp/df_2000['jp_sales'].sum()*100).sum()"
   ]
  },
  {
   "cell_type": "markdown",
   "metadata": {},
   "source": [
    "- DS    ->  21.45%\n",
    "- PS2   ->  16.86%\n",
    "- 3DS   ->  12.33%\n",
    "- PS3   ->   9.73%\n",
    "- PSP   ->   9.30%\n",
    "- Suma  ->  69.68%"
   ]
  },
  {
   "cell_type": "markdown",
   "metadata": {},
   "source": [
    "El mercado japonés es totalmente diferente a los otros 2 mercados. Nintendo tiene dominado el mercado con sus productos DS y 3DS, le sigue PlayStation (hasta aparece el PSP) y no hay rastro alguno de X360. Es interesante que 3 de los top 5 sean consolas portatiles."
   ]
  },
  {
   "cell_type": "markdown",
   "metadata": {},
   "source": [
    "#### Los cinco géneros principales. Explica la diferencia.\n"
   ]
  },
  {
   "cell_type": "code",
   "execution_count": 63,
   "metadata": {},
   "outputs": [
    {
     "data": {
      "text/plain": [
       "genre\n",
       "Action          21.313120\n",
       "Sports          16.698445\n",
       "Shooter         14.030729\n",
       "Misc            10.348735\n",
       "Role-Playing     7.998051\n",
       "Name: na_sales, dtype: float64"
      ]
     },
     "execution_count": 63,
     "metadata": {},
     "output_type": "execute_result"
    }
   ],
   "source": [
    "df_2000.groupby('genre')['na_sales'].sum().sort_values(ascending=False).head()/df_2000['na_sales'].sum()*100"
   ]
  },
  {
   "cell_type": "code",
   "execution_count": 64,
   "metadata": {},
   "outputs": [
    {
     "data": {
      "text/plain": [
       "genre\n",
       "Action     22.371393\n",
       "Sports     16.282047\n",
       "Shooter    14.097554\n",
       "Misc        9.431773\n",
       "Racing      9.206899\n",
       "Name: eu_sales, dtype: float64"
      ]
     },
     "execution_count": 64,
     "metadata": {},
     "output_type": "execute_result"
    }
   ],
   "source": [
    "df_2000.groupby('genre')['eu_sales'].sum().sort_values(ascending=False).head()/df_2000['eu_sales'].sum()*100"
   ]
  },
  {
   "cell_type": "code",
   "execution_count": 65,
   "metadata": {},
   "outputs": [
    {
     "data": {
      "text/plain": [
       "genre\n",
       "Role-Playing    29.627859\n",
       "Action          16.208232\n",
       "Misc            10.471673\n",
       "Sports           9.301071\n",
       "Platform         6.774779\n",
       "Name: jp_sales, dtype: float64"
      ]
     },
     "execution_count": 65,
     "metadata": {},
     "output_type": "execute_result"
    }
   ],
   "source": [
    "df_2000.groupby('genre')['jp_sales'].sum().sort_values(ascending=False).head()/df_2000['jp_sales'].sum()*100"
   ]
  },
  {
   "cell_type": "markdown",
   "metadata": {},
   "source": [
    "El mercado europeo y norteamericano se comportan de manera muy similar, la unica diferencia es el género que está en 5to lugar, para NA es Role-Playing y para EU es Racing.\n",
    "\n",
    "El mercado japonés una vez más se comporta muy distinto. Role-Playing es su género más popular, mientras en NA está en 5to lugar y en EU no está en el top 5. Aunque Action sigue estando bastante arriba, en el 2do lugar comparado con el 1er lugar en las otras 2 regiones."
   ]
  },
  {
   "cell_type": "markdown",
   "metadata": {},
   "source": [
    "#### Si las clasificaciones de ESRB afectan a las ventas en regiones individuales."
   ]
  },
  {
   "cell_type": "code",
   "execution_count": 66,
   "metadata": {},
   "outputs": [
    {
     "data": {
      "text/plain": [
       "rating\n",
       "E       41.158931\n",
       "M       23.978571\n",
       "T       23.387509\n",
       "E10+    11.383067\n",
       "EC       0.050408\n",
       "Name: na_sales, dtype: float64"
      ]
     },
     "execution_count": 66,
     "metadata": {},
     "output_type": "execute_result"
    }
   ],
   "source": [
    "df_2000.groupby('rating')['na_sales'].sum().sort_values(ascending=False).head()/df_2000[~df_2000['rating'].isna()]['na_sales'].sum()*100"
   ]
  },
  {
   "cell_type": "code",
   "execution_count": 67,
   "metadata": {},
   "outputs": [
    {
     "data": {
      "text/plain": [
       "rating\n",
       "E       39.694793\n",
       "M       27.152546\n",
       "T       22.572135\n",
       "E10+    10.537418\n",
       "AO       0.035062\n",
       "Name: eu_sales, dtype: float64"
      ]
     },
     "execution_count": 67,
     "metadata": {},
     "output_type": "execute_result"
    }
   ],
   "source": [
    "df_2000.groupby('rating')['eu_sales'].sum().sort_values(ascending=False).head()/df_2000[~df_2000['rating'].isna()]['eu_sales'].sum()*100"
   ]
  },
  {
   "cell_type": "code",
   "execution_count": 68,
   "metadata": {},
   "outputs": [
    {
     "data": {
      "text/plain": [
       "rating\n",
       "E       45.328910\n",
       "T       31.270288\n",
       "M       13.805614\n",
       "E10+     9.595188\n",
       "AO       0.000000\n",
       "Name: jp_sales, dtype: float64"
      ]
     },
     "execution_count": 68,
     "metadata": {},
     "output_type": "execute_result"
    }
   ],
   "source": [
    "df_2000.groupby('rating')['jp_sales'].sum().sort_values(ascending=False).head()/df_2000[~df_2000['rating'].isna()]['jp_sales'].sum()*100"
   ]
  },
  {
   "cell_type": "markdown",
   "metadata": {},
   "source": [
    "En japón disminuyen considerablemente las ventas de juegos con rating \"M\" comparado con el resto del mundo. En cambio en Europa los juegos \"M\" tienen mayor porcentaje (comparado con las otras 2 regiones) del total de ventas."
   ]
  },
  {
   "cell_type": "code",
   "execution_count": 69,
   "metadata": {},
   "outputs": [],
   "source": [
    "import scipy.stats as st"
   ]
  },
  {
   "cell_type": "markdown",
   "metadata": {},
   "source": [
    "### Paso 5. Prueba las siguientes hipótesis:\n",
    "\n",
    "- Las calificaciones promedio de los usuarios para las plataformas Xbox One y PC son las mismas.\n",
    "\n",
    "- Las calificaciones promedio de los usuarios para los géneros de Acción y Deportes son diferentes.\n",
    "\n",
    "Establece tu mismo el valor de umbral alfa.\n",
    "\n",
    "Explica:\n",
    "\n",
    "- Cómo formulaste las hipótesis nula y alternativa.\n",
    "\n",
    "- Qué criterio utilizaste para probar las hipótesis y por qué."
   ]
  },
  {
   "cell_type": "markdown",
   "metadata": {},
   "source": [
    "En ambos casos queremos ver si ambas poblaciones tienen el mismo promedio o no. Para eso hay 2 pruebas, una es el T-Test y el otro es Mann-WhitneyU. El `T-Test` lo podemos usar sólo si ambas poblaciones siguen una distribución de tipo normal y homoscedasticitidad (varianzas iguales). Si no es así, tendremos que ver si siguen la misma distribución (por lo tanto tener la misma media) con la prueba `Mann-WhitneyU`.\n",
    "\n",
    "Para probar si una población tiene una distribución normal, podemos usar el test `shapiro`. Y para la homoscedasticitidad de dos poblaciones podemos usar el test `levene`."
   ]
  },
  {
   "cell_type": "code",
   "execution_count": 70,
   "metadata": {},
   "outputs": [],
   "source": [
    "def test_normality(data):\n",
    "    statistic, p_value = st.shapiro(data)\n",
    "    print(f\"p-value:{p_value:.6f}\")\n",
    "    if p_value < 0.05:\n",
    "        print(\"Rechazamos la hipotesis nula -> Los datos no están distribuidos normalmente.\")\n",
    "    else:\n",
    "        print(\"No se puede rechazar la hipotesis nula -> Aceptamos que los datos están distribuidos normalmente.\")"
   ]
  },
  {
   "cell_type": "markdown",
   "metadata": {},
   "source": [
    "$H_0$: Los datos están distribuidos normalmente.\\\n",
    "$H_1$: Los datos no están distribuidos normalmente.\\\n",
    "$\\alpha=0.05$ Si el $p-value > 0.05$ aceptamos la hipótesis nula, sino, la tenemos que rechazar."
   ]
  },
  {
   "cell_type": "code",
   "execution_count": 71,
   "metadata": {},
   "outputs": [],
   "source": [
    "def test_homoscedasticity(data1,data2):\n",
    "    statistic, p_value = st.levene(data1,data2)\n",
    "    print(f\"p-value:{p_value:.6f}\")\n",
    "    if p_value < 0.05:\n",
    "        print(\"Rechazamos la hipotesis nula -> Los datos no tienen homoscedasticitidad.\")\n",
    "    else:\n",
    "        print(\"No se puede rechazar la hipotesis nula -> Aceptamos que los datos tienen homoscedasticitidad.\")"
   ]
  },
  {
   "cell_type": "markdown",
   "metadata": {},
   "source": [
    "$H_0$: Los datos tienen la misma varianza.\\\n",
    "$H_1$: Los datos no tienen la misma varianza.\\\n",
    "$\\alpha=0.05$ Si el $p-value > 0.05$ aceptamos la hipótesis nula, sino, la tenemos que rechazar."
   ]
  },
  {
   "cell_type": "markdown",
   "metadata": {},
   "source": [
    "Obtenemos los datos de las calificaciones de los usuarios para las plataformas Xbox One y PC de todo el dataset, pero sólo para aquellos títulos de los que tengamos una calificación de usuario.\\\n",
    "Apliquemos los tests."
   ]
  },
  {
   "cell_type": "code",
   "execution_count": 72,
   "metadata": {},
   "outputs": [],
   "source": [
    "cal_promedio_usuario_XOne = df[(df['platform']=='XOne')&(~df['user_score'].isna())]['user_score']\n",
    "cal_promedio_usuario_PC = df[(df['platform']=='PC')&(~df['user_score'].isna())]['user_score']"
   ]
  },
  {
   "cell_type": "code",
   "execution_count": 73,
   "metadata": {},
   "outputs": [
    {
     "name": "stdout",
     "output_type": "stream",
     "text": [
      "p-value:0.000015\n",
      "Rechazamos la hipotesis nula -> Los datos no están distribuidos normalmente.\n"
     ]
    }
   ],
   "source": [
    "test_normality(cal_promedio_usuario_XOne)"
   ]
  },
  {
   "cell_type": "code",
   "execution_count": 74,
   "metadata": {},
   "outputs": [
    {
     "name": "stdout",
     "output_type": "stream",
     "text": [
      "p-value:0.000000\n",
      "Rechazamos la hipotesis nula -> Los datos no están distribuidos normalmente.\n"
     ]
    }
   ],
   "source": [
    "test_normality(cal_promedio_usuario_PC)"
   ]
  },
  {
   "cell_type": "code",
   "execution_count": 75,
   "metadata": {},
   "outputs": [
    {
     "name": "stdout",
     "output_type": "stream",
     "text": [
      "p-value:0.269395\n",
      "No se puede rechazar la hipotesis nula -> Aceptamos que los datos tienen homoscedasticitidad.\n"
     ]
    }
   ],
   "source": [
    "test_homoscedasticity(cal_promedio_usuario_XOne,cal_promedio_usuario_PC)"
   ]
  },
  {
   "cell_type": "markdown",
   "metadata": {},
   "source": [
    "No siguen una distribución normal, pero sí tienen una varianza igual. Apliquemos el test `Mann-WhitneyU` para verificar si nuestros datos vienen de la misma distribución, y por lo tanto tendrían la misma media:"
   ]
  },
  {
   "cell_type": "code",
   "execution_count": 76,
   "metadata": {},
   "outputs": [],
   "source": [
    "statistic, p_value = st.mannwhitneyu(cal_promedio_usuario_XOne,cal_promedio_usuario_PC)"
   ]
  },
  {
   "cell_type": "code",
   "execution_count": 77,
   "metadata": {},
   "outputs": [
    {
     "data": {
      "text/plain": [
       "np.float64(1.2410720835179343e-08)"
      ]
     },
     "execution_count": 77,
     "metadata": {},
     "output_type": "execute_result"
    }
   ],
   "source": [
    "p_value"
   ]
  },
  {
   "cell_type": "markdown",
   "metadata": {},
   "source": [
    "$H_0$: Los datos vienen de una misma distribución, por lo tanto tienen misma media.\\\n",
    "$H_1$: Los datos no vienen de una misma distribución, pero tienen la misma varianza, por lo tanto no tienen la misma media.\\\n",
    "Nuestro $p-value$ es menor que $\\alpha=0.05$, por lo tanto rechazamos la hipótesis nula y aceptamos la hipótesis alternativa -> Nuestros datos no tienen la misma media."
   ]
  },
  {
   "cell_type": "markdown",
   "metadata": {},
   "source": [
    "La razón por la que escogí el valor de $\\alpha=0.05$ es por que no necesito un nivel de exigencia muy alto. Hasta donde tengo información, es aceptable equivocarse en el 5% de los casos. Aunque si hubiera escogido el valor de $\\alpha=0.01$, aún así debería rechazar la hipótesis nula, ya que el p-value es todavía menor que eso.\\\n",
    "Voy a escoger el mismo alpha para el siguiente conjunto de datos."
   ]
  },
  {
   "cell_type": "markdown",
   "metadata": {},
   "source": [
    "Obtenemos las calificaciones de los usuarios para los géneros de Acción y Deportes"
   ]
  },
  {
   "cell_type": "code",
   "execution_count": 78,
   "metadata": {},
   "outputs": [
    {
     "data": {
      "text/plain": [
       "16       82.0\n",
       "17       90.0\n",
       "23       81.0\n",
       "24       87.0\n",
       "38       85.0\n",
       "         ... \n",
       "16652    85.0\n",
       "16654    51.0\n",
       "16660    67.0\n",
       "16663    24.0\n",
       "16692    76.0\n",
       "Name: user_score, Length: 1830, dtype: float64"
      ]
     },
     "execution_count": 78,
     "metadata": {},
     "output_type": "execute_result"
    }
   ],
   "source": [
    "cal_promedio_usuario_accion = df[(df['genre']=='Action')&(~df['user_score'].isna())]['user_score']\n",
    "cal_promedio_usuario_accion"
   ]
  },
  {
   "cell_type": "code",
   "execution_count": 79,
   "metadata": {},
   "outputs": [
    {
     "data": {
      "text/plain": [
       "0        80.0\n",
       "3        80.0\n",
       "13       77.0\n",
       "15       74.0\n",
       "77       43.0\n",
       "         ... \n",
       "16450    45.0\n",
       "16518    14.0\n",
       "16528    69.0\n",
       "16546    95.0\n",
       "16643    66.0\n",
       "Name: user_score, Length: 1102, dtype: float64"
      ]
     },
     "execution_count": 79,
     "metadata": {},
     "output_type": "execute_result"
    }
   ],
   "source": [
    "cal_promedio_usuario_deportes = df[(df['genre']=='Sports')&(~df['user_score'].isna())]['user_score']\n",
    "cal_promedio_usuario_deportes"
   ]
  },
  {
   "cell_type": "markdown",
   "metadata": {},
   "source": [
    "Verifiquemos si son datos que siguen una distribución normal:"
   ]
  },
  {
   "cell_type": "code",
   "execution_count": 80,
   "metadata": {},
   "outputs": [
    {
     "name": "stdout",
     "output_type": "stream",
     "text": [
      "p-value:0.000000\n",
      "Rechazamos la hipotesis nula -> Los datos no están distribuidos normalmente.\n"
     ]
    }
   ],
   "source": [
    "test_normality(cal_promedio_usuario_accion)"
   ]
  },
  {
   "cell_type": "code",
   "execution_count": 81,
   "metadata": {},
   "outputs": [
    {
     "name": "stdout",
     "output_type": "stream",
     "text": [
      "p-value:0.000000\n",
      "Rechazamos la hipotesis nula -> Los datos no están distribuidos normalmente.\n"
     ]
    }
   ],
   "source": [
    "test_normality(cal_promedio_usuario_deportes)"
   ]
  },
  {
   "cell_type": "markdown",
   "metadata": {},
   "source": [
    "No están distribuidos normalmente, verifiquemos sus varianzas."
   ]
  },
  {
   "cell_type": "code",
   "execution_count": 82,
   "metadata": {},
   "outputs": [
    {
     "name": "stdout",
     "output_type": "stream",
     "text": [
      "p-value:0.000186\n",
      "Rechazamos la hipotesis nula -> Los datos no tienen homoscedasticitidad.\n"
     ]
    }
   ],
   "source": [
    "test_homoscedasticity(cal_promedio_usuario_deportes,cal_promedio_usuario_accion)"
   ]
  },
  {
   "cell_type": "markdown",
   "metadata": {},
   "source": [
    "También tienen distintas varianzas, pero es posible que nos equivoquemos en el 1.86% de las veces.\\\n",
    "Apliquemos el test `Mann-WhitneyU`."
   ]
  },
  {
   "cell_type": "code",
   "execution_count": 83,
   "metadata": {},
   "outputs": [],
   "source": [
    "statistic, p_value = st.mannwhitneyu(cal_promedio_usuario_accion,cal_promedio_usuario_deportes)"
   ]
  },
  {
   "cell_type": "code",
   "execution_count": 84,
   "metadata": {},
   "outputs": [
    {
     "data": {
      "text/plain": [
       "np.float64(0.7404840524626071)"
      ]
     },
     "execution_count": 84,
     "metadata": {},
     "output_type": "execute_result"
    }
   ],
   "source": [
    "p_value"
   ]
  },
  {
   "cell_type": "markdown",
   "metadata": {},
   "source": [
    "$H_0$: Los datos vienen de una misma distribución, por lo tanto tienen misma media.\\\n",
    "$H_1$: Los datos no vienen de una misma distribución, por lo tanto no tienen la misma media.\\\n",
    "Nuestro $p-value$ es mayor que $\\alpha=0.05$, por lo tanto no tenemos los datos necesarios para rechazar la hipótesis nula -> asumimos que siguen la misma distribución, y por lo tanto tienen la misma media."
   ]
  },
  {
   "cell_type": "markdown",
   "metadata": {},
   "source": [
    "Es interesante cómo los géneros de Acción y Deportes tienden a tener las misma calificaciónes por los usuarios. Tal vez los desarrolladores se esfuerzan bastante en hacer que esos juegos sean buenos, ya que si es buen juego vende mucho, ya que son los dos géneros que más popularidad tienen en casi todo el mundo."
   ]
  }
 ],
 "metadata": {
  "kernelspec": {
   "display_name": "Python 3",
   "language": "python",
   "name": "python3"
  },
  "language_info": {
   "codemirror_mode": {
    "name": "ipython",
    "version": 3
   },
   "file_extension": ".py",
   "mimetype": "text/x-python",
   "name": "python",
   "nbconvert_exporter": "python",
   "pygments_lexer": "ipython3",
   "version": "3.13.1"
  }
 },
 "nbformat": 4,
 "nbformat_minor": 2
}
